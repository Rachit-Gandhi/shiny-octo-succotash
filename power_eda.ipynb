{
 "cells": [
  {
   "cell_type": "code",
   "execution_count": 11,
   "metadata": {},
   "outputs": [],
   "source": [
    "import pandas as pd\n",
    "import numpy as np\n",
    "import matplotlib.pyplot as plt"
   ]
  },
  {
   "cell_type": "code",
   "execution_count": 12,
   "metadata": {},
   "outputs": [
    {
     "data": {
      "text/html": [
       "<div>\n",
       "<style scoped>\n",
       "    .dataframe tbody tr th:only-of-type {\n",
       "        vertical-align: middle;\n",
       "    }\n",
       "\n",
       "    .dataframe tbody tr th {\n",
       "        vertical-align: top;\n",
       "    }\n",
       "\n",
       "    .dataframe thead th {\n",
       "        text-align: right;\n",
       "    }\n",
       "</style>\n",
       "<table border=\"1\" class=\"dataframe\">\n",
       "  <thead>\n",
       "    <tr style=\"text-align: right;\">\n",
       "      <th></th>\n",
       "      <th>Material</th>\n",
       "      <th>Customer</th>\n",
       "      <th>Movement type</th>\n",
       "      <th>Posting Date</th>\n",
       "      <th>MBG Quantity</th>\n",
       "      <th>SM3 Quantity</th>\n",
       "      <th>Qty (MMSCMD)</th>\n",
       "      <th>Customer Name</th>\n",
       "      <th>Customer Location</th>\n",
       "    </tr>\n",
       "  </thead>\n",
       "  <tbody>\n",
       "    <tr>\n",
       "      <th>0</th>\n",
       "      <td>GMS_GGS1_4</td>\n",
       "      <td>10333.0</td>\n",
       "      <td>601.0</td>\n",
       "      <td>1-Apr-20</td>\n",
       "      <td>-25,343.609</td>\n",
       "      <td>-679,414.000</td>\n",
       "      <td>0.679</td>\n",
       "      <td>NTPC LTD</td>\n",
       "      <td>BHARUCH_N.T.P.C LIMITED(10333 NGSGU</td>\n",
       "    </tr>\n",
       "    <tr>\n",
       "      <th>1</th>\n",
       "      <td>GMS_GGS1_4</td>\n",
       "      <td>10333.0</td>\n",
       "      <td>601.0</td>\n",
       "      <td>1-Apr-20</td>\n",
       "      <td>-4,827.422</td>\n",
       "      <td>-129,414.000</td>\n",
       "      <td>0.129</td>\n",
       "      <td>NTPC LTD</td>\n",
       "      <td>BHARUCH_N.T.P.C LIMITED(10333 NGSGU</td>\n",
       "    </tr>\n",
       "    <tr>\n",
       "      <th>2</th>\n",
       "      <td>GMS_GGS1_4</td>\n",
       "      <td>10333.0</td>\n",
       "      <td>602.0</td>\n",
       "      <td>1-Apr-20</td>\n",
       "      <td>4,827.422</td>\n",
       "      <td>129,414.000</td>\n",
       "      <td>0.129</td>\n",
       "      <td>NTPC LTD</td>\n",
       "      <td>BHARUCH_N.T.P.C LIMITED(10333 NGSGU</td>\n",
       "    </tr>\n",
       "    <tr>\n",
       "      <th>3</th>\n",
       "      <td>GMS_NCG</td>\n",
       "      <td>10333.0</td>\n",
       "      <td>601.0</td>\n",
       "      <td>1-Apr-20</td>\n",
       "      <td>-448.409</td>\n",
       "      <td>-12,021.000</td>\n",
       "      <td>0.012</td>\n",
       "      <td>NTPC LTD</td>\n",
       "      <td>BHARUCH_N.T.P.C LIMITED(10333 NGSGU</td>\n",
       "    </tr>\n",
       "    <tr>\n",
       "      <th>4</th>\n",
       "      <td>GMS_NCG</td>\n",
       "      <td>10333.0</td>\n",
       "      <td>601.0</td>\n",
       "      <td>1-Apr-20</td>\n",
       "      <td>-448.409</td>\n",
       "      <td>-12,021.000</td>\n",
       "      <td>0.012</td>\n",
       "      <td>NTPC LTD</td>\n",
       "      <td>BHARUCH_N.T.P.C LIMITED(10333 NGSGU</td>\n",
       "    </tr>\n",
       "  </tbody>\n",
       "</table>\n",
       "</div>"
      ],
      "text/plain": [
       "     Material  Customer  Movement type Posting Date MBG Quantity  \\\n",
       "0  GMS_GGS1_4   10333.0          601.0     1-Apr-20  -25,343.609   \n",
       "1  GMS_GGS1_4   10333.0          601.0     1-Apr-20   -4,827.422   \n",
       "2  GMS_GGS1_4   10333.0          602.0     1-Apr-20    4,827.422   \n",
       "3     GMS_NCG   10333.0          601.0     1-Apr-20     -448.409   \n",
       "4     GMS_NCG   10333.0          601.0     1-Apr-20     -448.409   \n",
       "\n",
       "   SM3 Quantity  Qty (MMSCMD) Customer Name  \\\n",
       "0  -679,414.000         0.679      NTPC LTD   \n",
       "1  -129,414.000         0.129      NTPC LTD   \n",
       "2   129,414.000         0.129      NTPC LTD   \n",
       "3   -12,021.000         0.012      NTPC LTD   \n",
       "4   -12,021.000         0.012      NTPC LTD   \n",
       "\n",
       "                     Customer Location  \n",
       "0  BHARUCH_N.T.P.C LIMITED(10333 NGSGU  \n",
       "1  BHARUCH_N.T.P.C LIMITED(10333 NGSGU  \n",
       "2  BHARUCH_N.T.P.C LIMITED(10333 NGSGU  \n",
       "3  BHARUCH_N.T.P.C LIMITED(10333 NGSGU  \n",
       "4  BHARUCH_N.T.P.C LIMITED(10333 NGSGU  "
      ]
     },
     "execution_count": 12,
     "metadata": {},
     "output_type": "execute_result"
    }
   ],
   "source": [
    "df = pd.read_csv('Power_Data.csv')\n",
    "df.head()"
   ]
  },
  {
   "cell_type": "code",
   "execution_count": 13,
   "metadata": {},
   "outputs": [
    {
     "name": "stdout",
     "output_type": "stream",
     "text": [
      "<class 'pandas.core.frame.DataFrame'>\n",
      "RangeIndex: 35392 entries, 0 to 35391\n",
      "Data columns (total 9 columns):\n",
      " #   Column             Non-Null Count  Dtype  \n",
      "---  ------             --------------  -----  \n",
      " 0   Material           35391 non-null  object \n",
      " 1   Customer           35391 non-null  float64\n",
      " 2   Movement type      35391 non-null  float64\n",
      " 3   Posting Date       35391 non-null  object \n",
      " 4   MBG Quantity       35391 non-null  object \n",
      " 5   SM3 Quantity       35391 non-null  object \n",
      " 6   Qty (MMSCMD)       35391 non-null  float64\n",
      " 7   Customer Name      35391 non-null  object \n",
      " 8   Customer Location  35391 non-null  object \n",
      "dtypes: float64(3), object(6)\n",
      "memory usage: 2.4+ MB\n"
     ]
    }
   ],
   "source": [
    "df.info()"
   ]
  },
  {
   "cell_type": "code",
   "execution_count": 14,
   "metadata": {},
   "outputs": [],
   "source": [
    "df_copy = df.copy()\n",
    "df.drop(['Material', 'Movement type', 'MBG Quantity', 'SM3 Quantity','Customer Name'], axis=1, inplace=True)"
   ]
  },
  {
   "cell_type": "code",
   "execution_count": 17,
   "metadata": {},
   "outputs": [
    {
     "data": {
      "text/plain": [
       "Index(['Material', 'Customer', 'Movement type', 'Posting Date', 'MBG Quantity',\n",
       "       'SM3 Quantity', 'Qty (MMSCMD)', 'Customer Name', 'Customer Location'],\n",
       "      dtype='object')"
      ]
     },
     "execution_count": 17,
     "metadata": {},
     "output_type": "execute_result"
    }
   ],
   "source": [
    "df_copy.columns"
   ]
  },
  {
   "cell_type": "code",
   "execution_count": 19,
   "metadata": {},
   "outputs": [
    {
     "name": "stderr",
     "output_type": "stream",
     "text": [
      "C:\\Users\\rachitgandhi2\\AppData\\Local\\Temp\\ipykernel_17212\\2205674619.py:1: DeprecationWarning: DataFrameGroupBy.apply operated on the grouping columns. This behavior is deprecated, and in a future version of pandas the grouping columns will be excluded from the operation. Either pass `include_groups=False` to exclude the groupings or explicitly select the grouping columns after groupby to silence this warning.\n",
      "  id_mapping = df_copy.groupby('Customer').apply(lambda x:x[['Customer Name','Customer Location']].to_dict('records')).to_dict\n"
     ]
    },
    {
     "name": "stdout",
     "output_type": "stream",
     "text": [
      "<bound method Series.to_dict of Customer\n",
      "10054.0    [{'Customer Name': 'Caparo Power Private Limit...\n",
      "10114.0    [{'Customer Name': 'PRAGATI POWER CORP. LTD.',...\n",
      "10150.0    [{'Customer Name': 'Tamil Nadu Generation & Di...\n",
      "10151.0    [{'Customer Name': 'Arkay Energy (Rameswaram) ...\n",
      "10226.0    [{'Customer Name': 'INDRAPRASTH POWER GEN. COM...\n",
      "10282.0    [{'Customer Name': 'Maharashtra State Power Ge...\n",
      "10307.0    [{'Customer Name': 'Caparo Power Private Limit...\n",
      "10331.0    [{'Customer Name': 'NTPC Ltd', 'Customer Locat...\n",
      "10333.0    [{'Customer Name': 'NTPC LTD', 'Customer Locat...\n",
      "10335.0    [{'Customer Name': 'N.T.P.C LTD.', 'Customer L...\n",
      "10336.0    [{'Customer Name': 'NTPC LTD', 'Customer Locat...\n",
      "10337.0    [{'Customer Name': 'NTPC LTD', 'Customer Locat...\n",
      "10347.0    [{'Customer Name': 'MMS STEEL & POWER PVT LTD'...\n",
      "10353.0    [{'Customer Name': 'Caparo Power Private Limit...\n",
      "10371.0    [{'Customer Name': 'Shell Energy India Private...\n",
      "10377.0    [{'Customer Name': 'PRAGATI POWER CORP. LTD.',...\n",
      "10394.0    [{'Customer Name': 'Tamil Nadu Generation & Di...\n",
      "10527.0    [{'Customer Name': 'Shell Energy India Private...\n",
      "10529.0    [{'Customer Name': 'Rajasthan Rajya Vidyut Utp...\n",
      "10530.0    [{'Customer Name': 'Caparo Power Private Limit...\n",
      "10539.0    [{'Customer Name': 'The Tata Power Co. Ltd.', ...\n",
      "10545.0    [{'Customer Name': 'OPG ENERGY PRIVATE LTD', '...\n",
      "10636.0    [{'Customer Name': 'NTPC LTD', 'Customer Locat...\n",
      "10785.0    [{'Customer Name': 'Tamil Nadu Generation & Di...\n",
      "10895.0    [{'Customer Name': 'Rajasthan Rajya Vidyut Utp...\n",
      "10915.0    [{'Customer Name': 'Ratnagiri Gas & Power Priv...\n",
      "11067.0    [{'Customer Name': 'PRAGATI POWER CORP. LTD.',...\n",
      "11144.0    [{'Customer Name': 'Caparo Power Private Limit...\n",
      "11165.0    [{'Customer Name': 'Pragati Power Corporation ...\n",
      "11172.0    [{'Customer Name': 'Gama Infraprop Private Lim...\n",
      "11173.0    [{'Customer Name': 'SRAVANTHI ENERGY PRIVATE L...\n",
      "12011.0    [{'Customer Name': 'Torrent Power Limited', 'C...\n",
      "13816.0    [{'Customer Name': 'KPC Gas Power Corporation'...\n",
      "50933.0    [{'Customer Name': 'Shell Energy India Private...\n",
      "dtype: object>\n"
     ]
    }
   ],
   "source": [
    "id_mapping = df_copy.groupby('Customer').apply(lambda x:x[['Customer Name','Customer Location']].to_dict('records')).to_dict\n",
    "print(id_mapping)\n"
   ]
  },
  {
   "cell_type": "code",
   "execution_count": 28,
   "metadata": {},
   "outputs": [],
   "source": [
    "def search_id(id_to_search,id_mapping):\n",
    "    if id_to_search in id_mapping:\n",
    "        results = id_mapping[id_to_search]\n",
    "        if results.len == 1:\n",
    "            print(\"One entry found:\\n\")\n",
    "            print(\"ID: {id_to_search}:\\t Name: {results[0]['Customer Name']}\\\\t Address: {results[0]['Customer Location']}\")\n",
    "        else:\n",
    "            print('Multiple or No Entries Found')"
   ]
  },
  {
   "cell_type": "code",
   "execution_count": 33,
   "metadata": {},
   "outputs": [
    {
     "ename": "TypeError",
     "evalue": "argument of type 'method' is not iterable",
     "output_type": "error",
     "traceback": [
      "\u001b[1;31m---------------------------------------------------------------------------\u001b[0m",
      "\u001b[1;31mTypeError\u001b[0m                                 Traceback (most recent call last)",
      "Cell \u001b[1;32mIn[33], line 1\u001b[0m\n\u001b[1;32m----> 1\u001b[0m \u001b[43msearch_id\u001b[49m\u001b[43m(\u001b[49m\u001b[38;5;241;43m10333\u001b[39;49m\u001b[43m,\u001b[49m\u001b[43mid_mapping\u001b[49m\u001b[43m)\u001b[49m\n",
      "Cell \u001b[1;32mIn[28], line 2\u001b[0m, in \u001b[0;36msearch_id\u001b[1;34m(id_to_search, id_mapping)\u001b[0m\n\u001b[0;32m      1\u001b[0m \u001b[38;5;28;01mdef\u001b[39;00m \u001b[38;5;21msearch_id\u001b[39m(id_to_search,id_mapping):\n\u001b[1;32m----> 2\u001b[0m     \u001b[38;5;28;01mif\u001b[39;00m \u001b[43mid_to_search\u001b[49m\u001b[43m \u001b[49m\u001b[38;5;129;43;01min\u001b[39;49;00m\u001b[43m \u001b[49m\u001b[43mid_mapping\u001b[49m:\n\u001b[0;32m      3\u001b[0m         results \u001b[38;5;241m=\u001b[39m id_mapping[id_to_search]\n\u001b[0;32m      4\u001b[0m         \u001b[38;5;28;01mif\u001b[39;00m results\u001b[38;5;241m.\u001b[39mlen \u001b[38;5;241m==\u001b[39m \u001b[38;5;241m1\u001b[39m:\n",
      "\u001b[1;31mTypeError\u001b[0m: argument of type 'method' is not iterable"
     ]
    }
   ],
   "source": [
    "search_id(10333,id_mapping)"
   ]
  }
 ],
 "metadata": {
  "kernelspec": {
   "display_name": "Python 3",
   "language": "python",
   "name": "python3"
  },
  "language_info": {
   "codemirror_mode": {
    "name": "ipython",
    "version": 3
   },
   "file_extension": ".py",
   "mimetype": "text/x-python",
   "name": "python",
   "nbconvert_exporter": "python",
   "pygments_lexer": "ipython3",
   "version": "3.11.9"
  }
 },
 "nbformat": 4,
 "nbformat_minor": 2
}

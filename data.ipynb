{
 "cells": [
  {
   "cell_type": "code",
   "execution_count": 16,
   "metadata": {},
   "outputs": [
    {
     "name": "stdout",
     "output_type": "stream",
     "text": [
      "Requirement already satisfied: numpy in c:\\users\\krishna\\.conda\\envs\\data_fort\\lib\\site-packages (2.0.0)\n",
      "Requirement already satisfied: pandas in c:\\users\\krishna\\.conda\\envs\\data_fort\\lib\\site-packages (2.2.2)\n",
      "Requirement already satisfied: numpy>=1.26.0 in c:\\users\\krishna\\.conda\\envs\\data_fort\\lib\\site-packages (from pandas) (2.0.0)\n",
      "Requirement already satisfied: python-dateutil>=2.8.2 in c:\\users\\krishna\\.conda\\envs\\data_fort\\lib\\site-packages (from pandas) (2.9.0)\n",
      "Requirement already satisfied: pytz>=2020.1 in c:\\users\\krishna\\.conda\\envs\\data_fort\\lib\\site-packages (from pandas) (2024.1)\n",
      "Requirement already satisfied: tzdata>=2022.7 in c:\\users\\krishna\\.conda\\envs\\data_fort\\lib\\site-packages (from pandas) (2024.1)\n",
      "Requirement already satisfied: six>=1.5 in c:\\users\\krishna\\.conda\\envs\\data_fort\\lib\\site-packages (from python-dateutil>=2.8.2->pandas) (1.16.0)\n",
      "Requirement already satisfied: matplotlib in c:\\users\\krishna\\.conda\\envs\\data_fort\\lib\\site-packages (3.9.1)\n",
      "Requirement already satisfied: contourpy>=1.0.1 in c:\\users\\krishna\\.conda\\envs\\data_fort\\lib\\site-packages (from matplotlib) (1.2.1)\n",
      "Requirement already satisfied: cycler>=0.10 in c:\\users\\krishna\\.conda\\envs\\data_fort\\lib\\site-packages (from matplotlib) (0.12.1)\n",
      "Requirement already satisfied: fonttools>=4.22.0 in c:\\users\\krishna\\.conda\\envs\\data_fort\\lib\\site-packages (from matplotlib) (4.53.1)\n",
      "Requirement already satisfied: kiwisolver>=1.3.1 in c:\\users\\krishna\\.conda\\envs\\data_fort\\lib\\site-packages (from matplotlib) (1.4.5)\n",
      "Requirement already satisfied: numpy>=1.23 in c:\\users\\krishna\\.conda\\envs\\data_fort\\lib\\site-packages (from matplotlib) (2.0.0)\n",
      "Requirement already satisfied: packaging>=20.0 in c:\\users\\krishna\\.conda\\envs\\data_fort\\lib\\site-packages (from matplotlib) (24.1)\n",
      "Requirement already satisfied: pillow>=8 in c:\\users\\krishna\\.conda\\envs\\data_fort\\lib\\site-packages (from matplotlib) (10.4.0)\n",
      "Requirement already satisfied: pyparsing>=2.3.1 in c:\\users\\krishna\\.conda\\envs\\data_fort\\lib\\site-packages (from matplotlib) (3.1.2)\n",
      "Requirement already satisfied: python-dateutil>=2.7 in c:\\users\\krishna\\.conda\\envs\\data_fort\\lib\\site-packages (from matplotlib) (2.9.0)\n",
      "Requirement already satisfied: six>=1.5 in c:\\users\\krishna\\.conda\\envs\\data_fort\\lib\\site-packages (from python-dateutil>=2.7->matplotlib) (1.16.0)\n",
      "Requirement already satisfied: seaborn in c:\\users\\krishna\\.conda\\envs\\data_fort\\lib\\site-packages (0.13.2)\n",
      "Requirement already satisfied: numpy!=1.24.0,>=1.20 in c:\\users\\krishna\\.conda\\envs\\data_fort\\lib\\site-packages (from seaborn) (2.0.0)\n",
      "Requirement already satisfied: pandas>=1.2 in c:\\users\\krishna\\.conda\\envs\\data_fort\\lib\\site-packages (from seaborn) (2.2.2)\n",
      "Requirement already satisfied: matplotlib!=3.6.1,>=3.4 in c:\\users\\krishna\\.conda\\envs\\data_fort\\lib\\site-packages (from seaborn) (3.9.1)\n",
      "Requirement already satisfied: contourpy>=1.0.1 in c:\\users\\krishna\\.conda\\envs\\data_fort\\lib\\site-packages (from matplotlib!=3.6.1,>=3.4->seaborn) (1.2.1)\n",
      "Requirement already satisfied: cycler>=0.10 in c:\\users\\krishna\\.conda\\envs\\data_fort\\lib\\site-packages (from matplotlib!=3.6.1,>=3.4->seaborn) (0.12.1)\n",
      "Requirement already satisfied: fonttools>=4.22.0 in c:\\users\\krishna\\.conda\\envs\\data_fort\\lib\\site-packages (from matplotlib!=3.6.1,>=3.4->seaborn) (4.53.1)\n",
      "Requirement already satisfied: kiwisolver>=1.3.1 in c:\\users\\krishna\\.conda\\envs\\data_fort\\lib\\site-packages (from matplotlib!=3.6.1,>=3.4->seaborn) (1.4.5)\n",
      "Requirement already satisfied: packaging>=20.0 in c:\\users\\krishna\\.conda\\envs\\data_fort\\lib\\site-packages (from matplotlib!=3.6.1,>=3.4->seaborn) (24.1)\n",
      "Requirement already satisfied: pillow>=8 in c:\\users\\krishna\\.conda\\envs\\data_fort\\lib\\site-packages (from matplotlib!=3.6.1,>=3.4->seaborn) (10.4.0)\n",
      "Requirement already satisfied: pyparsing>=2.3.1 in c:\\users\\krishna\\.conda\\envs\\data_fort\\lib\\site-packages (from matplotlib!=3.6.1,>=3.4->seaborn) (3.1.2)\n",
      "Requirement already satisfied: python-dateutil>=2.7 in c:\\users\\krishna\\.conda\\envs\\data_fort\\lib\\site-packages (from matplotlib!=3.6.1,>=3.4->seaborn) (2.9.0)\n",
      "Requirement already satisfied: pytz>=2020.1 in c:\\users\\krishna\\.conda\\envs\\data_fort\\lib\\site-packages (from pandas>=1.2->seaborn) (2024.1)\n",
      "Requirement already satisfied: tzdata>=2022.7 in c:\\users\\krishna\\.conda\\envs\\data_fort\\lib\\site-packages (from pandas>=1.2->seaborn) (2024.1)\n",
      "Requirement already satisfied: six>=1.5 in c:\\users\\krishna\\.conda\\envs\\data_fort\\lib\\site-packages (from python-dateutil>=2.7->matplotlib!=3.6.1,>=3.4->seaborn) (1.16.0)\n"
     ]
    }
   ],
   "source": [
    "!pip install numpy\n",
    "!pip install pandas\n",
    "!pip install matplotlib\n",
    "!pip install seaborn"
   ]
  },
  {
   "cell_type": "code",
   "execution_count": 17,
   "metadata": {},
   "outputs": [],
   "source": [
    "import numpy as np\n",
    "import pandas as pd\n",
    "import matplotlib.pyplot as plt\n",
    "import seaborn as sns"
   ]
  },
  {
   "cell_type": "code",
   "execution_count": 22,
   "metadata": {},
   "outputs": [
    {
     "name": "stdout",
     "output_type": "stream",
     "text": [
      "<class 'pandas.core.frame.DataFrame'>\n",
      "RangeIndex: 52512 entries, 0 to 52511\n",
      "Data columns (total 18 columns):\n",
      " #   Column              Non-Null Count  Dtype  \n",
      "---  ------              --------------  -----  \n",
      " 0   PLANT               52509 non-null  float64\n",
      " 1   BILL DATE           52509 non-null  object \n",
      " 2   Date                1123 non-null   float64\n",
      " 3   SOLD TO PARTY       52509 non-null  float64\n",
      " 4   SOLD TO PARTY NAME  52509 non-null  object \n",
      " 5   MATERIAL NUMBER     52509 non-null  object \n",
      " 6   QTY(1000 SM3)       52510 non-null  object \n",
      " 7   QUANTITY(MBG)       52510 non-null  object \n",
      " 8   QUANTITY(MBN)       52510 non-null  object \n",
      " 9   C-Loc Name          49376 non-null  object \n",
      " 10  C-Location          49376 non-null  object \n",
      " 11  District            19836 non-null  object \n",
      " 12  INDUSTORY SECTOR    51403 non-null  object \n",
      " 13  PAYER NAME          52509 non-null  object \n",
      " 14  PAYER               52509 non-null  float64\n",
      " 15  PLANT NAME          52509 non-null  object \n",
      " 16  Receiving Point     30002 non-null  object \n",
      " 17  SUPPLY REGION       52509 non-null  object \n",
      "dtypes: float64(4), object(14)\n",
      "memory usage: 7.2+ MB\n"
     ]
    },
    {
     "name": "stderr",
     "output_type": "stream",
     "text": [
      "C:\\Users\\Krishna\\AppData\\Local\\Temp\\ipykernel_10592\\1479064741.py:1: DtypeWarning: Columns (6) have mixed types. Specify dtype option on import or set low_memory=False.\n",
      "  fortnight_data_df = pd.read_csv(r'C:\\Users\\Krishna\\Documents\\GitHub\\shiny-octo-succotash\\fortnightly_data.csv',encoding_errors='ignore')\n"
     ]
    }
   ],
   "source": [
    "fortnight_data_df = pd.read_csv(r'C:\\Users\\Krishna\\Documents\\GitHub\\shiny-octo-succotash\\fortnightly_data.csv',encoding_errors='ignore')\n",
    "fortnight_data_df.info()"
   ]
  },
  {
   "cell_type": "code",
   "execution_count": 23,
   "metadata": {},
   "outputs": [
    {
     "data": {
      "text/html": [
       "<div>\n",
       "<style scoped>\n",
       "    .dataframe tbody tr th:only-of-type {\n",
       "        vertical-align: middle;\n",
       "    }\n",
       "\n",
       "    .dataframe tbody tr th {\n",
       "        vertical-align: top;\n",
       "    }\n",
       "\n",
       "    .dataframe thead th {\n",
       "        text-align: right;\n",
       "    }\n",
       "</style>\n",
       "<table border=\"1\" class=\"dataframe\">\n",
       "  <thead>\n",
       "    <tr style=\"text-align: right;\">\n",
       "      <th></th>\n",
       "      <th>PLANT</th>\n",
       "      <th>BILL DATE</th>\n",
       "      <th>Date</th>\n",
       "      <th>SOLD TO PARTY</th>\n",
       "      <th>SOLD TO PARTY NAME</th>\n",
       "      <th>MATERIAL NUMBER</th>\n",
       "      <th>QTY(1000 SM3)</th>\n",
       "      <th>QUANTITY(MBG)</th>\n",
       "      <th>QUANTITY(MBN)</th>\n",
       "      <th>C-Loc Name</th>\n",
       "      <th>C-Location</th>\n",
       "      <th>District</th>\n",
       "      <th>INDUSTORY SECTOR</th>\n",
       "      <th>PAYER NAME</th>\n",
       "      <th>PAYER</th>\n",
       "      <th>PLANT NAME</th>\n",
       "      <th>Receiving Point</th>\n",
       "      <th>SUPPLY REGION</th>\n",
       "    </tr>\n",
       "  </thead>\n",
       "  <tbody>\n",
       "    <tr>\n",
       "      <th>0</th>\n",
       "      <td>2020.0</td>\n",
       "      <td>15-04-2023</td>\n",
       "      <td>NaN</td>\n",
       "      <td>10577.0</td>\n",
       "      <td>KRIBHCO-HP</td>\n",
       "      <td>GMS_NG</td>\n",
       "      <td>0.0</td>\n",
       "      <td>0.000</td>\n",
       "      <td>0.000</td>\n",
       "      <td>EXHAZ KRIBHCO HP</td>\n",
       "      <td>C10577</td>\n",
       "      <td>Surat</td>\n",
       "      <td>Fertilizer Industry</td>\n",
       "      <td>KRIBHCO-HP</td>\n",
       "      <td>10577.0</td>\n",
       "      <td>NG Trading - HVJ - ExHazira</td>\n",
       "      <td>NaN</td>\n",
       "      <td>GJ</td>\n",
       "    </tr>\n",
       "    <tr>\n",
       "      <th>1</th>\n",
       "      <td>2110.0</td>\n",
       "      <td>15-04-2023</td>\n",
       "      <td>NaN</td>\n",
       "      <td>12997.0</td>\n",
       "      <td>THINK GAS BHOPAL PRIVATE LIMITED</td>\n",
       "      <td>GMS_NG</td>\n",
       "      <td>0.0</td>\n",
       "      <td>0.000</td>\n",
       "      <td>0.000</td>\n",
       "      <td>NaN</td>\n",
       "      <td>NaN</td>\n",
       "      <td>NaN</td>\n",
       "      <td>City Gas-CNG</td>\n",
       "      <td>THINK GAS BHOPAL PRIVATE LIMITED</td>\n",
       "      <td>12997.0</td>\n",
       "      <td>NG Trading - S Guj Baroda(NH)</td>\n",
       "      <td>NaN</td>\n",
       "      <td>GJ</td>\n",
       "    </tr>\n",
       "    <tr>\n",
       "      <th>2</th>\n",
       "      <td>2110.0</td>\n",
       "      <td>15-04-2023</td>\n",
       "      <td>NaN</td>\n",
       "      <td>12997.0</td>\n",
       "      <td>THINK GAS BHOPAL PRIVATE LIMITED</td>\n",
       "      <td>GMS_NG-NAPM-WOS</td>\n",
       "      <td>0.0</td>\n",
       "      <td>0.000</td>\n",
       "      <td>0.000</td>\n",
       "      <td>NaN</td>\n",
       "      <td>NaN</td>\n",
       "      <td>NaN</td>\n",
       "      <td>City Gas-CNG</td>\n",
       "      <td>THINK GAS BHOPAL PRIVATE LIMITED</td>\n",
       "      <td>12997.0</td>\n",
       "      <td>NG Trading - S Guj Baroda(NH)</td>\n",
       "      <td>NaN</td>\n",
       "      <td>GJ</td>\n",
       "    </tr>\n",
       "    <tr>\n",
       "      <th>3</th>\n",
       "      <td>2110.0</td>\n",
       "      <td>15-04-2023</td>\n",
       "      <td>NaN</td>\n",
       "      <td>12796.0</td>\n",
       "      <td>AGP CGD India Private Limited</td>\n",
       "      <td>GMS_NG</td>\n",
       "      <td>0.0</td>\n",
       "      <td>0.000</td>\n",
       "      <td>0.000</td>\n",
       "      <td>NaN</td>\n",
       "      <td>NaN</td>\n",
       "      <td>NaN</td>\n",
       "      <td>City Gas-CNG</td>\n",
       "      <td>AGP CGD India Private Limited</td>\n",
       "      <td>12796.0</td>\n",
       "      <td>NG Trading - S Guj Baroda(NH)</td>\n",
       "      <td>NaN</td>\n",
       "      <td>GJ</td>\n",
       "    </tr>\n",
       "    <tr>\n",
       "      <th>4</th>\n",
       "      <td>2110.0</td>\n",
       "      <td>15-04-2023</td>\n",
       "      <td>NaN</td>\n",
       "      <td>12796.0</td>\n",
       "      <td>AGP CGD India Private Limited</td>\n",
       "      <td>GMS_NG-NAPM-WOS</td>\n",
       "      <td>0.0</td>\n",
       "      <td>0.000</td>\n",
       "      <td>0.000</td>\n",
       "      <td>NaN</td>\n",
       "      <td>NaN</td>\n",
       "      <td>NaN</td>\n",
       "      <td>City Gas-CNG</td>\n",
       "      <td>AGP CGD India Private Limited</td>\n",
       "      <td>12796.0</td>\n",
       "      <td>NG Trading - S Guj Baroda(NH)</td>\n",
       "      <td>NaN</td>\n",
       "      <td>GJ</td>\n",
       "    </tr>\n",
       "  </tbody>\n",
       "</table>\n",
       "</div>"
      ],
      "text/plain": [
       "    PLANT   BILL DATE  Date  SOLD TO PARTY                SOLD TO PARTY NAME  \\\n",
       "0  2020.0  15-04-2023   NaN        10577.0                        KRIBHCO-HP   \n",
       "1  2110.0  15-04-2023   NaN        12997.0  THINK GAS BHOPAL PRIVATE LIMITED   \n",
       "2  2110.0  15-04-2023   NaN        12997.0  THINK GAS BHOPAL PRIVATE LIMITED   \n",
       "3  2110.0  15-04-2023   NaN        12796.0     AGP CGD India Private Limited   \n",
       "4  2110.0  15-04-2023   NaN        12796.0     AGP CGD India Private Limited   \n",
       "\n",
       "   MATERIAL NUMBER QTY(1000 SM3) QUANTITY(MBG) QUANTITY(MBN)  \\\n",
       "0           GMS_NG           0.0         0.000         0.000   \n",
       "1           GMS_NG           0.0         0.000         0.000   \n",
       "2  GMS_NG-NAPM-WOS           0.0         0.000         0.000   \n",
       "3           GMS_NG           0.0         0.000         0.000   \n",
       "4  GMS_NG-NAPM-WOS           0.0         0.000         0.000   \n",
       "\n",
       "         C-Loc Name C-Location District     INDUSTORY SECTOR  \\\n",
       "0  EXHAZ KRIBHCO HP     C10577    Surat  Fertilizer Industry   \n",
       "1               NaN        NaN      NaN         City Gas-CNG   \n",
       "2               NaN        NaN      NaN         City Gas-CNG   \n",
       "3               NaN        NaN      NaN         City Gas-CNG   \n",
       "4               NaN        NaN      NaN         City Gas-CNG   \n",
       "\n",
       "                         PAYER NAME    PAYER                     PLANT NAME  \\\n",
       "0                        KRIBHCO-HP  10577.0    NG Trading - HVJ - ExHazira   \n",
       "1  THINK GAS BHOPAL PRIVATE LIMITED  12997.0  NG Trading - S Guj Baroda(NH)   \n",
       "2  THINK GAS BHOPAL PRIVATE LIMITED  12997.0  NG Trading - S Guj Baroda(NH)   \n",
       "3     AGP CGD India Private Limited  12796.0  NG Trading - S Guj Baroda(NH)   \n",
       "4     AGP CGD India Private Limited  12796.0  NG Trading - S Guj Baroda(NH)   \n",
       "\n",
       "  Receiving Point SUPPLY REGION  \n",
       "0             NaN            GJ  \n",
       "1             NaN            GJ  \n",
       "2             NaN            GJ  \n",
       "3             NaN            GJ  \n",
       "4             NaN            GJ  "
      ]
     },
     "execution_count": 23,
     "metadata": {},
     "output_type": "execute_result"
    }
   ],
   "source": [
    "fortnight_data_df.head()"
   ]
  },
  {
   "cell_type": "code",
   "execution_count": 24,
   "metadata": {},
   "outputs": [
    {
     "name": "stdout",
     "output_type": "stream",
     "text": [
      "Index(['PLANT', 'BILL DATE', 'Date', 'SOLD TO PARTY', 'SOLD TO PARTY NAME',\n",
      "       'MATERIAL NUMBER', 'QTY(1000 SM3)', 'QUANTITY(MBG)', 'QUANTITY(MBN)',\n",
      "       'C-Loc Name', 'C-Location', 'District', 'INDUSTORY SECTOR',\n",
      "       'PAYER NAME', 'PAYER', 'PLANT NAME', 'Receiving Point',\n",
      "       'SUPPLY REGION'],\n",
      "      dtype='object')\n"
     ]
    }
   ],
   "source": [
    "all_columns = fortnight_data_df.columns\n",
    "print(fortnight_data_df.columns)"
   ]
  },
  {
   "cell_type": "code",
   "execution_count": 25,
   "metadata": {},
   "outputs": [
    {
     "name": "stdout",
     "output_type": "stream",
     "text": [
      "Index(['PLANT', 'BILL DATE', 'Date', 'SOLD TO PARTY', 'SOLD TO PARTY NAME',\n",
      "       'MATERIAL NUMBER', 'QTY(1000 SM3)', 'QUANTITY(MBG)', 'QUANTITY(MBN)',\n",
      "       'C-Loc Name', 'C-Location', 'District', 'INDUSTORY SECTOR',\n",
      "       'PAYER NAME', 'PAYER', 'PLANT NAME', 'Receiving Point',\n",
      "       'SUPPLY REGION'],\n",
      "      dtype='object')\n"
     ]
    }
   ],
   "source": [
    "columns_needed = ['PLANT', 'BILL DATE','SOLD TO PARTY','MATERIAL NUMBER', 'QTY(1000 SM3)','C-Location', 'District', 'INDUSTORY SECTOR','PAYER', 'PLANT NAME', 'Receiving Point',\n",
    "       'SUPPLY REGION']\n",
    "columns_dropped = [i for i in all_columns if i not in columns_needed]\n",
    "print(all_columns)"
   ]
  },
  {
   "cell_type": "code",
   "execution_count": 26,
   "metadata": {},
   "outputs": [
    {
     "name": "stdout",
     "output_type": "stream",
     "text": [
      "<class 'pandas.core.frame.DataFrame'>\n",
      "RangeIndex: 52512 entries, 0 to 52511\n",
      "Data columns (total 12 columns):\n",
      " #   Column            Non-Null Count  Dtype  \n",
      "---  ------            --------------  -----  \n",
      " 0   PLANT             52509 non-null  float64\n",
      " 1   BILL DATE         52509 non-null  object \n",
      " 2   SOLD TO PARTY     52509 non-null  float64\n",
      " 3   MATERIAL NUMBER   52509 non-null  object \n",
      " 4   QTY(1000 SM3)     52510 non-null  object \n",
      " 5   C-Location        49376 non-null  object \n",
      " 6   District          19836 non-null  object \n",
      " 7   INDUSTORY SECTOR  51403 non-null  object \n",
      " 8   PAYER             52509 non-null  float64\n",
      " 9   PLANT NAME        52509 non-null  object \n",
      " 10  Receiving Point   30002 non-null  object \n",
      " 11  SUPPLY REGION     52509 non-null  object \n",
      "dtypes: float64(3), object(9)\n",
      "memory usage: 4.8+ MB\n"
     ]
    }
   ],
   "source": [
    "fortnight_data_df.drop(columns_dropped, axis=1, inplace=True)\n",
    "fortnight_data_df.info()"
   ]
  },
  {
   "cell_type": "code",
   "execution_count": 28,
   "metadata": {},
   "outputs": [],
   "source": [
    "!conda install -c conda-forge ydata-profiling\n",
    "from ydata_profiling import ProfileReport\n",
    "profile = ProfileReport(fortnight_data_df, Title=\"Fortnight Sales Data\")\n",
    "profile.to_notebook_iframe()"
   ]
  }
 ],
 "metadata": {
  "kernelspec": {
   "display_name": "data_fort",
   "language": "python",
   "name": "python3"
  },
  "language_info": {
   "codemirror_mode": {
    "name": "ipython",
    "version": 3
   },
   "file_extension": ".py",
   "mimetype": "text/x-python",
   "name": "python",
   "nbconvert_exporter": "python",
   "pygments_lexer": "ipython3",
   "version": "3.12.4"
  }
 },
 "nbformat": 4,
 "nbformat_minor": 2
}

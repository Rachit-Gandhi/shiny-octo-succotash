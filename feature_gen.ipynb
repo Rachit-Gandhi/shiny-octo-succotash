{
 "cells": [
  {
   "cell_type": "code",
   "execution_count": 1,
   "metadata": {},
   "outputs": [],
   "source": [
    "import pandas as pd\n",
    "import numpy as np\n",
    "import matplotlib.pyplot as plt\n",
    "import glob"
   ]
  },
  {
   "cell_type": "code",
   "execution_count": 2,
   "metadata": {},
   "outputs": [
    {
     "data": {
      "text/html": [
       "<div>\n",
       "<style scoped>\n",
       "    .dataframe tbody tr th:only-of-type {\n",
       "        vertical-align: middle;\n",
       "    }\n",
       "\n",
       "    .dataframe tbody tr th {\n",
       "        vertical-align: top;\n",
       "    }\n",
       "\n",
       "    .dataframe thead th {\n",
       "        text-align: right;\n",
       "    }\n",
       "</style>\n",
       "<table border=\"1\" class=\"dataframe\">\n",
       "  <thead>\n",
       "    <tr style=\"text-align: right;\">\n",
       "      <th></th>\n",
       "      <th>PLANT</th>\n",
       "      <th>BILL DATE</th>\n",
       "      <th>SOLD TO PARTY</th>\n",
       "      <th>SOLD TO PARTY NAME</th>\n",
       "      <th>MATERIAL NUMBER</th>\n",
       "      <th>QTY(1000 SM3)</th>\n",
       "      <th>QUANTITY(MBG)</th>\n",
       "      <th>QUANTITY(MBN)</th>\n",
       "      <th>C-Loc Name</th>\n",
       "      <th>C-Location</th>\n",
       "      <th>District</th>\n",
       "      <th>INDUSTORY SECTOR</th>\n",
       "      <th>PAYER NAME</th>\n",
       "      <th>PAYER</th>\n",
       "      <th>PLANT NAME</th>\n",
       "      <th>Receiving Point</th>\n",
       "      <th>SUPPLY REGION</th>\n",
       "    </tr>\n",
       "  </thead>\n",
       "  <tbody>\n",
       "    <tr>\n",
       "      <th>0</th>\n",
       "      <td>2024</td>\n",
       "      <td>2019-04-15</td>\n",
       "      <td>10837</td>\n",
       "      <td>BRIDGESTONE INDIA PVT LTD</td>\n",
       "      <td>GMS_RLNG</td>\n",
       "      <td>164.034</td>\n",
       "      <td>6176.329</td>\n",
       "      <td>5571.197</td>\n",
       "      <td>PITHAMPUR BRIDGESTONE</td>\n",
       "      <td>C10837</td>\n",
       "      <td>Dhar</td>\n",
       "      <td>Others</td>\n",
       "      <td>BRIDGESTONE INDIA PVT LTD</td>\n",
       "      <td>10837</td>\n",
       "      <td>NG Trading - HVJ - Khera</td>\n",
       "      <td>DAHEJ</td>\n",
       "      <td>MP</td>\n",
       "    </tr>\n",
       "    <tr>\n",
       "      <th>1</th>\n",
       "      <td>2024</td>\n",
       "      <td>2019-04-15</td>\n",
       "      <td>10837</td>\n",
       "      <td>BRIDGESTONE INDIA PVT LTD</td>\n",
       "      <td>GMS_RLNG-(MIDTERM)</td>\n",
       "      <td>25.497</td>\n",
       "      <td>960.000</td>\n",
       "      <td>865.943</td>\n",
       "      <td>PITHAMPUR BRIDGESTONE</td>\n",
       "      <td>C10837</td>\n",
       "      <td>Dhar</td>\n",
       "      <td>Others</td>\n",
       "      <td>BRIDGESTONE INDIA PVT LTD</td>\n",
       "      <td>10837</td>\n",
       "      <td>NG Trading - HVJ - Khera</td>\n",
       "      <td>DAHEJ</td>\n",
       "      <td>MP</td>\n",
       "    </tr>\n",
       "    <tr>\n",
       "      <th>2</th>\n",
       "      <td>2024</td>\n",
       "      <td>2019-04-15</td>\n",
       "      <td>11026</td>\n",
       "      <td>CIPLA LIMITED</td>\n",
       "      <td>GMS_RLNG</td>\n",
       "      <td>74.589</td>\n",
       "      <td>2809.548</td>\n",
       "      <td>2534.315</td>\n",
       "      <td>PITHAMPUR CIPLA</td>\n",
       "      <td>C11026</td>\n",
       "      <td>Dhar</td>\n",
       "      <td>Others</td>\n",
       "      <td>CIPLA LIMITED</td>\n",
       "      <td>11026</td>\n",
       "      <td>NG Trading - HVJ - Khera</td>\n",
       "      <td>DAHEJ</td>\n",
       "      <td>MP</td>\n",
       "    </tr>\n",
       "    <tr>\n",
       "      <th>3</th>\n",
       "      <td>2024</td>\n",
       "      <td>2019-04-15</td>\n",
       "      <td>10835</td>\n",
       "      <td>FORCE MOTORS LTD</td>\n",
       "      <td>GMS_RLNG</td>\n",
       "      <td>50.744</td>\n",
       "      <td>1911.720</td>\n",
       "      <td>1724.454</td>\n",
       "      <td>PITHAMPUR FORCE MOTORS</td>\n",
       "      <td>C10835</td>\n",
       "      <td>Dhar</td>\n",
       "      <td>Others</td>\n",
       "      <td>FORCE MOTORS LTD</td>\n",
       "      <td>10835</td>\n",
       "      <td>NG Trading - HVJ - Khera</td>\n",
       "      <td>DAHEJ</td>\n",
       "      <td>MP</td>\n",
       "    </tr>\n",
       "    <tr>\n",
       "      <th>4</th>\n",
       "      <td>2024</td>\n",
       "      <td>2019-04-15</td>\n",
       "      <td>10835</td>\n",
       "      <td>FORCE MOTORS LTD</td>\n",
       "      <td>GMS_RLNG-(MIDTERM)</td>\n",
       "      <td>0.392</td>\n",
       "      <td>14.629</td>\n",
       "      <td>13.192</td>\n",
       "      <td>PITHAMPUR FORCE MOTORS</td>\n",
       "      <td>C10835</td>\n",
       "      <td>Dhar</td>\n",
       "      <td>Others</td>\n",
       "      <td>FORCE MOTORS LTD</td>\n",
       "      <td>10835</td>\n",
       "      <td>NG Trading - HVJ - Khera</td>\n",
       "      <td>DAHEJ</td>\n",
       "      <td>MP</td>\n",
       "    </tr>\n",
       "  </tbody>\n",
       "</table>\n",
       "</div>"
      ],
      "text/plain": [
       "   PLANT   BILL DATE  SOLD TO PARTY         SOLD TO PARTY NAME  \\\n",
       "0   2024  2019-04-15          10837  BRIDGESTONE INDIA PVT LTD   \n",
       "1   2024  2019-04-15          10837  BRIDGESTONE INDIA PVT LTD   \n",
       "2   2024  2019-04-15          11026              CIPLA LIMITED   \n",
       "3   2024  2019-04-15          10835           FORCE MOTORS LTD   \n",
       "4   2024  2019-04-15          10835           FORCE MOTORS LTD   \n",
       "\n",
       "      MATERIAL NUMBER  QTY(1000 SM3)  QUANTITY(MBG)  QUANTITY(MBN)  \\\n",
       "0            GMS_RLNG        164.034       6176.329       5571.197   \n",
       "1  GMS_RLNG-(MIDTERM)         25.497        960.000        865.943   \n",
       "2            GMS_RLNG         74.589       2809.548       2534.315   \n",
       "3            GMS_RLNG         50.744       1911.720       1724.454   \n",
       "4  GMS_RLNG-(MIDTERM)          0.392         14.629         13.192   \n",
       "\n",
       "               C-Loc Name C-Location District INDUSTORY SECTOR  \\\n",
       "0   PITHAMPUR BRIDGESTONE     C10837     Dhar           Others   \n",
       "1   PITHAMPUR BRIDGESTONE     C10837     Dhar           Others   \n",
       "2         PITHAMPUR CIPLA     C11026     Dhar           Others   \n",
       "3  PITHAMPUR FORCE MOTORS     C10835     Dhar           Others   \n",
       "4  PITHAMPUR FORCE MOTORS     C10835     Dhar           Others   \n",
       "\n",
       "                  PAYER NAME  PAYER                PLANT NAME Receiving Point  \\\n",
       "0  BRIDGESTONE INDIA PVT LTD  10837  NG Trading - HVJ - Khera           DAHEJ   \n",
       "1  BRIDGESTONE INDIA PVT LTD  10837  NG Trading - HVJ - Khera           DAHEJ   \n",
       "2              CIPLA LIMITED  11026  NG Trading - HVJ - Khera           DAHEJ   \n",
       "3           FORCE MOTORS LTD  10835  NG Trading - HVJ - Khera           DAHEJ   \n",
       "4           FORCE MOTORS LTD  10835  NG Trading - HVJ - Khera           DAHEJ   \n",
       "\n",
       "  SUPPLY REGION  \n",
       "0            MP  \n",
       "1            MP  \n",
       "2            MP  \n",
       "3            MP  \n",
       "4            MP  "
      ]
     },
     "execution_count": 2,
     "metadata": {},
     "output_type": "execute_result"
    }
   ],
   "source": [
    "fs = glob.glob(rf\"*.csv\")\n",
    "\n",
    "df = pd.DataFrame()\n",
    "\n",
    "for file in fs:\n",
    "    \n",
    "    df = pd.concat([df,pd.read_csv(f'{file}')])\n",
    "df.head()\n"
   ]
  },
  {
   "cell_type": "code",
   "execution_count": 3,
   "metadata": {},
   "outputs": [
    {
     "data": {
      "text/html": [
       "<div>\n",
       "<style scoped>\n",
       "    .dataframe tbody tr th:only-of-type {\n",
       "        vertical-align: middle;\n",
       "    }\n",
       "\n",
       "    .dataframe tbody tr th {\n",
       "        vertical-align: top;\n",
       "    }\n",
       "\n",
       "    .dataframe thead th {\n",
       "        text-align: right;\n",
       "    }\n",
       "</style>\n",
       "<table border=\"1\" class=\"dataframe\">\n",
       "  <thead>\n",
       "    <tr style=\"text-align: right;\">\n",
       "      <th></th>\n",
       "      <th>PLANT</th>\n",
       "      <th>SOLD TO PARTY</th>\n",
       "      <th>QTY(1000 SM3)</th>\n",
       "      <th>QUANTITY(MBG)</th>\n",
       "      <th>QUANTITY(MBN)</th>\n",
       "      <th>PAYER</th>\n",
       "    </tr>\n",
       "  </thead>\n",
       "  <tbody>\n",
       "    <tr>\n",
       "      <th>count</th>\n",
       "      <td>122425.000000</td>\n",
       "      <td>122425.000000</td>\n",
       "      <td>122425.000000</td>\n",
       "      <td>1.224250e+05</td>\n",
       "      <td>1.224250e+05</td>\n",
       "      <td>122425.000000</td>\n",
       "    </tr>\n",
       "    <tr>\n",
       "      <th>mean</th>\n",
       "      <td>2245.733633</td>\n",
       "      <td>16729.886731</td>\n",
       "      <td>953.524062</td>\n",
       "      <td>3.563823e+04</td>\n",
       "      <td>3.215472e+04</td>\n",
       "      <td>17352.757639</td>\n",
       "    </tr>\n",
       "    <tr>\n",
       "      <th>std</th>\n",
       "      <td>372.335003</td>\n",
       "      <td>13076.535238</td>\n",
       "      <td>3222.925855</td>\n",
       "      <td>1.202588e+05</td>\n",
       "      <td>1.084887e+05</td>\n",
       "      <td>15247.307783</td>\n",
       "    </tr>\n",
       "    <tr>\n",
       "      <th>min</th>\n",
       "      <td>2011.000000</td>\n",
       "      <td>10005.000000</td>\n",
       "      <td>0.000000</td>\n",
       "      <td>0.000000e+00</td>\n",
       "      <td>0.000000e+00</td>\n",
       "      <td>10005.000000</td>\n",
       "    </tr>\n",
       "    <tr>\n",
       "      <th>25%</th>\n",
       "      <td>2024.000000</td>\n",
       "      <td>10839.000000</td>\n",
       "      <td>11.974000</td>\n",
       "      <td>4.556580e+02</td>\n",
       "      <td>4.112570e+02</td>\n",
       "      <td>10634.000000</td>\n",
       "    </tr>\n",
       "    <tr>\n",
       "      <th>50%</th>\n",
       "      <td>2110.000000</td>\n",
       "      <td>12177.000000</td>\n",
       "      <td>52.500000</td>\n",
       "      <td>1.993832e+03</td>\n",
       "      <td>1.800379e+03</td>\n",
       "      <td>11947.000000</td>\n",
       "    </tr>\n",
       "    <tr>\n",
       "      <th>75%</th>\n",
       "      <td>2150.000000</td>\n",
       "      <td>12986.000000</td>\n",
       "      <td>307.905000</td>\n",
       "      <td>1.170000e+04</td>\n",
       "      <td>1.056390e+04</td>\n",
       "      <td>12831.000000</td>\n",
       "    </tr>\n",
       "    <tr>\n",
       "      <th>max</th>\n",
       "      <td>3185.000000</td>\n",
       "      <td>51360.000000</td>\n",
       "      <td>56959.202000</td>\n",
       "      <td>2.047370e+06</td>\n",
       "      <td>1.844192e+06</td>\n",
       "      <td>70120.000000</td>\n",
       "    </tr>\n",
       "  </tbody>\n",
       "</table>\n",
       "</div>"
      ],
      "text/plain": [
       "               PLANT  SOLD TO PARTY  QTY(1000 SM3)  QUANTITY(MBG)  \\\n",
       "count  122425.000000  122425.000000  122425.000000   1.224250e+05   \n",
       "mean     2245.733633   16729.886731     953.524062   3.563823e+04   \n",
       "std       372.335003   13076.535238    3222.925855   1.202588e+05   \n",
       "min      2011.000000   10005.000000       0.000000   0.000000e+00   \n",
       "25%      2024.000000   10839.000000      11.974000   4.556580e+02   \n",
       "50%      2110.000000   12177.000000      52.500000   1.993832e+03   \n",
       "75%      2150.000000   12986.000000     307.905000   1.170000e+04   \n",
       "max      3185.000000   51360.000000   56959.202000   2.047370e+06   \n",
       "\n",
       "       QUANTITY(MBN)          PAYER  \n",
       "count   1.224250e+05  122425.000000  \n",
       "mean    3.215472e+04   17352.757639  \n",
       "std     1.084887e+05   15247.307783  \n",
       "min     0.000000e+00   10005.000000  \n",
       "25%     4.112570e+02   10634.000000  \n",
       "50%     1.800379e+03   11947.000000  \n",
       "75%     1.056390e+04   12831.000000  \n",
       "max     1.844192e+06   70120.000000  "
      ]
     },
     "execution_count": 3,
     "metadata": {},
     "output_type": "execute_result"
    }
   ],
   "source": [
    "df.describe()"
   ]
  },
  {
   "cell_type": "code",
   "execution_count": 4,
   "metadata": {},
   "outputs": [
    {
     "name": "stdout",
     "output_type": "stream",
     "text": [
      "Index(['PLANT', 'BILL DATE', 'SOLD TO PARTY', 'SOLD TO PARTY NAME',\n",
      "       'MATERIAL NUMBER', 'QTY(1000 SM3)', 'QUANTITY(MBG)', 'QUANTITY(MBN)',\n",
      "       'C-Loc Name', 'C-Location', 'District', 'INDUSTORY SECTOR',\n",
      "       'PAYER NAME', 'PAYER', 'PLANT NAME', 'Receiving Point',\n",
      "       'SUPPLY REGION'],\n",
      "      dtype='object')\n"
     ]
    }
   ],
   "source": [
    "all_columns = df.columns\n",
    "print(all_columns)"
   ]
  },
  {
   "cell_type": "code",
   "execution_count": 5,
   "metadata": {},
   "outputs": [
    {
     "name": "stdout",
     "output_type": "stream",
     "text": [
      "True\n"
     ]
    }
   ],
   "source": [
    "df_copy = df.copy(deep=True)\n",
    "print(True)\n",
    "df_copy.drop(['C-Loc Name','SOLD TO PARTY NAME','PLANT NAME','QUANTITY(MBG)','QUANTITY(MBN)'], axis=1,inplace=True)\n",
    "df_copy.drop(['C-Location','District','PLANT','PAYER','PAYER NAME','SUPPLY REGION'],axis=1,inplace=True)\n",
    "df_copy.drop(['MATERIAL NUMBER'],axis=1,inplace=True)"
   ]
  },
  {
   "cell_type": "code",
   "execution_count": 6,
   "metadata": {},
   "outputs": [
    {
     "data": {
      "text/html": [
       "<div>\n",
       "<style scoped>\n",
       "    .dataframe tbody tr th:only-of-type {\n",
       "        vertical-align: middle;\n",
       "    }\n",
       "\n",
       "    .dataframe tbody tr th {\n",
       "        vertical-align: top;\n",
       "    }\n",
       "\n",
       "    .dataframe thead th {\n",
       "        text-align: right;\n",
       "    }\n",
       "</style>\n",
       "<table border=\"1\" class=\"dataframe\">\n",
       "  <thead>\n",
       "    <tr style=\"text-align: right;\">\n",
       "      <th></th>\n",
       "      <th>BILL DATE</th>\n",
       "      <th>SOLD TO PARTY</th>\n",
       "      <th>QTY(1000 SM3)</th>\n",
       "      <th>INDUSTORY SECTOR</th>\n",
       "      <th>Receiving Point</th>\n",
       "    </tr>\n",
       "  </thead>\n",
       "  <tbody>\n",
       "    <tr>\n",
       "      <th>0</th>\n",
       "      <td>2019-04-15</td>\n",
       "      <td>10837</td>\n",
       "      <td>164.034</td>\n",
       "      <td>Others</td>\n",
       "      <td>DAHEJ</td>\n",
       "    </tr>\n",
       "    <tr>\n",
       "      <th>1</th>\n",
       "      <td>2019-04-15</td>\n",
       "      <td>10837</td>\n",
       "      <td>25.497</td>\n",
       "      <td>Others</td>\n",
       "      <td>DAHEJ</td>\n",
       "    </tr>\n",
       "    <tr>\n",
       "      <th>2</th>\n",
       "      <td>2019-04-15</td>\n",
       "      <td>11026</td>\n",
       "      <td>74.589</td>\n",
       "      <td>Others</td>\n",
       "      <td>DAHEJ</td>\n",
       "    </tr>\n",
       "    <tr>\n",
       "      <th>3</th>\n",
       "      <td>2019-04-15</td>\n",
       "      <td>10835</td>\n",
       "      <td>50.744</td>\n",
       "      <td>Others</td>\n",
       "      <td>DAHEJ</td>\n",
       "    </tr>\n",
       "    <tr>\n",
       "      <th>4</th>\n",
       "      <td>2019-04-15</td>\n",
       "      <td>10835</td>\n",
       "      <td>0.392</td>\n",
       "      <td>Others</td>\n",
       "      <td>DAHEJ</td>\n",
       "    </tr>\n",
       "  </tbody>\n",
       "</table>\n",
       "</div>"
      ],
      "text/plain": [
       "    BILL DATE  SOLD TO PARTY  QTY(1000 SM3) INDUSTORY SECTOR Receiving Point\n",
       "0  2019-04-15          10837        164.034           Others           DAHEJ\n",
       "1  2019-04-15          10837         25.497           Others           DAHEJ\n",
       "2  2019-04-15          11026         74.589           Others           DAHEJ\n",
       "3  2019-04-15          10835         50.744           Others           DAHEJ\n",
       "4  2019-04-15          10835          0.392           Others           DAHEJ"
      ]
     },
     "execution_count": 6,
     "metadata": {},
     "output_type": "execute_result"
    }
   ],
   "source": [
    "df_copy.head()"
   ]
  },
  {
   "cell_type": "code",
   "execution_count": 7,
   "metadata": {},
   "outputs": [
    {
     "data": {
      "text/html": [
       "<div>\n",
       "<style scoped>\n",
       "    .dataframe tbody tr th:only-of-type {\n",
       "        vertical-align: middle;\n",
       "    }\n",
       "\n",
       "    .dataframe tbody tr th {\n",
       "        vertical-align: top;\n",
       "    }\n",
       "\n",
       "    .dataframe thead th {\n",
       "        text-align: right;\n",
       "    }\n",
       "</style>\n",
       "<table border=\"1\" class=\"dataframe\">\n",
       "  <thead>\n",
       "    <tr style=\"text-align: right;\">\n",
       "      <th></th>\n",
       "      <th>BILL DATE</th>\n",
       "    </tr>\n",
       "  </thead>\n",
       "  <tbody>\n",
       "    <tr>\n",
       "      <th>count</th>\n",
       "      <td>122425</td>\n",
       "    </tr>\n",
       "    <tr>\n",
       "      <th>mean</th>\n",
       "      <td>2021-08-08 09:31:53.697365760</td>\n",
       "    </tr>\n",
       "    <tr>\n",
       "      <th>min</th>\n",
       "      <td>2019-04-07 00:00:00</td>\n",
       "    </tr>\n",
       "    <tr>\n",
       "      <th>25%</th>\n",
       "      <td>2020-03-31 00:00:00</td>\n",
       "    </tr>\n",
       "    <tr>\n",
       "      <th>50%</th>\n",
       "      <td>2022-02-15 00:00:00</td>\n",
       "    </tr>\n",
       "    <tr>\n",
       "      <th>75%</th>\n",
       "      <td>2022-09-15 00:00:00</td>\n",
       "    </tr>\n",
       "    <tr>\n",
       "      <th>max</th>\n",
       "      <td>2023-03-31 00:00:00</td>\n",
       "    </tr>\n",
       "  </tbody>\n",
       "</table>\n",
       "</div>"
      ],
      "text/plain": [
       "                           BILL DATE\n",
       "count                         122425\n",
       "mean   2021-08-08 09:31:53.697365760\n",
       "min              2019-04-07 00:00:00\n",
       "25%              2020-03-31 00:00:00\n",
       "50%              2022-02-15 00:00:00\n",
       "75%              2022-09-15 00:00:00\n",
       "max              2023-03-31 00:00:00"
      ]
     },
     "execution_count": 7,
     "metadata": {},
     "output_type": "execute_result"
    }
   ],
   "source": [
    "pd.DataFrame(pd.to_datetime(df_copy['BILL DATE'])).describe()"
   ]
  },
  {
   "cell_type": "code",
   "execution_count": 8,
   "metadata": {},
   "outputs": [
    {
     "name": "stdout",
     "output_type": "stream",
     "text": [
      "<class 'pandas.core.frame.DataFrame'>\n",
      "Index: 5765 entries, 357 to 53098\n",
      "Data columns (total 5 columns):\n",
      " #   Column            Non-Null Count  Dtype  \n",
      "---  ------            --------------  -----  \n",
      " 0   BILL DATE         5765 non-null   object \n",
      " 1   SOLD TO PARTY     5765 non-null   int64  \n",
      " 2   QTY(1000 SM3)     5765 non-null   float64\n",
      " 3   INDUSTORY SECTOR  5765 non-null   object \n",
      " 4   Receiving Point   3671 non-null   object \n",
      "dtypes: float64(1), int64(1), object(3)\n",
      "memory usage: 270.2+ KB\n"
     ]
    }
   ],
   "source": [
    "power_df = df_copy.loc[df['INDUSTORY SECTOR']=='Power Industry']\n",
    "power_df.info()"
   ]
  },
  {
   "cell_type": "code",
   "execution_count": 9,
   "metadata": {},
   "outputs": [
    {
     "name": "stdout",
     "output_type": "stream",
     "text": [
      "Requirement already satisfied: holidays in c:\\users\\krishna\\.conda\\envs\\data_fort\\lib\\site-packages (0.53)\n",
      "Requirement already satisfied: python-dateutil in c:\\users\\krishna\\.conda\\envs\\data_fort\\lib\\site-packages (from holidays) (2.9.0)\n",
      "Requirement already satisfied: six>=1.5 in c:\\users\\krishna\\.conda\\envs\\data_fort\\lib\\site-packages (from python-dateutil->holidays) (1.16.0)\n",
      "[1, 1, 0, 0, 0, 0, 0, 0, 0, 0, 0, 0, 0, 0, 0, 0, 0, 0, 0, 0, 0, 0, 0, 0, 0, 0, 0, 0, 0, 0, 0, 0, 0, 0, 0, 0, 0, 0, 0, 0, 0, 0, 0, 0, 0, 0, 0, 0, 0, 0, 0, 0, 0, 0, 0, 0, 0, 0, 0, 0, 0, 0, 0, 0, 0, 0, 0, 0, 0, 0, 0, 0, 0, 0, 0, 0, 0, 0, 0, 0, 0, 0, 0, 0, 0]\n"
     ]
    }
   ],
   "source": [
    "!pip install holidays\n",
    "import holidays\n",
    "from datetime import datetime, timedelta\n",
    "\n",
    "# Define the Indian holidays\n",
    "indian_holidays = holidays.India()\n",
    "\n",
    "# Define the start and end dates\n",
    "start_date = datetime(2024, 10, 1)\n",
    "end_date = datetime(2024, 12, 25)\n",
    "\n",
    "# Initialize a counter for holidays\n",
    "holiday_count = 0\n",
    "\n",
    "# Iterate over the dates between start and end dates\n",
    "for n in range(int((end_date - start_date).days)):\n",
    "    day = start_date + timedelta(n)\n",
    "    if day in indian_holidays:\n",
    "        holiday_count += 1\n",
    "\n",
    "# Populate the festival column with the count\n",
    "festival_column = [1] * holiday_count + [0] * (int((end_date - start_date).days) - holiday_count)\n",
    "\n",
    "print(festival_column)\n",
    "\n"
   ]
  },
  {
   "cell_type": "code",
   "execution_count": 10,
   "metadata": {},
   "outputs": [
    {
     "name": "stderr",
     "output_type": "stream",
     "text": [
      "C:\\Users\\Krishna\\AppData\\Local\\Temp\\ipykernel_18916\\30304260.py:1: SettingWithCopyWarning: \n",
      "A value is trying to be set on a copy of a slice from a DataFrame.\n",
      "Try using .loc[row_indexer,col_indexer] = value instead\n",
      "\n",
      "See the caveats in the documentation: https://pandas.pydata.org/pandas-docs/stable/user_guide/indexing.html#returning-a-view-versus-a-copy\n",
      "  power_df['BILL DATE'] = pd.to_datetime(power_df['BILL DATE'], errors='coerce')\n",
      "C:\\Users\\Krishna\\AppData\\Local\\Temp\\ipykernel_18916\\30304260.py:2: SettingWithCopyWarning: \n",
      "A value is trying to be set on a copy of a slice from a DataFrame\n",
      "\n",
      "See the caveats in the documentation: https://pandas.pydata.org/pandas-docs/stable/user_guide/indexing.html#returning-a-view-versus-a-copy\n",
      "  power_df['BILL DATE'].dropna(inplace=True)\n"
     ]
    }
   ],
   "source": [
    "power_df['BILL DATE'] = pd.to_datetime(power_df['BILL DATE'], errors='coerce')\n",
    "power_df['BILL DATE'].dropna(inplace=True)"
   ]
  },
  {
   "cell_type": "code",
   "execution_count": 11,
   "metadata": {},
   "outputs": [],
   "source": [
    "import pandas as pd\n",
    "import holidays\n",
    "from datetime import timedelta\n",
    "from tqdm import tqdm\n",
    "\n",
    "def calculate_holiday_count(power_df, column_mapping):\n",
    "    \"\"\"\n",
    "    Calculate the holiday count between consecutive timestamps for each client.\n",
    "\n",
    "    Args:\n",
    "        power_df (pd.DataFrame): Input DataFrame\n",
    "        column_mapping (dict): Mapping of required fields to actual column names\n",
    "\n",
    "    Returns:\n",
    "        pd.DataFrame: DataFrame with 'holiday_count' column added\n",
    "    \"\"\"\n",
    "    # Initialize Indian holidays\n",
    "    indian_holidays = holidays.India()\n",
    "\n",
    "    # Sort the DataFrame by party and timestamp\n",
    "    power_df = power_df.sort_values([column_mapping['party'], column_mapping['timestamp']])\n",
    "\n",
    "    # Initialize the 'holiday_count' column\n",
    "    power_df['holiday_count'] = 0\n",
    "\n",
    "    # Group the DataFrame by party\n",
    "    grouped = power_df.groupby(column_mapping['party'])\n",
    "\n",
    "    # Process each group\n",
    "    for _, group in tqdm(grouped, desc=\"Processing groups for holiday count\"):\n",
    "        # Calculate holiday count between consecutive timestamps\n",
    "        for i in range(len(group) - 1):\n",
    "            current_row = group.iloc[i]\n",
    "            next_row = group.iloc[i + 1]\n",
    "\n",
    "            start_date = pd.to_datetime(current_row[column_mapping['timestamp']]).date()\n",
    "            end_date = pd.to_datetime(next_row[column_mapping['timestamp']]).date()\n",
    "\n",
    "            # Count holidays\n",
    "            holiday_count = sum(1 for day in pd.date_range(start_date, end_date) if day.date() in indian_holidays)\n",
    "\n",
    "            # Assign the calculated holiday count to the next row\n",
    "            power_df.loc[next_row.name, 'holiday_count'] = holiday_count\n",
    "\n",
    "    return power_df"
   ]
  },
  {
   "cell_type": "code",
   "execution_count": 12,
   "metadata": {},
   "outputs": [
    {
     "name": "stderr",
     "output_type": "stream",
     "text": [
      "Processing groups for holiday count: 100%|██████████| 64/64 [00:06<00:00, 10.57it/s]\n"
     ]
    }
   ],
   "source": [
    "mapping = {\n",
    "        'timestamp': 'BILL DATE',  # Explicitly set 'BILL DATE' as the timestamp column\n",
    "        'party': 'SOLD TO PARTY',\n",
    "        'location': 'Receiving Point'\n",
    "    }\n",
    "power_df_final = calculate_holiday_count(power_df,mapping)"
   ]
  },
  {
   "cell_type": "code",
   "execution_count": 13,
   "metadata": {},
   "outputs": [
    {
     "data": {
      "text/html": [
       "<div>\n",
       "<style scoped>\n",
       "    .dataframe tbody tr th:only-of-type {\n",
       "        vertical-align: middle;\n",
       "    }\n",
       "\n",
       "    .dataframe tbody tr th {\n",
       "        vertical-align: top;\n",
       "    }\n",
       "\n",
       "    .dataframe thead th {\n",
       "        text-align: right;\n",
       "    }\n",
       "</style>\n",
       "<table border=\"1\" class=\"dataframe\">\n",
       "  <thead>\n",
       "    <tr style=\"text-align: right;\">\n",
       "      <th></th>\n",
       "      <th>BILL DATE</th>\n",
       "      <th>SOLD TO PARTY</th>\n",
       "      <th>QTY(1000 SM3)</th>\n",
       "      <th>holiday_count</th>\n",
       "    </tr>\n",
       "  </thead>\n",
       "  <tbody>\n",
       "    <tr>\n",
       "      <th>count</th>\n",
       "      <td>5765</td>\n",
       "      <td>5765.000000</td>\n",
       "      <td>5765.000000</td>\n",
       "      <td>5765.000000</td>\n",
       "    </tr>\n",
       "    <tr>\n",
       "      <th>mean</th>\n",
       "      <td>2020-11-19 13:52:01.665221120</td>\n",
       "      <td>11245.358716</td>\n",
       "      <td>2921.272392</td>\n",
       "      <td>0.576583</td>\n",
       "    </tr>\n",
       "    <tr>\n",
       "      <th>min</th>\n",
       "      <td>2019-04-15 00:00:00</td>\n",
       "      <td>10005.000000</td>\n",
       "      <td>0.000000</td>\n",
       "      <td>0.000000</td>\n",
       "    </tr>\n",
       "    <tr>\n",
       "      <th>25%</th>\n",
       "      <td>2019-10-31 00:00:00</td>\n",
       "      <td>10272.000000</td>\n",
       "      <td>182.073000</td>\n",
       "      <td>0.000000</td>\n",
       "    </tr>\n",
       "    <tr>\n",
       "      <th>50%</th>\n",
       "      <td>2020-05-31 00:00:00</td>\n",
       "      <td>10371.000000</td>\n",
       "      <td>957.018000</td>\n",
       "      <td>0.000000</td>\n",
       "    </tr>\n",
       "    <tr>\n",
       "      <th>75%</th>\n",
       "      <td>2022-03-15 00:00:00</td>\n",
       "      <td>10696.000000</td>\n",
       "      <td>3506.280000</td>\n",
       "      <td>1.000000</td>\n",
       "    </tr>\n",
       "    <tr>\n",
       "      <th>max</th>\n",
       "      <td>2023-03-31 00:00:00</td>\n",
       "      <td>51271.000000</td>\n",
       "      <td>42571.221000</td>\n",
       "      <td>30.000000</td>\n",
       "    </tr>\n",
       "    <tr>\n",
       "      <th>std</th>\n",
       "      <td>NaN</td>\n",
       "      <td>5313.087565</td>\n",
       "      <td>4734.761612</td>\n",
       "      <td>1.823750</td>\n",
       "    </tr>\n",
       "  </tbody>\n",
       "</table>\n",
       "</div>"
      ],
      "text/plain": [
       "                           BILL DATE  SOLD TO PARTY  QTY(1000 SM3)  \\\n",
       "count                           5765    5765.000000    5765.000000   \n",
       "mean   2020-11-19 13:52:01.665221120   11245.358716    2921.272392   \n",
       "min              2019-04-15 00:00:00   10005.000000       0.000000   \n",
       "25%              2019-10-31 00:00:00   10272.000000     182.073000   \n",
       "50%              2020-05-31 00:00:00   10371.000000     957.018000   \n",
       "75%              2022-03-15 00:00:00   10696.000000    3506.280000   \n",
       "max              2023-03-31 00:00:00   51271.000000   42571.221000   \n",
       "std                              NaN    5313.087565    4734.761612   \n",
       "\n",
       "       holiday_count  \n",
       "count    5765.000000  \n",
       "mean        0.576583  \n",
       "min         0.000000  \n",
       "25%         0.000000  \n",
       "50%         0.000000  \n",
       "75%         1.000000  \n",
       "max        30.000000  \n",
       "std         1.823750  "
      ]
     },
     "execution_count": 13,
     "metadata": {},
     "output_type": "execute_result"
    }
   ],
   "source": [
    "power_df_final.describe()"
   ]
  },
  {
   "cell_type": "code",
   "execution_count": 16,
   "metadata": {},
   "outputs": [
    {
     "name": "stderr",
     "output_type": "stream",
     "text": [
      "Processing:  96%|█████████▋| 5476/5687 [20:04<08:47,  2.50s/it]"
     ]
    },
    {
     "name": "stdout",
     "output_type": "stream",
     "text": [
      "Request URL: https://archive-api.open-meteo.com/v1/era5?latitude=16.9891&longitude=82.2475&start_date=2022-08-15&end_date=2022-08-31&hourly=temperature_2m&timezone=GMT\n"
     ]
    },
    {
     "name": "stderr",
     "output_type": "stream",
     "text": [
      "Processing:  96%|█████████▋| 5479/5687 [20:04<04:16,  1.24s/it]"
     ]
    },
    {
     "name": "stdout",
     "output_type": "stream",
     "text": [
      "Request URL: https://archive-api.open-meteo.com/v1/era5?latitude=16.9891&longitude=82.2475&start_date=2022-08-31&end_date=2022-09-15&hourly=temperature_2m&timezone=GMT\n"
     ]
    },
    {
     "name": "stderr",
     "output_type": "stream",
     "text": [
      "Processing:  96%|█████████▋| 5481/5687 [20:05<03:05,  1.11it/s]"
     ]
    },
    {
     "name": "stdout",
     "output_type": "stream",
     "text": [
      "Request URL: https://archive-api.open-meteo.com/v1/era5?latitude=16.9891&longitude=82.2475&start_date=2022-09-15&end_date=2022-09-30&hourly=temperature_2m&timezone=GMT\n",
      "Request URL: https://archive-api.open-meteo.com/v1/era5?latitude=16.9891&longitude=82.2475&start_date=2022-09-30&end_date=2022-10-15&hourly=temperature_2m&timezone=GMT\n",
      "Request URL: https://archive-api.open-meteo.com/v1/era5?latitude=16.61&longitude=80.7214&start_date=2019-04-15&end_date=2019-04-30&hourly=temperature_2m&timezone=GMT\n"
     ]
    },
    {
     "name": "stderr",
     "output_type": "stream",
     "text": [
      "Processing:  96%|█████████▋| 5482/5687 [20:05<02:48,  1.21it/s]"
     ]
    },
    {
     "name": "stdout",
     "output_type": "stream",
     "text": [
      "Request URL: https://archive-api.open-meteo.com/v1/era5?latitude=16.61&longitude=80.7214&start_date=2019-04-30&end_date=2019-05-15&hourly=temperature_2m&timezone=GMT\n",
      "Request URL: https://archive-api.open-meteo.com/v1/era5?latitude=16.61&longitude=80.7214&start_date=2019-05-15&end_date=2019-05-31&hourly=temperature_2m&timezone=GMT\n"
     ]
    },
    {
     "name": "stderr",
     "output_type": "stream",
     "text": [
      "Processing:  96%|█████████▋| 5485/5687 [20:06<01:45,  1.91it/s]"
     ]
    },
    {
     "name": "stdout",
     "output_type": "stream",
     "text": [
      "Request URL: https://archive-api.open-meteo.com/v1/era5?latitude=16.61&longitude=80.7214&start_date=2019-05-31&end_date=2019-06-15&hourly=temperature_2m&timezone=GMT\n"
     ]
    },
    {
     "name": "stderr",
     "output_type": "stream",
     "text": [
      "Processing:  96%|█████████▋| 5487/5687 [20:06<01:17,  2.58it/s]"
     ]
    },
    {
     "name": "stdout",
     "output_type": "stream",
     "text": [
      "Request URL: https://archive-api.open-meteo.com/v1/era5?latitude=16.61&longitude=80.7214&start_date=2019-06-15&end_date=2019-06-30&hourly=temperature_2m&timezone=GMT\n",
      "Request URL: https://archive-api.open-meteo.com/v1/era5?latitude=16.61&longitude=80.7214&start_date=2019-06-30&end_date=2019-07-15&hourly=temperature_2m&timezone=GMT\n",
      "Request URL: https://archive-api.open-meteo.com/v1/era5?latitude=16.61&longitude=80.7214&start_date=2019-07-15&end_date=2019-07-31&hourly=temperature_2m&timezone=GMT\n",
      "Request URL: https://archive-api.open-meteo.com/v1/era5?latitude=16.61&longitude=80.7214&start_date=2019-07-31&end_date=2019-08-15&hourly=temperature_2m&timezone=GMT\n",
      "Request URL: https://archive-api.open-meteo.com/v1/era5?latitude=16.61&longitude=80.7214&start_date=2019-08-15&end_date=2019-08-31&hourly=temperature_2m&timezone=GMT\n",
      "Request URL: https://archive-api.open-meteo.com/v1/era5?latitude=16.61&longitude=80.7214&start_date=2019-08-31&end_date=2019-09-15&hourly=temperature_2m&timezone=GMT\n"
     ]
    },
    {
     "name": "stderr",
     "output_type": "stream",
     "text": [
      "Processing:  97%|█████████▋| 5488/5687 [20:12<05:51,  1.77s/it]"
     ]
    },
    {
     "name": "stdout",
     "output_type": "stream",
     "text": [
      "Request URL: https://archive-api.open-meteo.com/v1/era5?latitude=16.61&longitude=80.7214&start_date=2019-09-15&end_date=2019-09-30&hourly=temperature_2m&timezone=GMT\n"
     ]
    },
    {
     "name": "stderr",
     "output_type": "stream",
     "text": [
      "Processing:  97%|█████████▋| 5489/5687 [20:14<06:17,  1.91s/it]"
     ]
    },
    {
     "name": "stdout",
     "output_type": "stream",
     "text": [
      "Request URL: https://archive-api.open-meteo.com/v1/era5?latitude=16.61&longitude=80.7214&start_date=2019-09-30&end_date=2019-10-15&hourly=temperature_2m&timezone=GMT\n"
     ]
    },
    {
     "name": "stderr",
     "output_type": "stream",
     "text": [
      "Processing:  97%|█████████▋| 5494/5687 [20:27<04:24,  1.37s/it]"
     ]
    },
    {
     "name": "stdout",
     "output_type": "stream",
     "text": [
      "Request URL: https://archive-api.open-meteo.com/v1/era5?latitude=16.61&longitude=80.7214&start_date=2019-10-15&end_date=2019-10-31&hourly=temperature_2m&timezone=GMT\n"
     ]
    },
    {
     "name": "stderr",
     "output_type": "stream",
     "text": [
      "Processing:  97%|█████████▋| 5497/5687 [20:28<02:21,  1.34it/s]"
     ]
    },
    {
     "name": "stdout",
     "output_type": "stream",
     "text": [
      "Request URL: https://archive-api.open-meteo.com/v1/era5?latitude=16.61&longitude=80.7214&start_date=2019-10-31&end_date=2019-11-15&hourly=temperature_2m&timezone=GMT\n",
      "Request URL: https://archive-api.open-meteo.com/v1/era5?latitude=16.61&longitude=80.7214&start_date=2019-11-15&end_date=2019-11-30&hourly=temperature_2m&timezone=GMT\n",
      "Request URL: https://archive-api.open-meteo.com/v1/era5?latitude=16.61&longitude=80.7214&start_date=2019-11-30&end_date=2019-12-15&hourly=temperature_2m&timezone=GMT\n",
      "Request URL: https://archive-api.open-meteo.com/v1/era5?latitude=16.61&longitude=80.7214&start_date=2019-12-15&end_date=2019-12-31&hourly=temperature_2m&timezone=GMT\n",
      "Request URL: https://archive-api.open-meteo.com/v1/era5?latitude=16.61&longitude=80.7214&start_date=2019-12-31&end_date=2020-01-15&hourly=temperature_2m&timezone=GMT\n"
     ]
    },
    {
     "name": "stderr",
     "output_type": "stream",
     "text": [
      "Processing:  97%|█████████▋| 5499/5687 [20:28<01:40,  1.87it/s]"
     ]
    },
    {
     "name": "stdout",
     "output_type": "stream",
     "text": [
      "Request URL: https://archive-api.open-meteo.com/v1/era5?latitude=16.61&longitude=80.7214&start_date=2020-01-15&end_date=2020-01-31&hourly=temperature_2m&timezone=GMT\n"
     ]
    },
    {
     "name": "stderr",
     "output_type": "stream",
     "text": [
      "Processing:  97%|█████████▋| 5501/5687 [20:29<01:18,  2.38it/s]"
     ]
    },
    {
     "name": "stdout",
     "output_type": "stream",
     "text": [
      "Request URL: https://archive-api.open-meteo.com/v1/era5?latitude=16.61&longitude=80.7214&start_date=2020-01-31&end_date=2020-02-15&hourly=temperature_2m&timezone=GMT\n"
     ]
    },
    {
     "name": "stderr",
     "output_type": "stream",
     "text": [
      "Processing:  97%|█████████▋| 5503/5687 [20:29<00:54,  3.36it/s]"
     ]
    },
    {
     "name": "stdout",
     "output_type": "stream",
     "text": [
      "Request URL: https://archive-api.open-meteo.com/v1/era5?latitude=16.61&longitude=80.7214&start_date=2020-02-15&end_date=2020-02-29&hourly=temperature_2m&timezone=GMT\n",
      "Request URL: https://archive-api.open-meteo.com/v1/era5?latitude=16.61&longitude=80.7214&start_date=2020-02-29&end_date=2020-03-15&hourly=temperature_2m&timezone=GMT\n",
      "Request URL: https://archive-api.open-meteo.com/v1/era5?latitude=16.61&longitude=80.7214&start_date=2020-03-15&end_date=2020-03-31&hourly=temperature_2m&timezone=GMT\n",
      "Request URL: https://archive-api.open-meteo.com/v1/era5?latitude=16.61&longitude=80.7214&start_date=2020-03-31&end_date=2020-04-15&hourly=temperature_2m&timezone=GMT\n",
      "Request URL: https://archive-api.open-meteo.com/v1/era5?latitude=16.61&longitude=80.7214&start_date=2020-04-15&end_date=2020-04-30&hourly=temperature_2m&timezone=GMT\n",
      "Request URL: https://archive-api.open-meteo.com/v1/era5?latitude=16.61&longitude=80.7214&start_date=2020-04-30&end_date=2020-05-15&hourly=temperature_2m&timezone=GMT\n"
     ]
    },
    {
     "name": "stderr",
     "output_type": "stream",
     "text": [
      "Processing:  97%|█████████▋| 5504/5687 [20:35<04:49,  1.58s/it]"
     ]
    },
    {
     "name": "stdout",
     "output_type": "stream",
     "text": [
      "Request URL: https://archive-api.open-meteo.com/v1/era5?latitude=16.61&longitude=80.7214&start_date=2020-05-15&end_date=2020-05-31&hourly=temperature_2m&timezone=GMT\n"
     ]
    },
    {
     "name": "stderr",
     "output_type": "stream",
     "text": [
      "Processing:  97%|█████████▋| 5505/5687 [20:37<05:18,  1.75s/it]"
     ]
    },
    {
     "name": "stdout",
     "output_type": "stream",
     "text": [
      "Request URL: https://archive-api.open-meteo.com/v1/era5?latitude=16.61&longitude=80.7214&start_date=2020-05-31&end_date=2020-06-15&hourly=temperature_2m&timezone=GMT\n"
     ]
    },
    {
     "name": "stderr",
     "output_type": "stream",
     "text": [
      "Processing:  97%|█████████▋| 5510/5687 [20:51<04:04,  1.38s/it]"
     ]
    },
    {
     "name": "stdout",
     "output_type": "stream",
     "text": [
      "Request URL: https://archive-api.open-meteo.com/v1/era5?latitude=16.61&longitude=80.7214&start_date=2020-06-15&end_date=2020-06-30&hourly=temperature_2m&timezone=GMT\n"
     ]
    },
    {
     "name": "stderr",
     "output_type": "stream",
     "text": [
      "Processing:  97%|█████████▋| 5512/5687 [20:51<02:17,  1.27it/s]"
     ]
    },
    {
     "name": "stdout",
     "output_type": "stream",
     "text": [
      "Request URL: https://archive-api.open-meteo.com/v1/era5?latitude=16.61&longitude=80.7214&start_date=2020-06-30&end_date=2020-07-15&hourly=temperature_2m&timezone=GMT\n",
      "Request URL: https://archive-api.open-meteo.com/v1/era5?latitude=16.61&longitude=80.7214&start_date=2020-07-15&end_date=2020-07-31&hourly=temperature_2m&timezone=GMT\n"
     ]
    },
    {
     "name": "stderr",
     "output_type": "stream",
     "text": [
      "Processing:  97%|█████████▋| 5513/5687 [20:51<02:06,  1.37it/s]"
     ]
    },
    {
     "name": "stdout",
     "output_type": "stream",
     "text": [
      "Request URL: https://archive-api.open-meteo.com/v1/era5?latitude=16.61&longitude=80.7214&start_date=2020-07-31&end_date=2020-08-15&hourly=temperature_2m&timezone=GMT\n"
     ]
    },
    {
     "name": "stderr",
     "output_type": "stream",
     "text": [
      "Processing:  97%|█████████▋| 5514/5687 [20:52<01:51,  1.55it/s]"
     ]
    },
    {
     "name": "stdout",
     "output_type": "stream",
     "text": [
      "Request URL: https://archive-api.open-meteo.com/v1/era5?latitude=16.61&longitude=80.7214&start_date=2020-08-15&end_date=2020-08-31&hourly=temperature_2m&timezone=GMT\n",
      "Request URL: https://archive-api.open-meteo.com/v1/era5?latitude=16.61&longitude=80.7214&start_date=2020-08-31&end_date=2020-09-15&hourly=temperature_2m&timezone=GMT\n",
      "Request URL: https://archive-api.open-meteo.com/v1/era5?latitude=16.61&longitude=80.7214&start_date=2020-09-15&end_date=2020-09-15&hourly=temperature_2m&timezone=GMT\n"
     ]
    },
    {
     "name": "stderr",
     "output_type": "stream",
     "text": [
      "Processing:  97%|█████████▋| 5519/5687 [20:52<00:41,  4.00it/s]"
     ]
    },
    {
     "name": "stdout",
     "output_type": "stream",
     "text": [
      "Request URL: https://archive-api.open-meteo.com/v1/era5?latitude=16.61&longitude=80.7214&start_date=2020-09-15&end_date=2020-09-30&hourly=temperature_2m&timezone=GMT\n",
      "Request URL: https://archive-api.open-meteo.com/v1/era5?latitude=16.61&longitude=80.7214&start_date=2020-09-30&end_date=2021-10-15&hourly=temperature_2m&timezone=GMT\n",
      "Request URL: https://archive-api.open-meteo.com/v1/era5?latitude=16.61&longitude=80.7214&start_date=2021-10-15&end_date=2021-10-31&hourly=temperature_2m&timezone=GMT\n",
      "Request URL: https://archive-api.open-meteo.com/v1/era5?latitude=16.61&longitude=80.7214&start_date=2021-10-31&end_date=2021-11-15&hourly=temperature_2m&timezone=GMT\n",
      "Request URL: https://archive-api.open-meteo.com/v1/era5?latitude=16.61&longitude=80.7214&start_date=2021-11-15&end_date=2021-11-30&hourly=temperature_2m&timezone=GMT\n",
      "Request URL: https://archive-api.open-meteo.com/v1/era5?latitude=16.61&longitude=80.7214&start_date=2021-11-30&end_date=2021-12-15&hourly=temperature_2m&timezone=GMT\n",
      "Request URL: https://archive-api.open-meteo.com/v1/era5?latitude=16.61&longitude=80.7214&start_date=2021-12-15&end_date=2021-12-31&hourly=temperature_2m&timezone=GMT\n"
     ]
    },
    {
     "name": "stderr",
     "output_type": "stream",
     "text": [
      "Processing:  97%|█████████▋| 5520/5687 [20:58<04:30,  1.62s/it]"
     ]
    },
    {
     "name": "stdout",
     "output_type": "stream",
     "text": [
      "Request URL: https://archive-api.open-meteo.com/v1/era5?latitude=16.61&longitude=80.7214&start_date=2021-12-31&end_date=2022-01-15&hourly=temperature_2m&timezone=GMT\n"
     ]
    },
    {
     "name": "stderr",
     "output_type": "stream",
     "text": [
      "Processing:  97%|█████████▋| 5521/5687 [21:00<04:51,  1.76s/it]"
     ]
    },
    {
     "name": "stdout",
     "output_type": "stream",
     "text": [
      "Request URL: https://archive-api.open-meteo.com/v1/era5?latitude=16.61&longitude=80.7214&start_date=2022-01-15&end_date=2022-01-31&hourly=temperature_2m&timezone=GMT\n"
     ]
    },
    {
     "name": "stderr",
     "output_type": "stream",
     "text": [
      "Processing:  97%|█████████▋| 5526/5687 [21:14<04:13,  1.57s/it]"
     ]
    },
    {
     "name": "stdout",
     "output_type": "stream",
     "text": [
      "Request URL: https://archive-api.open-meteo.com/v1/era5?latitude=16.61&longitude=80.7214&start_date=2022-01-31&end_date=2022-02-15&hourly=temperature_2m&timezone=GMT\n"
     ]
    },
    {
     "name": "stderr",
     "output_type": "stream",
     "text": [
      "Processing:  97%|█████████▋| 5528/5687 [21:14<02:36,  1.01it/s]"
     ]
    },
    {
     "name": "stdout",
     "output_type": "stream",
     "text": [
      "Request URL: https://archive-api.open-meteo.com/v1/era5?latitude=16.61&longitude=80.7214&start_date=2022-02-15&end_date=2022-02-28&hourly=temperature_2m&timezone=GMT\n",
      "Request URL: https://archive-api.open-meteo.com/v1/era5?latitude=16.61&longitude=80.7214&start_date=2022-02-28&end_date=2022-03-15&hourly=temperature_2m&timezone=GMT\n",
      "Request URL: https://archive-api.open-meteo.com/v1/era5?latitude=16.61&longitude=80.7214&start_date=2022-03-15&end_date=2022-03-31&hourly=temperature_2m&timezone=GMT\n"
     ]
    },
    {
     "name": "stderr",
     "output_type": "stream",
     "text": [
      "Processing:  97%|█████████▋| 5529/5687 [21:14<02:18,  1.14it/s]"
     ]
    },
    {
     "name": "stdout",
     "output_type": "stream",
     "text": [
      "Request URL: https://archive-api.open-meteo.com/v1/era5?latitude=16.61&longitude=80.7214&start_date=2022-03-31&end_date=2022-04-15&hourly=temperature_2m&timezone=GMT\n",
      "Request URL: https://archive-api.open-meteo.com/v1/era5?latitude=16.61&longitude=80.7214&start_date=2022-04-15&end_date=2022-04-30&hourly=temperature_2m&timezone=GMT\n"
     ]
    },
    {
     "name": "stderr",
     "output_type": "stream",
     "text": [
      "Processing:  97%|█████████▋| 5532/5687 [21:15<01:16,  2.04it/s]"
     ]
    },
    {
     "name": "stdout",
     "output_type": "stream",
     "text": [
      "Request URL: https://archive-api.open-meteo.com/v1/era5?latitude=16.61&longitude=80.7214&start_date=2022-04-30&end_date=2022-05-15&hourly=temperature_2m&timezone=GMT\n"
     ]
    },
    {
     "name": "stderr",
     "output_type": "stream",
     "text": [
      "Processing:  97%|█████████▋| 5535/5687 [21:16<00:46,  3.30it/s]"
     ]
    },
    {
     "name": "stdout",
     "output_type": "stream",
     "text": [
      "Request URL: https://archive-api.open-meteo.com/v1/era5?latitude=16.61&longitude=80.7214&start_date=2022-05-15&end_date=2022-05-31&hourly=temperature_2m&timezone=GMT\n",
      "Request URL: https://archive-api.open-meteo.com/v1/era5?latitude=16.61&longitude=80.7214&start_date=2022-05-31&end_date=2022-06-15&hourly=temperature_2m&timezone=GMT\n",
      "Request URL: https://archive-api.open-meteo.com/v1/era5?latitude=16.61&longitude=80.7214&start_date=2022-06-15&end_date=2022-06-30&hourly=temperature_2m&timezone=GMT\n",
      "Request URL: https://archive-api.open-meteo.com/v1/era5?latitude=16.61&longitude=80.7214&start_date=2022-06-30&end_date=2022-07-15&hourly=temperature_2m&timezone=GMT\n",
      "Request URL: https://archive-api.open-meteo.com/v1/era5?latitude=16.61&longitude=80.7214&start_date=2022-07-15&end_date=2022-07-31&hourly=temperature_2m&timezone=GMT\n",
      "Request URL: https://archive-api.open-meteo.com/v1/era5?latitude=16.61&longitude=80.7214&start_date=2022-07-31&end_date=2022-08-15&hourly=temperature_2m&timezone=GMT\n",
      "Request URL: https://archive-api.open-meteo.com/v1/era5?latitude=16.61&longitude=80.7214&start_date=2022-08-15&end_date=2022-08-31&hourly=temperature_2m&timezone=GMT\n"
     ]
    },
    {
     "name": "stderr",
     "output_type": "stream",
     "text": [
      "Processing:  97%|█████████▋| 5536/5687 [21:21<03:52,  1.54s/it]"
     ]
    },
    {
     "name": "stdout",
     "output_type": "stream",
     "text": [
      "Request URL: https://archive-api.open-meteo.com/v1/era5?latitude=16.61&longitude=80.7214&start_date=2022-08-31&end_date=2022-09-15&hourly=temperature_2m&timezone=GMT\n"
     ]
    },
    {
     "name": "stderr",
     "output_type": "stream",
     "text": [
      "Processing:  97%|█████████▋| 5537/5687 [21:24<04:14,  1.70s/it]"
     ]
    },
    {
     "name": "stdout",
     "output_type": "stream",
     "text": [
      "Request URL: https://archive-api.open-meteo.com/v1/era5?latitude=16.61&longitude=80.7214&start_date=2022-09-15&end_date=2022-09-30&hourly=temperature_2m&timezone=GMT\n"
     ]
    },
    {
     "name": "stderr",
     "output_type": "stream",
     "text": [
      "Processing:  97%|█████████▋| 5542/5687 [21:37<03:31,  1.46s/it]"
     ]
    },
    {
     "name": "stdout",
     "output_type": "stream",
     "text": [
      "Request URL: https://archive-api.open-meteo.com/v1/era5?latitude=16.61&longitude=80.7214&start_date=2022-09-30&end_date=2022-10-15&hourly=temperature_2m&timezone=GMT\n"
     ]
    },
    {
     "name": "stderr",
     "output_type": "stream",
     "text": [
      "Processing:  97%|█████████▋| 5544/5687 [21:37<02:15,  1.05it/s]"
     ]
    },
    {
     "name": "stdout",
     "output_type": "stream",
     "text": [
      "Request URL: https://archive-api.open-meteo.com/v1/era5?latitude=16.61&longitude=80.7214&start_date=2022-10-15&end_date=2022-10-31&hourly=temperature_2m&timezone=GMT\n",
      "Request URL: https://archive-api.open-meteo.com/v1/era5?latitude=16.61&longitude=80.7214&start_date=2022-10-31&end_date=2022-11-15&hourly=temperature_2m&timezone=GMT\n"
     ]
    },
    {
     "name": "stderr",
     "output_type": "stream",
     "text": [
      "Processing:  98%|█████████▊| 5545/5687 [21:38<01:58,  1.19it/s]"
     ]
    },
    {
     "name": "stdout",
     "output_type": "stream",
     "text": [
      "Request URL: https://archive-api.open-meteo.com/v1/era5?latitude=16.61&longitude=80.7214&start_date=2022-11-15&end_date=2022-11-30&hourly=temperature_2m&timezone=GMT\n",
      "Request URL: https://archive-api.open-meteo.com/v1/era5?latitude=28.6139&longitude=77.209&start_date=2019-06-15&end_date=2019-06-30&hourly=temperature_2m&timezone=GMT\n",
      "Request URL: https://archive-api.open-meteo.com/v1/era5?latitude=28.6139&longitude=77.209&start_date=2019-06-30&end_date=2019-07-15&hourly=temperature_2m&timezone=GMT\n"
     ]
    },
    {
     "name": "stderr",
     "output_type": "stream",
     "text": [
      "Processing:  98%|█████████▊| 5546/5687 [21:38<01:48,  1.30it/s]"
     ]
    },
    {
     "name": "stdout",
     "output_type": "stream",
     "text": [
      "Request URL: https://archive-api.open-meteo.com/v1/era5?latitude=28.6139&longitude=77.209&start_date=2019-07-15&end_date=2019-07-31&hourly=temperature_2m&timezone=GMT\n"
     ]
    },
    {
     "name": "stderr",
     "output_type": "stream",
     "text": [
      "Processing:  98%|█████████▊| 5551/5687 [21:39<00:45,  2.99it/s]"
     ]
    },
    {
     "name": "stdout",
     "output_type": "stream",
     "text": [
      "Request URL: https://archive-api.open-meteo.com/v1/era5?latitude=28.6139&longitude=77.209&start_date=2019-07-31&end_date=2019-08-15&hourly=temperature_2m&timezone=GMT\n",
      "Request URL: https://archive-api.open-meteo.com/v1/era5?latitude=28.6139&longitude=77.209&start_date=2019-08-15&end_date=2019-08-31&hourly=temperature_2m&timezone=GMT\n",
      "Request URL: https://archive-api.open-meteo.com/v1/era5?latitude=28.6139&longitude=77.209&start_date=2019-08-31&end_date=2019-09-15&hourly=temperature_2m&timezone=GMT\n",
      "Request URL: https://archive-api.open-meteo.com/v1/era5?latitude=28.6139&longitude=77.209&start_date=2019-09-15&end_date=2019-09-15&hourly=temperature_2m&timezone=GMT\n",
      "Request URL: https://archive-api.open-meteo.com/v1/era5?latitude=28.6139&longitude=77.209&start_date=2019-09-15&end_date=2019-09-30&hourly=temperature_2m&timezone=GMT\n",
      "Request URL: https://archive-api.open-meteo.com/v1/era5?latitude=28.6139&longitude=77.209&start_date=2019-09-30&end_date=2019-10-15&hourly=temperature_2m&timezone=GMT\n",
      "Request URL: https://archive-api.open-meteo.com/v1/era5?latitude=28.6139&longitude=77.209&start_date=2019-10-15&end_date=2019-10-15&hourly=temperature_2m&timezone=GMT\n"
     ]
    },
    {
     "name": "stderr",
     "output_type": "stream",
     "text": [
      "Processing:  98%|█████████▊| 5552/5687 [21:45<03:00,  1.34s/it]"
     ]
    },
    {
     "name": "stdout",
     "output_type": "stream",
     "text": [
      "Request URL: https://archive-api.open-meteo.com/v1/era5?latitude=28.6139&longitude=77.209&start_date=2019-10-15&end_date=2019-10-31&hourly=temperature_2m&timezone=GMT\n"
     ]
    },
    {
     "name": "stderr",
     "output_type": "stream",
     "text": [
      "Processing:  98%|█████████▊| 5553/5687 [21:47<03:22,  1.51s/it]"
     ]
    },
    {
     "name": "stdout",
     "output_type": "stream",
     "text": [
      "Request URL: https://archive-api.open-meteo.com/v1/era5?latitude=28.6139&longitude=77.209&start_date=2019-10-31&end_date=2019-10-31&hourly=temperature_2m&timezone=GMT\n"
     ]
    },
    {
     "name": "stderr",
     "output_type": "stream",
     "text": [
      "Processing:  98%|█████████▊| 5560/5687 [22:00<01:39,  1.28it/s]"
     ]
    },
    {
     "name": "stdout",
     "output_type": "stream",
     "text": [
      "Request URL: https://archive-api.open-meteo.com/v1/era5?latitude=28.6139&longitude=77.209&start_date=2019-10-31&end_date=2019-11-15&hourly=temperature_2m&timezone=GMT\n",
      "Request URL: https://archive-api.open-meteo.com/v1/era5?latitude=28.6139&longitude=77.209&start_date=2019-11-15&end_date=2019-11-15&hourly=temperature_2m&timezone=GMT\n"
     ]
    },
    {
     "name": "stderr",
     "output_type": "stream",
     "text": [
      "Processing:  98%|█████████▊| 5561/5687 [22:01<01:28,  1.42it/s]"
     ]
    },
    {
     "name": "stdout",
     "output_type": "stream",
     "text": [
      "Request URL: https://archive-api.open-meteo.com/v1/era5?latitude=28.6139&longitude=77.209&start_date=2019-11-15&end_date=2019-11-30&hourly=temperature_2m&timezone=GMT\n",
      "Request URL: https://archive-api.open-meteo.com/v1/era5?latitude=28.6139&longitude=77.209&start_date=2019-11-30&end_date=2019-11-30&hourly=temperature_2m&timezone=GMT\n",
      "Request URL: https://archive-api.open-meteo.com/v1/era5?latitude=28.6139&longitude=77.209&start_date=2019-11-30&end_date=2019-12-15&hourly=temperature_2m&timezone=GMT\n",
      "Request URL: https://archive-api.open-meteo.com/v1/era5?latitude=28.6139&longitude=77.209&start_date=2019-12-15&end_date=2019-12-15&hourly=temperature_2m&timezone=GMT\n"
     ]
    },
    {
     "name": "stderr",
     "output_type": "stream",
     "text": [
      "Processing:  98%|█████████▊| 5562/5687 [22:01<01:25,  1.46it/s]"
     ]
    },
    {
     "name": "stdout",
     "output_type": "stream",
     "text": [
      "Request URL: https://archive-api.open-meteo.com/v1/era5?latitude=28.6139&longitude=77.209&start_date=2019-12-15&end_date=2019-12-31&hourly=temperature_2m&timezone=GMT\n"
     ]
    },
    {
     "name": "stderr",
     "output_type": "stream",
     "text": [
      "Processing:  98%|█████████▊| 5566/5687 [22:02<00:38,  3.13it/s]"
     ]
    },
    {
     "name": "stdout",
     "output_type": "stream",
     "text": [
      "Request URL: https://archive-api.open-meteo.com/v1/era5?latitude=28.6139&longitude=77.209&start_date=2019-12-31&end_date=2019-12-31&hourly=temperature_2m&timezone=GMT\n"
     ]
    },
    {
     "name": "stderr",
     "output_type": "stream",
     "text": [
      "Processing:  98%|█████████▊| 5567/5687 [22:02<00:35,  3.41it/s]"
     ]
    },
    {
     "name": "stdout",
     "output_type": "stream",
     "text": [
      "Request URL: https://archive-api.open-meteo.com/v1/era5?latitude=28.6139&longitude=77.209&start_date=2019-12-31&end_date=2020-01-15&hourly=temperature_2m&timezone=GMT\n",
      "Request URL: https://archive-api.open-meteo.com/v1/era5?latitude=28.6139&longitude=77.209&start_date=2020-01-15&end_date=2020-01-31&hourly=temperature_2m&timezone=GMT\n",
      "Request URL: https://archive-api.open-meteo.com/v1/era5?latitude=28.6139&longitude=77.209&start_date=2020-01-31&end_date=2020-02-15&hourly=temperature_2m&timezone=GMT\n",
      "Request URL: https://archive-api.open-meteo.com/v1/era5?latitude=28.6139&longitude=77.209&start_date=2020-02-15&end_date=2020-02-29&hourly=temperature_2m&timezone=GMT\n",
      "Request URL: https://archive-api.open-meteo.com/v1/era5?latitude=28.6139&longitude=77.209&start_date=2020-02-29&end_date=2020-03-15&hourly=temperature_2m&timezone=GMT\n",
      "Request URL: https://archive-api.open-meteo.com/v1/era5?latitude=28.6139&longitude=77.209&start_date=2020-03-15&end_date=2020-03-31&hourly=temperature_2m&timezone=GMT\n"
     ]
    },
    {
     "name": "stderr",
     "output_type": "stream",
     "text": [
      "Processing:  98%|█████████▊| 5568/5687 [22:08<03:07,  1.58s/it]"
     ]
    },
    {
     "name": "stdout",
     "output_type": "stream",
     "text": [
      "Request URL: https://archive-api.open-meteo.com/v1/era5?latitude=28.6139&longitude=77.209&start_date=2020-03-31&end_date=2020-05-31&hourly=temperature_2m&timezone=GMT\n"
     ]
    },
    {
     "name": "stderr",
     "output_type": "stream",
     "text": [
      "Processing:  98%|█████████▊| 5569/5687 [22:10<03:23,  1.73s/it]"
     ]
    },
    {
     "name": "stdout",
     "output_type": "stream",
     "text": [
      "Request URL: https://archive-api.open-meteo.com/v1/era5?latitude=28.6139&longitude=77.209&start_date=2020-05-31&end_date=2020-06-15&hourly=temperature_2m&timezone=GMT\n"
     ]
    },
    {
     "name": "stderr",
     "output_type": "stream",
     "text": [
      "Processing:  98%|█████████▊| 5576/5687 [22:24<01:22,  1.35it/s]"
     ]
    },
    {
     "name": "stdout",
     "output_type": "stream",
     "text": [
      "Request URL: https://archive-api.open-meteo.com/v1/era5?latitude=28.6139&longitude=77.209&start_date=2020-06-15&end_date=2020-06-30&hourly=temperature_2m&timezone=GMT\n",
      "Request URL: https://archive-api.open-meteo.com/v1/era5?latitude=28.6139&longitude=77.209&start_date=2020-06-30&end_date=2020-07-15&hourly=temperature_2m&timezone=GMT\n"
     ]
    },
    {
     "name": "stderr",
     "output_type": "stream",
     "text": [
      "Processing:  98%|█████████▊| 5577/5687 [22:24<01:10,  1.55it/s]"
     ]
    },
    {
     "name": "stdout",
     "output_type": "stream",
     "text": [
      "Request URL: https://archive-api.open-meteo.com/v1/era5?latitude=28.6139&longitude=77.209&start_date=2020-07-15&end_date=2020-07-31&hourly=temperature_2m&timezone=GMT\n",
      "Request URL: https://archive-api.open-meteo.com/v1/era5?latitude=28.6139&longitude=77.209&start_date=2020-07-31&end_date=2020-08-15&hourly=temperature_2m&timezone=GMT\n",
      "Request URL: https://archive-api.open-meteo.com/v1/era5?latitude=28.6139&longitude=77.209&start_date=2020-08-15&end_date=2020-08-31&hourly=temperature_2m&timezone=GMT\n",
      "Request URL: https://archive-api.open-meteo.com/v1/era5?latitude=28.6139&longitude=77.209&start_date=2020-08-31&end_date=2020-08-31&hourly=temperature_2m&timezone=GMT\n"
     ]
    },
    {
     "name": "stderr",
     "output_type": "stream",
     "text": [
      "Processing:  98%|█████████▊| 5578/5687 [22:25<01:08,  1.58it/s]"
     ]
    },
    {
     "name": "stdout",
     "output_type": "stream",
     "text": [
      "Request URL: https://archive-api.open-meteo.com/v1/era5?latitude=28.6139&longitude=77.209&start_date=2020-08-31&end_date=2020-09-15&hourly=temperature_2m&timezone=GMT\n"
     ]
    },
    {
     "name": "stderr",
     "output_type": "stream",
     "text": [
      "Processing:  98%|█████████▊| 5582/5687 [22:25<00:30,  3.46it/s]"
     ]
    },
    {
     "name": "stdout",
     "output_type": "stream",
     "text": [
      "Request URL: https://archive-api.open-meteo.com/v1/era5?latitude=28.6139&longitude=77.209&start_date=2020-09-15&end_date=2020-09-30&hourly=temperature_2m&timezone=GMT\n"
     ]
    },
    {
     "name": "stderr",
     "output_type": "stream",
     "text": [
      "Processing:  98%|█████████▊| 5583/5687 [22:25<00:27,  3.85it/s]"
     ]
    },
    {
     "name": "stdout",
     "output_type": "stream",
     "text": [
      "Request URL: https://archive-api.open-meteo.com/v1/era5?latitude=28.6139&longitude=77.209&start_date=2020-03-15&end_date=2020-03-31&hourly=temperature_2m&timezone=GMT\n",
      "Request URL: https://archive-api.open-meteo.com/v1/era5?latitude=28.6139&longitude=77.209&start_date=2020-03-31&end_date=2020-04-15&hourly=temperature_2m&timezone=GMT\n",
      "Request URL: https://archive-api.open-meteo.com/v1/era5?latitude=28.6139&longitude=77.209&start_date=2020-04-15&end_date=2020-04-30&hourly=temperature_2m&timezone=GMT\n",
      "Request URL: https://archive-api.open-meteo.com/v1/era5?latitude=28.6139&longitude=77.209&start_date=2020-04-30&end_date=2020-05-15&hourly=temperature_2m&timezone=GMT\n",
      "Request URL: https://archive-api.open-meteo.com/v1/era5?latitude=28.6139&longitude=77.209&start_date=2020-05-15&end_date=2020-05-31&hourly=temperature_2m&timezone=GMT\n",
      "Request URL: https://archive-api.open-meteo.com/v1/era5?latitude=28.6139&longitude=77.209&start_date=2020-05-31&end_date=2020-06-15&hourly=temperature_2m&timezone=GMT\n"
     ]
    },
    {
     "name": "stderr",
     "output_type": "stream",
     "text": [
      "Processing:  98%|█████████▊| 5584/5687 [22:31<02:44,  1.60s/it]"
     ]
    },
    {
     "name": "stdout",
     "output_type": "stream",
     "text": [
      "Request URL: https://archive-api.open-meteo.com/v1/era5?latitude=28.6139&longitude=77.209&start_date=2020-09-15&end_date=2020-09-30&hourly=temperature_2m&timezone=GMT\n"
     ]
    },
    {
     "name": "stderr",
     "output_type": "stream",
     "text": [
      "Processing:  98%|█████████▊| 5585/5687 [22:33<02:59,  1.76s/it]"
     ]
    },
    {
     "name": "stdout",
     "output_type": "stream",
     "text": [
      "Request URL: https://archive-api.open-meteo.com/v1/era5?latitude=21.7245&longitude=72.6504&start_date=2019-09-15&end_date=2019-09-30&hourly=temperature_2m&timezone=GMT\n"
     ]
    },
    {
     "name": "stderr",
     "output_type": "stream",
     "text": [
      "Processing:  98%|█████████▊| 5592/5687 [22:47<01:38,  1.03s/it]"
     ]
    },
    {
     "name": "stdout",
     "output_type": "stream",
     "text": [
      "Request URL: https://archive-api.open-meteo.com/v1/era5?latitude=21.7245&longitude=72.6504&start_date=2019-10-15&end_date=2019-10-31&hourly=temperature_2m&timezone=GMT\n",
      "Request URL: https://archive-api.open-meteo.com/v1/era5?latitude=21.7245&longitude=72.6504&start_date=2019-10-31&end_date=2019-11-15&hourly=temperature_2m&timezone=GMT\n"
     ]
    },
    {
     "name": "stderr",
     "output_type": "stream",
     "text": [
      "Processing:  98%|█████████▊| 5593/5687 [22:47<01:25,  1.10it/s]"
     ]
    },
    {
     "name": "stdout",
     "output_type": "stream",
     "text": [
      "Request URL: https://archive-api.open-meteo.com/v1/era5?latitude=21.7245&longitude=72.6504&start_date=2019-11-15&end_date=2019-11-30&hourly=temperature_2m&timezone=GMT\n",
      "Request URL: https://archive-api.open-meteo.com/v1/era5?latitude=21.7245&longitude=72.6504&start_date=2019-11-30&end_date=2019-12-15&hourly=temperature_2m&timezone=GMT\n",
      "Request URL: https://archive-api.open-meteo.com/v1/era5?latitude=21.7245&longitude=72.6504&start_date=2019-12-15&end_date=2019-12-31&hourly=temperature_2m&timezone=GMT\n",
      "Request URL: https://archive-api.open-meteo.com/v1/era5?latitude=21.7245&longitude=72.6504&start_date=2019-12-31&end_date=2020-01-15&hourly=temperature_2m&timezone=GMT\n",
      "Request URL: https://archive-api.open-meteo.com/v1/era5?latitude=21.7245&longitude=72.6504&start_date=2020-01-15&end_date=2020-01-31&hourly=temperature_2m&timezone=GMT\n"
     ]
    },
    {
     "name": "stderr",
     "output_type": "stream",
     "text": [
      "Processing:  98%|█████████▊| 5598/5687 [22:49<00:33,  2.64it/s]"
     ]
    },
    {
     "name": "stdout",
     "output_type": "stream",
     "text": [
      "Request URL: https://archive-api.open-meteo.com/v1/era5?latitude=21.7245&longitude=72.6504&start_date=2020-01-31&end_date=2020-02-15&hourly=temperature_2m&timezone=GMT\n",
      "Request URL: https://archive-api.open-meteo.com/v1/era5?latitude=21.7245&longitude=72.6504&start_date=2020-02-15&end_date=2020-02-29&hourly=temperature_2m&timezone=GMT\n",
      "Request URL: https://archive-api.open-meteo.com/v1/era5?latitude=21.7245&longitude=72.6504&start_date=2020-02-29&end_date=2020-03-15&hourly=temperature_2m&timezone=GMT\n",
      "Request URL: https://archive-api.open-meteo.com/v1/era5?latitude=21.7245&longitude=72.6504&start_date=2020-03-15&end_date=2020-03-31&hourly=temperature_2m&timezone=GMT\n",
      "Request URL: https://archive-api.open-meteo.com/v1/era5?latitude=21.7245&longitude=72.6504&start_date=2020-06-15&end_date=2020-06-30&hourly=temperature_2m&timezone=GMT\n",
      "Request URL: https://archive-api.open-meteo.com/v1/era5?latitude=21.7245&longitude=72.6504&start_date=2020-06-30&end_date=2020-07-15&hourly=temperature_2m&timezone=GMT\n",
      "Request URL: https://archive-api.open-meteo.com/v1/era5?latitude=21.7245&longitude=72.6504&start_date=2020-07-15&end_date=2020-07-15&hourly=temperature_2m&timezone=GMT\n"
     ]
    },
    {
     "name": "stderr",
     "output_type": "stream",
     "text": [
      "Processing:  98%|█████████▊| 5600/5687 [22:54<02:06,  1.46s/it]"
     ]
    },
    {
     "name": "stdout",
     "output_type": "stream",
     "text": [
      "Request URL: https://archive-api.open-meteo.com/v1/era5?latitude=21.7245&longitude=72.6504&start_date=2020-07-15&end_date=2020-07-31&hourly=temperature_2m&timezone=GMT\n"
     ]
    },
    {
     "name": "stderr",
     "output_type": "stream",
     "text": [
      "Processing:  98%|█████████▊| 5601/5687 [22:57<02:20,  1.63s/it]"
     ]
    },
    {
     "name": "stdout",
     "output_type": "stream",
     "text": [
      "Request URL: https://archive-api.open-meteo.com/v1/era5?latitude=21.7245&longitude=72.6504&start_date=2020-07-31&end_date=2020-07-31&hourly=temperature_2m&timezone=GMT\n"
     ]
    },
    {
     "name": "stderr",
     "output_type": "stream",
     "text": [
      "Processing:  99%|█████████▊| 5608/5687 [23:10<01:18,  1.00it/s]"
     ]
    },
    {
     "name": "stdout",
     "output_type": "stream",
     "text": [
      "Request URL: https://archive-api.open-meteo.com/v1/era5?latitude=21.7245&longitude=72.6504&start_date=2020-07-31&end_date=2020-07-31&hourly=temperature_2m&timezone=GMT\n"
     ]
    },
    {
     "name": "stderr",
     "output_type": "stream",
     "text": [
      "Processing:  99%|█████████▊| 5609/5687 [23:11<01:10,  1.10it/s]"
     ]
    },
    {
     "name": "stdout",
     "output_type": "stream",
     "text": [
      "Request URL: https://archive-api.open-meteo.com/v1/era5?latitude=21.7245&longitude=72.6504&start_date=2020-07-31&end_date=2020-07-31&hourly=temperature_2m&timezone=GMT\n",
      "Request URL: https://archive-api.open-meteo.com/v1/era5?latitude=21.7245&longitude=72.6504&start_date=2020-07-31&end_date=2020-08-15&hourly=temperature_2m&timezone=GMT\n",
      "Request URL: https://archive-api.open-meteo.com/v1/era5?latitude=21.7245&longitude=72.6504&start_date=2020-08-15&end_date=2020-08-31&hourly=temperature_2m&timezone=GMT\n",
      "Request URL: https://archive-api.open-meteo.com/v1/era5?latitude=21.7245&longitude=72.6504&start_date=2020-08-31&end_date=2020-09-15&hourly=temperature_2m&timezone=GMT\n",
      "Request URL: https://archive-api.open-meteo.com/v1/era5?latitude=21.7245&longitude=72.6504&start_date=2020-09-15&end_date=2020-09-15&hourly=temperature_2m&timezone=GMT\n"
     ]
    },
    {
     "name": "stderr",
     "output_type": "stream",
     "text": [
      "Processing:  99%|█████████▊| 5610/5687 [23:11<01:04,  1.19it/s]"
     ]
    },
    {
     "name": "stdout",
     "output_type": "stream",
     "text": [
      "Request URL: https://archive-api.open-meteo.com/v1/era5?latitude=21.7245&longitude=72.6504&start_date=2020-09-15&end_date=2020-09-30&hourly=temperature_2m&timezone=GMT\n"
     ]
    },
    {
     "name": "stderr",
     "output_type": "stream",
     "text": [
      "Processing:  99%|█████████▊| 5614/5687 [23:12<00:30,  2.38it/s]"
     ]
    },
    {
     "name": "stdout",
     "output_type": "stream",
     "text": [
      "Request URL: https://archive-api.open-meteo.com/v1/era5?latitude=21.7245&longitude=72.6504&start_date=2020-09-30&end_date=2020-09-30&hourly=temperature_2m&timezone=GMT\n",
      "Request URL: https://archive-api.open-meteo.com/v1/era5?latitude=16.5787&longitude=82.0039&start_date=2022-08-15&end_date=2022-08-31&hourly=temperature_2m&timezone=GMT\n",
      "Request URL: https://archive-api.open-meteo.com/v1/era5?latitude=16.5787&longitude=82.0039&start_date=2022-08-31&end_date=2022-10-15&hourly=temperature_2m&timezone=GMT\n",
      "Request URL: https://archive-api.open-meteo.com/v1/era5?latitude=16.5787&longitude=82.0039&start_date=2022-10-15&end_date=2022-10-31&hourly=temperature_2m&timezone=GMT\n",
      "Request URL: https://archive-api.open-meteo.com/v1/era5?latitude=16.5787&longitude=82.0039&start_date=2022-10-31&end_date=2022-11-15&hourly=temperature_2m&timezone=GMT\n",
      "Request URL: https://archive-api.open-meteo.com/v1/era5?latitude=16.5787&longitude=82.0039&start_date=2022-11-15&end_date=2022-11-30&hourly=temperature_2m&timezone=GMT\n",
      "Request URL: https://archive-api.open-meteo.com/v1/era5?latitude=21.7245&longitude=72.6504&start_date=2022-07-31&end_date=2022-08-15&hourly=temperature_2m&timezone=GMT\n"
     ]
    },
    {
     "name": "stderr",
     "output_type": "stream",
     "text": [
      "Processing:  99%|█████████▉| 5616/5687 [23:18<01:42,  1.44s/it]"
     ]
    },
    {
     "name": "stdout",
     "output_type": "stream",
     "text": [
      "Request URL: https://archive-api.open-meteo.com/v1/era5?latitude=21.7245&longitude=72.6504&start_date=2022-08-15&end_date=2022-08-15&hourly=temperature_2m&timezone=GMT\n"
     ]
    },
    {
     "name": "stderr",
     "output_type": "stream",
     "text": [
      "Processing:  99%|█████████▉| 5617/5687 [23:20<01:52,  1.61s/it]"
     ]
    },
    {
     "name": "stdout",
     "output_type": "stream",
     "text": [
      "Request URL: https://archive-api.open-meteo.com/v1/era5?latitude=21.7245&longitude=72.6504&start_date=2022-08-15&end_date=2022-08-31&hourly=temperature_2m&timezone=GMT\n"
     ]
    },
    {
     "name": "stderr",
     "output_type": "stream",
     "text": [
      "Processing:  99%|█████████▉| 5623/5687 [23:34<01:12,  1.13s/it]"
     ]
    },
    {
     "name": "stdout",
     "output_type": "stream",
     "text": [
      "Request URL: https://archive-api.open-meteo.com/v1/era5?latitude=21.7245&longitude=72.6504&start_date=2022-08-31&end_date=2022-09-30&hourly=temperature_2m&timezone=GMT\n"
     ]
    },
    {
     "name": "stderr",
     "output_type": "stream",
     "text": [
      "Processing:  99%|█████████▉| 5625/5687 [23:34<00:49,  1.26it/s]"
     ]
    },
    {
     "name": "stdout",
     "output_type": "stream",
     "text": [
      "Request URL: https://archive-api.open-meteo.com/v1/era5?latitude=21.1155&longitude=72.6896&start_date=2022-11-15&end_date=2022-11-15&hourly=temperature_2m&timezone=GMT\n",
      "Request URL: https://archive-api.open-meteo.com/v1/era5?latitude=21.1155&longitude=72.6896&start_date=2022-11-15&end_date=2022-11-15&hourly=temperature_2m&timezone=GMT\n",
      "Request URL: https://archive-api.open-meteo.com/v1/era5?latitude=21.1155&longitude=72.6896&start_date=2022-11-15&end_date=2022-11-15&hourly=temperature_2m&timezone=GMT\n"
     ]
    },
    {
     "name": "stderr",
     "output_type": "stream",
     "text": [
      "Processing:  99%|█████████▉| 5626/5687 [23:35<00:43,  1.41it/s]"
     ]
    },
    {
     "name": "stdout",
     "output_type": "stream",
     "text": [
      "Request URL: https://archive-api.open-meteo.com/v1/era5?latitude=21.1155&longitude=72.6896&start_date=2022-11-15&end_date=2022-11-15&hourly=temperature_2m&timezone=GMT\n",
      "Request URL: https://archive-api.open-meteo.com/v1/era5?latitude=21.1155&longitude=72.6896&start_date=2022-11-15&end_date=2022-11-15&hourly=temperature_2m&timezone=GMT\n",
      "Request URL: https://archive-api.open-meteo.com/v1/era5?latitude=21.1155&longitude=72.6896&start_date=2022-11-15&end_date=2022-11-30&hourly=temperature_2m&timezone=GMT\n"
     ]
    },
    {
     "name": "stderr",
     "output_type": "stream",
     "text": [
      "Processing:  99%|█████████▉| 5630/5687 [23:35<00:18,  3.05it/s]"
     ]
    },
    {
     "name": "stdout",
     "output_type": "stream",
     "text": [
      "Request URL: https://archive-api.open-meteo.com/v1/era5?latitude=21.1155&longitude=72.6896&start_date=2022-11-30&end_date=2022-11-30&hourly=temperature_2m&timezone=GMT\n"
     ]
    },
    {
     "name": "stderr",
     "output_type": "stream",
     "text": [
      "Processing:  99%|█████████▉| 5631/5687 [23:36<00:16,  3.30it/s]"
     ]
    },
    {
     "name": "stdout",
     "output_type": "stream",
     "text": [
      "Request URL: https://archive-api.open-meteo.com/v1/era5?latitude=21.1155&longitude=72.6896&start_date=2022-11-30&end_date=2022-11-30&hourly=temperature_2m&timezone=GMT\n",
      "Request URL: https://archive-api.open-meteo.com/v1/era5?latitude=21.1155&longitude=72.6896&start_date=2022-11-30&end_date=2022-12-15&hourly=temperature_2m&timezone=GMT\n",
      "Request URL: https://archive-api.open-meteo.com/v1/era5?latitude=21.1155&longitude=72.6896&start_date=2022-12-15&end_date=2022-12-15&hourly=temperature_2m&timezone=GMT\n",
      "Request URL: https://archive-api.open-meteo.com/v1/era5?latitude=21.1155&longitude=72.6896&start_date=2022-12-15&end_date=2022-12-31&hourly=temperature_2m&timezone=GMT\n",
      "Request URL: https://archive-api.open-meteo.com/v1/era5?latitude=21.1155&longitude=72.6896&start_date=2022-12-31&end_date=2022-12-31&hourly=temperature_2m&timezone=GMT\n",
      "Request URL: https://archive-api.open-meteo.com/v1/era5?latitude=21.1155&longitude=72.6896&start_date=2022-12-31&end_date=2023-01-15&hourly=temperature_2m&timezone=GMT\n"
     ]
    },
    {
     "name": "stderr",
     "output_type": "stream",
     "text": [
      "Processing:  99%|█████████▉| 5632/5687 [23:41<01:31,  1.67s/it]"
     ]
    },
    {
     "name": "stdout",
     "output_type": "stream",
     "text": [
      "Request URL: https://archive-api.open-meteo.com/v1/era5?latitude=21.1155&longitude=72.6896&start_date=2023-01-15&end_date=2023-01-15&hourly=temperature_2m&timezone=GMT\n"
     ]
    },
    {
     "name": "stderr",
     "output_type": "stream",
     "text": [
      "Processing:  99%|█████████▉| 5633/5687 [23:44<01:36,  1.80s/it]"
     ]
    },
    {
     "name": "stdout",
     "output_type": "stream",
     "text": [
      "Request URL: https://archive-api.open-meteo.com/v1/era5?latitude=21.1155&longitude=72.6896&start_date=2023-01-15&end_date=2023-01-31&hourly=temperature_2m&timezone=GMT\n"
     ]
    },
    {
     "name": "stderr",
     "output_type": "stream",
     "text": [
      "Processing:  99%|█████████▉| 5640/5687 [23:58<00:52,  1.12s/it]"
     ]
    },
    {
     "name": "stdout",
     "output_type": "stream",
     "text": [
      "Request URL: https://archive-api.open-meteo.com/v1/era5?latitude=21.1155&longitude=72.6896&start_date=2023-01-31&end_date=2023-01-31&hourly=temperature_2m&timezone=GMT\n"
     ]
    },
    {
     "name": "stderr",
     "output_type": "stream",
     "text": [
      "Processing:  99%|█████████▉| 5641/5687 [23:58<00:46,  1.00s/it]"
     ]
    },
    {
     "name": "stdout",
     "output_type": "stream",
     "text": [
      "Request URL: https://archive-api.open-meteo.com/v1/era5?latitude=21.1155&longitude=72.6896&start_date=2023-01-31&end_date=2023-01-31&hourly=temperature_2m&timezone=GMT\n",
      "Request URL: https://archive-api.open-meteo.com/v1/era5?latitude=21.1155&longitude=72.6896&start_date=2023-01-31&end_date=2023-03-31&hourly=temperature_2m&timezone=GMT\n"
     ]
    },
    {
     "name": "stderr",
     "output_type": "stream",
     "text": [
      "Processing:  99%|█████████▉| 5642/5687 [23:58<00:38,  1.17it/s]"
     ]
    },
    {
     "name": "stdout",
     "output_type": "stream",
     "text": [
      "Request URL: https://archive-api.open-meteo.com/v1/era5?latitude=21.1155&longitude=72.6896&start_date=2022-11-15&end_date=2022-11-15&hourly=temperature_2m&timezone=GMT\n",
      "Request URL: https://archive-api.open-meteo.com/v1/era5?latitude=21.1155&longitude=72.6896&start_date=2022-11-15&end_date=2022-11-15&hourly=temperature_2m&timezone=GMT\n",
      "Request URL: https://archive-api.open-meteo.com/v1/era5?latitude=21.1155&longitude=72.6896&start_date=2022-11-15&end_date=2022-11-15&hourly=temperature_2m&timezone=GMT\n"
     ]
    },
    {
     "name": "stderr",
     "output_type": "stream",
     "text": [
      "Processing:  99%|█████████▉| 5644/5687 [23:59<00:24,  1.76it/s]"
     ]
    },
    {
     "name": "stdout",
     "output_type": "stream",
     "text": [
      "Request URL: https://archive-api.open-meteo.com/v1/era5?latitude=21.1155&longitude=72.6896&start_date=2022-11-15&end_date=2022-11-15&hourly=temperature_2m&timezone=GMT\n"
     ]
    },
    {
     "name": "stderr",
     "output_type": "stream",
     "text": [
      "Processing:  99%|█████████▉| 5646/5687 [23:59<00:17,  2.38it/s]"
     ]
    },
    {
     "name": "stdout",
     "output_type": "stream",
     "text": [
      "Request URL: https://archive-api.open-meteo.com/v1/era5?latitude=21.1155&longitude=72.6896&start_date=2022-11-15&end_date=2022-11-30&hourly=temperature_2m&timezone=GMT\n"
     ]
    },
    {
     "name": "stderr",
     "output_type": "stream",
     "text": [
      "Processing:  99%|█████████▉| 5647/5687 [23:59<00:14,  2.70it/s]"
     ]
    },
    {
     "name": "stdout",
     "output_type": "stream",
     "text": [
      "Request URL: https://archive-api.open-meteo.com/v1/era5?latitude=21.1155&longitude=72.6896&start_date=2022-11-30&end_date=2022-11-30&hourly=temperature_2m&timezone=GMT\n",
      "Request URL: https://archive-api.open-meteo.com/v1/era5?latitude=21.1155&longitude=72.6896&start_date=2022-11-30&end_date=2022-12-15&hourly=temperature_2m&timezone=GMT\n",
      "Request URL: https://archive-api.open-meteo.com/v1/era5?latitude=21.1155&longitude=72.6896&start_date=2022-12-15&end_date=2022-12-15&hourly=temperature_2m&timezone=GMT\n",
      "Request URL: https://archive-api.open-meteo.com/v1/era5?latitude=21.1155&longitude=72.6896&start_date=2022-12-15&end_date=2022-12-31&hourly=temperature_2m&timezone=GMT\n",
      "Request URL: https://archive-api.open-meteo.com/v1/era5?latitude=21.1155&longitude=72.6896&start_date=2022-12-31&end_date=2022-12-31&hourly=temperature_2m&timezone=GMT\n",
      "Request URL: https://archive-api.open-meteo.com/v1/era5?latitude=21.1155&longitude=72.6896&start_date=2022-12-31&end_date=2022-12-31&hourly=temperature_2m&timezone=GMT\n"
     ]
    },
    {
     "name": "stderr",
     "output_type": "stream",
     "text": [
      "Processing:  99%|█████████▉| 5648/5687 [24:05<01:06,  1.69s/it]"
     ]
    },
    {
     "name": "stdout",
     "output_type": "stream",
     "text": [
      "Request URL: https://archive-api.open-meteo.com/v1/era5?latitude=21.1155&longitude=72.6896&start_date=2022-12-31&end_date=2023-01-15&hourly=temperature_2m&timezone=GMT\n"
     ]
    },
    {
     "name": "stderr",
     "output_type": "stream",
     "text": [
      "Processing:  99%|█████████▉| 5649/5687 [24:07<01:07,  1.77s/it]"
     ]
    },
    {
     "name": "stdout",
     "output_type": "stream",
     "text": [
      "Request URL: https://archive-api.open-meteo.com/v1/era5?latitude=21.1155&longitude=72.6896&start_date=2023-01-15&end_date=2023-01-15&hourly=temperature_2m&timezone=GMT\n"
     ]
    },
    {
     "name": "stderr",
     "output_type": "stream",
     "text": [
      "Processing:  99%|█████████▉| 5656/5687 [24:21<00:29,  1.05it/s]"
     ]
    },
    {
     "name": "stdout",
     "output_type": "stream",
     "text": [
      "Request URL: https://archive-api.open-meteo.com/v1/era5?latitude=19.0948&longitude=74.748&start_date=2022-09-30&end_date=2022-09-30&hourly=temperature_2m&timezone=GMT\n"
     ]
    },
    {
     "name": "stderr",
     "output_type": "stream",
     "text": [
      "Processing:  99%|█████████▉| 5657/5687 [24:22<00:26,  1.13it/s]"
     ]
    },
    {
     "name": "stdout",
     "output_type": "stream",
     "text": [
      "Request URL: https://archive-api.open-meteo.com/v1/era5?latitude=19.0948&longitude=74.748&start_date=2022-09-30&end_date=2022-10-15&hourly=temperature_2m&timezone=GMT\n",
      "Request URL: https://archive-api.open-meteo.com/v1/era5?latitude=19.0948&longitude=74.748&start_date=2022-10-15&end_date=2022-10-15&hourly=temperature_2m&timezone=GMT\n",
      "Request URL: https://archive-api.open-meteo.com/v1/era5?latitude=19.0948&longitude=74.748&start_date=2022-10-15&end_date=2022-10-31&hourly=temperature_2m&timezone=GMT\n"
     ]
    },
    {
     "name": "stderr",
     "output_type": "stream",
     "text": [
      "Processing:  99%|█████████▉| 5658/5687 [24:22<00:21,  1.37it/s]"
     ]
    },
    {
     "name": "stdout",
     "output_type": "stream",
     "text": [
      "Request URL: https://archive-api.open-meteo.com/v1/era5?latitude=19.0948&longitude=74.748&start_date=2022-10-31&end_date=2022-10-31&hourly=temperature_2m&timezone=GMT\n",
      "Request URL: https://archive-api.open-meteo.com/v1/era5?latitude=19.0948&longitude=74.748&start_date=2022-10-31&end_date=2022-11-15&hourly=temperature_2m&timezone=GMT\n"
     ]
    },
    {
     "name": "stderr",
     "output_type": "stream",
     "text": [
      "Processing: 100%|█████████▉| 5659/5687 [24:22<00:17,  1.63it/s]"
     ]
    },
    {
     "name": "stdout",
     "output_type": "stream",
     "text": [
      "Request URL: https://archive-api.open-meteo.com/v1/era5?latitude=19.0948&longitude=74.748&start_date=2022-11-15&end_date=2022-11-30&hourly=temperature_2m&timezone=GMT\n"
     ]
    },
    {
     "name": "stderr",
     "output_type": "stream",
     "text": [
      "Processing: 100%|█████████▉| 5662/5687 [24:23<00:10,  2.36it/s]"
     ]
    },
    {
     "name": "stdout",
     "output_type": "stream",
     "text": [
      "Request URL: https://archive-api.open-meteo.com/v1/era5?latitude=19.0948&longitude=74.748&start_date=2022-11-30&end_date=2022-12-15&hourly=temperature_2m&timezone=GMT\n",
      "Request URL: https://archive-api.open-meteo.com/v1/era5?latitude=19.0948&longitude=74.748&start_date=2022-12-15&end_date=2022-12-31&hourly=temperature_2m&timezone=GMT\n",
      "Request URL: https://archive-api.open-meteo.com/v1/era5?latitude=19.0948&longitude=74.748&start_date=2022-12-31&end_date=2023-01-15&hourly=temperature_2m&timezone=GMT\n",
      "Request URL: https://archive-api.open-meteo.com/v1/era5?latitude=19.0948&longitude=74.748&start_date=2023-01-15&end_date=2023-01-15&hourly=temperature_2m&timezone=GMT\n",
      "Request URL: https://archive-api.open-meteo.com/v1/era5?latitude=19.0948&longitude=74.748&start_date=2023-01-15&end_date=2023-01-31&hourly=temperature_2m&timezone=GMT\n",
      "Request URL: https://archive-api.open-meteo.com/v1/era5?latitude=21.7245&longitude=72.6504&start_date=2022-10-15&end_date=2022-10-31&hourly=temperature_2m&timezone=GMTRequest URL: https://archive-api.open-meteo.com/v1/era5?latitude=22.2587&longitude=71.1924&start_date=2022-10-15&end_date=2022-10-31&hourly=temperature_2m&timezone=GMT\n",
      "\n"
     ]
    },
    {
     "name": "stderr",
     "output_type": "stream",
     "text": [
      "Processing: 100%|█████████▉| 5664/5687 [24:29<00:32,  1.40s/it]"
     ]
    },
    {
     "name": "stdout",
     "output_type": "stream",
     "text": [
      "Request URL: https://archive-api.open-meteo.com/v1/era5?latitude=16.5787&longitude=82.0039&start_date=2022-10-15&end_date=2022-10-31&hourly=temperature_2m&timezone=GMT\n"
     ]
    },
    {
     "name": "stderr",
     "output_type": "stream",
     "text": [
      "Processing: 100%|█████████▉| 5665/5687 [24:31<00:34,  1.55s/it]"
     ]
    },
    {
     "name": "stdout",
     "output_type": "stream",
     "text": [
      "Request URL: https://archive-api.open-meteo.com/v1/era5?latitude=21.7245&longitude=72.6504&start_date=2022-12-15&end_date=2022-12-15&hourly=temperature_2m&timezone=GMT\n"
     ]
    },
    {
     "name": "stderr",
     "output_type": "stream",
     "text": [
      "Processing: 100%|█████████▉| 5671/5687 [24:45<00:20,  1.28s/it]"
     ]
    },
    {
     "name": "stdout",
     "output_type": "stream",
     "text": [
      "Request URL: https://archive-api.open-meteo.com/v1/era5?latitude=21.7245&longitude=72.6504&start_date=2022-12-15&end_date=2022-12-31&hourly=temperature_2m&timezone=GMT\n"
     ]
    },
    {
     "name": "stderr",
     "output_type": "stream",
     "text": [
      "Processing: 100%|█████████▉| 5673/5687 [24:46<00:12,  1.08it/s]"
     ]
    },
    {
     "name": "stdout",
     "output_type": "stream",
     "text": [
      "Request URL: https://archive-api.open-meteo.com/v1/era5?latitude=21.7245&longitude=72.6504&start_date=2022-12-31&end_date=2022-12-31&hourly=temperature_2m&timezone=GMT\n",
      "Request URL: https://archive-api.open-meteo.com/v1/era5?latitude=21.7245&longitude=72.6504&start_date=2022-12-31&end_date=2023-01-31&hourly=temperature_2m&timezone=GMT\n"
     ]
    },
    {
     "name": "stderr",
     "output_type": "stream",
     "text": [
      "Processing: 100%|█████████▉| 5674/5687 [24:46<00:10,  1.28it/s]"
     ]
    },
    {
     "name": "stdout",
     "output_type": "stream",
     "text": [
      "Request URL: https://archive-api.open-meteo.com/v1/era5?latitude=21.7245&longitude=72.6504&start_date=2023-01-31&end_date=2023-01-31&hourly=temperature_2m&timezone=GMT\n",
      "Request URL: https://archive-api.open-meteo.com/v1/era5?latitude=21.7245&longitude=72.6504&start_date=2022-12-15&end_date=2022-12-31&hourly=temperature_2m&timezone=GMT\n",
      "Request URL: https://archive-api.open-meteo.com/v1/era5?latitude=21.7245&longitude=72.6504&start_date=2022-12-31&end_date=2022-12-31&hourly=temperature_2m&timezone=GMT\n"
     ]
    },
    {
     "name": "stderr",
     "output_type": "stream",
     "text": [
      "Processing: 100%|██████████| 5687/5687 [25:09<00:00,  3.77it/s]\n"
     ]
    },
    {
     "name": "stdout",
     "output_type": "stream",
     "text": [
      "\n",
      "Processed DataFrame:\n",
      "   BILL DATE  SOLD TO PARTY  QTY(1000 SM3) INDUSTORY SECTOR Receiving Point  \\\n",
      "0 2019-04-15          10335        829.926   Power Industry    Delhi, India   \n",
      "1 2019-04-15          10335        829.926   Power Industry    Delhi, India   \n",
      "2 2019-04-15          10335        829.926   Power Industry    Delhi, India   \n",
      "3 2019-04-15          10335        829.926   Power Industry    Delhi, India   \n",
      "4 2019-04-15          10335        829.926   Power Industry    Delhi, India   \n",
      "\n",
      "  Start Date   End Date  Average Temperature  \n",
      "0 2019-11-15 2019-11-15            21.129167  \n",
      "1 2019-09-30 2019-09-30            25.466667  \n",
      "2 2019-11-30 2019-12-01            15.879167  \n",
      "3 2019-08-15 2019-08-31            29.036765  \n",
      "4 2019-10-31 2019-10-31            24.487500  \n",
      "\n",
      "Processed data saved to 'processed_power_data.csv'\n"
     ]
    }
   ],
   "source": [
    "import pandas as pd\n",
    "import numpy as np\n",
    "import requests\n",
    "import time\n",
    "from typing import Tuple\n",
    "from statistics import mean\n",
    "from datetime import datetime, timedelta\n",
    "from tqdm import tqdm\n",
    "from concurrent.futures import ThreadPoolExecutor, as_completed\n",
    "\n",
    "# Constants for API rate limiting\n",
    "MAX_RETRIES = 5\n",
    "BASE_BACKOFF = 1  # Seconds\n",
    "\n",
    "# Location mapping with default coordinates (latitude, longitude)\n",
    "location_mapping = { \n",
    "    'HAZIRA_ONG': ('Hazira, Gujarat', 21.1155, 72.6896),\n",
    "    'DAHEJ': ('Dahej, Gujarat', 21.7245, 72.6504),\n",
    "    'ONGCTROM': ('Agartala, Tripura', 23.8315, 91.2868),\n",
    "    'ONGCMSEB': ('Mumbai, Maharashtra', 19.0760, 72.8777),\n",
    "    'DABHOL': ('Dabhol, Maharashtra', 17.5905, 73.1810),\n",
    "    'NANDIGAMA': ('Nandigama, Andhra Pradesh', 16.7717, 80.2880),\n",
    "    'MDP_HP': ('Krishna, Andhra Pradesh', 16.6100, 80.7214),\n",
    "    'KG BASIN': ('Kakinada, Andhra Pradesh', 16.9891, 82.2475),\n",
    "    'ONGC-KUTGC': ('Bhuj, Gujarat', 23.2420, 69.6669),\n",
    "    'ONGC-RMMDP': ('Rajahmundry, Andhra Pradesh', 16.9891, 81.7837),\n",
    "    'ONGC-RMDGC': ('Rajahmundry, Andhra Pradesh', 16.9891, 81.7837),\n",
    "    'ONGC-NRMHP': ('Mumbai, Maharashtra', 19.0760, 72.8777),\n",
    "    'ONGC-KVKEP': ('Kakinada, Andhra Pradesh', 16.9891, 82.2475),\n",
    "    'LANGTALA': ('Jaisalmer, Rajasthan', 26.9157, 70.9083),\n",
    "    'DANDEWALA': ('Jaisalmer, Rajasthan', 26.9157, 70.9083),\n",
    "    'GAMNEWALA': ('Jaisalmer, Rajasthan', 26.9157, 70.9083),\n",
    "    'ONGCTHAL': ('Alibag, Maharashtra', 18.6414, 72.8722),\n",
    "    'MHASKAL': ('Ahmednagar, Maharashtra', 19.0948, 74.7480),\n",
    "    'ANKOT': ('Ankot, Gujarat', 22.2587, 71.1924),\n",
    "    'ODLRU_GS15': ('Amalapuram, Andhra Pradesh', 16.5787, 82.0039),\n",
    "    'HAZIRA_HLP': ('Hazira, Gujarat', 21.1155, 72.6896),\n",
    "    'Delhi, India': ('Delhi, India', 28.6139, 77.2090)\n",
    "}\n",
    "\n",
    "def map_location(location):\n",
    "    \"\"\"Map a location to its simplified form or return 'Delhi, India' for NaN values.\"\"\"\n",
    "    if pd.isna(location):\n",
    "        return 'Delhi, India'\n",
    "    return location_mapping.get(location, (location, None, None))[0]\n",
    "\n",
    "def get_coordinates(location: str) -> Tuple[float, float]:\n",
    "    \"\"\"\n",
    "    Get the latitude and longitude of a location.\n",
    "    Checks both abbreviated names and full location names.\n",
    "    \"\"\"\n",
    "    if pd.isna(location):\n",
    "        return location_mapping['Delhi, India'][1:]  # Return Delhi's coordinates for NaN\n",
    "\n",
    "    # Check if the location matches a key (abbreviated name)\n",
    "    if location in location_mapping:\n",
    "        _, lat, lon = location_mapping[location]\n",
    "        return lat, lon\n",
    "\n",
    "    # Check if the location matches a full name\n",
    "    for abbr, (full_name, lat, lon) in location_mapping.items():\n",
    "        if location.lower() == full_name.lower():\n",
    "            return lat, lon\n",
    "\n",
    "    # If not found, use default coordinates\n",
    "    print(f\"Warning: Location '{location}' not found in mapping. Using default coordinates.\")\n",
    "    return 22.8440, 78.8253  # Approximate center of India as a last resort\n",
    "\n",
    "def get_average_temperature(latitude: float, longitude: float, start_date: datetime.date, end_date: datetime.date) -> float:\n",
    "    \"\"\"\n",
    "    Fetch historical temperature data from Open-Meteo API with exponential backoff.\n",
    "    \"\"\"\n",
    "    if pd.isna(start_date) or pd.isna(end_date):\n",
    "        power_df.loc[(power_df['SOLD TO PARTY'] == party) & (power_df['Receiving Point'] == location), 'Invalid_Date_Range'] = True\n",
    "        print(f\"Invalid date range: start_date={start_date}, end_date={end_date}\")\n",
    "    # Set default date range if start_date or end_date is NaT\n",
    "    if pd.isna(start_date):\n",
    "        start_date = datetime.today.date() # Default start date\n",
    "    if pd.isna(end_date):\n",
    "        end_date = datetime.today().date()  # Default end date to today\n",
    "    base_url = \"https://archive-api.open-meteo.com/v1/era5\"\n",
    "    params = {\n",
    "        \"latitude\": latitude,\n",
    "        \"longitude\": longitude,\n",
    "        \"start_date\": start_date.strftime('%Y-%m-%d'),\n",
    "        \"end_date\": end_date.strftime('%Y-%m-%d'),\n",
    "        \"hourly\": \"temperature_2m\",\n",
    "        \"timezone\": \"GMT\"\n",
    "    }\n",
    "    request_url = f\"{base_url}?latitude={params['latitude']}&longitude={params['longitude']}&start_date={params['start_date']}&end_date={params['end_date']}&hourly={params['hourly']}&timezone={params['timezone']}\"\n",
    "    print(f\"Request URL: {request_url}\")\n",
    "\n",
    "    backoff = BASE_BACKOFF\n",
    "    for attempt in range(MAX_RETRIES):\n",
    "        try:\n",
    "            response = requests.get(base_url, params=params)\n",
    "            response.raise_for_status()\n",
    "            data = response.json()\n",
    "\n",
    "            if \"hourly\" in data and \"temperature_2m\" in data[\"hourly\"]:\n",
    "                return mean(data[\"hourly\"][\"temperature_2m\"])\n",
    "            else:\n",
    "                raise ValueError(\"No temperature data found in the API response\")\n",
    "        except requests.exceptions.RequestException as e:\n",
    "            print(f\"Error fetching temperature data: {e}\")\n",
    "            time.sleep(backoff)\n",
    "            backoff *= 2\n",
    "        except ValueError as e:\n",
    "            print(f\"Error processing temperature data: {e}\")\n",
    "            return None\n",
    "    return None  # Return None after max retries\n",
    "\n",
    "def calculate_avg_temp_for_period(args):\n",
    "    \"\"\"Calculate average temperature for a given period.\"\"\"\n",
    "    location, start_date, end_date, coordinates_cache = args\n",
    "\n",
    "    if location not in coordinates_cache:\n",
    "        coordinates_cache[location] = get_coordinates(location)\n",
    "\n",
    "    latitude, longitude = coordinates_cache[location]\n",
    "\n",
    "    # Implement rate limiting\n",
    "    time.sleep(1)\n",
    "\n",
    "    avg_temp = get_average_temperature(latitude, longitude, start_date, end_date)\n",
    "\n",
    "    return location, start_date, end_date, avg_temp\n",
    "\n",
    "def process_power_df(power_df):\n",
    "    \"\"\"Process the power DataFrame to add average temperature column.\"\"\"\n",
    "    # Create a copy of the DataFrame to avoid SettingWithCopyWarning\n",
    "    power_df = power_df.copy()\n",
    "\n",
    "    # Apply map_location to 'Receiving Point' column\n",
    "    power_df['Receiving Point'] = power_df['Receiving Point'].apply(map_location)\n",
    "\n",
    "    # Convert 'BILL DATE' to datetime\n",
    "    power_df['BILL DATE'] = pd.to_datetime(power_df['BILL DATE'])\n",
    "\n",
    "    # Group by 'SOLD TO PARTY' and 'Receiving Point'\n",
    "    grouped = power_df.groupby(['SOLD TO PARTY', 'Receiving Point'])\n",
    "\n",
    "    coordinates_cache = {}\n",
    "    args_list = []\n",
    "    temperature_cache = {}\n",
    "\n",
    "    for (party, location), group in tqdm(grouped, desc=\"Preparing data\"):\n",
    "        # Sort by 'BILL DATE' ascending\n",
    "        group = group.sort_values('BILL DATE')\n",
    "\n",
    "        # Create a new DataFrame with previous and current timestamps\n",
    "        shifted_df = group[['BILL DATE']].shift(periods=1)\n",
    "        shifted_df.columns = ['previous_bill_date']\n",
    "        group = group.join(shifted_df)\n",
    "\n",
    "        for _, row in group.iterrows():\n",
    "            start_date = row['previous_bill_date']\n",
    "            end_date = row['BILL DATE']\n",
    "            if pd.isna(start_date) or pd.isna(end_date):\n",
    "                continue  # Skip rows with missing start or end date\n",
    "\n",
    "            cache_key = (location, start_date, end_date)\n",
    "            if cache_key in temperature_cache:\n",
    "                avg_temp = temperature_cache[cache_key]\n",
    "            else:\n",
    "                args_list.append((location, start_date, end_date, coordinates_cache))\n",
    "\n",
    "    results = []\n",
    "    with ThreadPoolExecutor(max_workers=16) as executor:\n",
    "        future_to_args = {executor.submit(calculate_avg_temp_for_period, args): args for args in args_list}\n",
    "        for future in tqdm(as_completed(future_to_args), total=len(args_list), desc=\"Processing\"):\n",
    "            results.append(future.result())\n",
    "\n",
    "    # Cache results\n",
    "    for location, start_date, end_date, avg_temp in results:\n",
    "        cache_key = (location, start_date, end_date)\n",
    "        temperature_cache[cache_key] = avg_temp\n",
    "\n",
    "    temp_df = pd.DataFrame(results, columns=['Receiving Point', 'Start Date', 'End Date', 'Average Temperature'])\n",
    "\n",
    "    # Merge the temperature data back to the original DataFrame\n",
    "    result_df = power_df.merge(temp_df, on='Receiving Point', how='left')\n",
    "\n",
    "    return result_df\n",
    "\n",
    "def main():\n",
    "    try:\n",
    "\n",
    "        print(\"Columns in the DataFrame:\", power_df.columns)\n",
    "\n",
    "        result_df = process_power_df(power_df)\n",
    "        print(\"\\nProcessed DataFrame:\")\n",
    "        print(result_df.head())\n",
    "\n",
    "        result_df.to_csv('processed_power_data.csv', index=False)\n",
    "        print(\"\\nProcessed data saved to 'processed_power_data.csv'\")\n",
    "    except Exception as e:\n",
    "        print(f\"An error occurred: {e}\")\n",
    "\n",
    "if __name__ == \"__main__\":\n",
    "    main()\n"
   ]
  },
  {
   "cell_type": "code",
   "execution_count": 19,
   "metadata": {},
   "outputs": [
    {
     "data": {
      "text/html": [
       "<div>\n",
       "<style scoped>\n",
       "    .dataframe tbody tr th:only-of-type {\n",
       "        vertical-align: middle;\n",
       "    }\n",
       "\n",
       "    .dataframe tbody tr th {\n",
       "        vertical-align: top;\n",
       "    }\n",
       "\n",
       "    .dataframe thead th {\n",
       "        text-align: right;\n",
       "    }\n",
       "</style>\n",
       "<table border=\"1\" class=\"dataframe\">\n",
       "  <thead>\n",
       "    <tr style=\"text-align: right;\">\n",
       "      <th></th>\n",
       "      <th>BILL DATE</th>\n",
       "      <th>SOLD TO PARTY</th>\n",
       "      <th>QTY(1000 SM3)</th>\n",
       "      <th>INDUSTORY SECTOR</th>\n",
       "      <th>Receiving Point</th>\n",
       "      <th>Start Date</th>\n",
       "      <th>End Date</th>\n",
       "      <th>Average Temperature</th>\n",
       "    </tr>\n",
       "  </thead>\n",
       "  <tbody>\n",
       "    <tr>\n",
       "      <th>0</th>\n",
       "      <td>2019-04-15</td>\n",
       "      <td>10335</td>\n",
       "      <td>829.926</td>\n",
       "      <td>Power Industry</td>\n",
       "      <td>Delhi, India</td>\n",
       "      <td>2019-11-15</td>\n",
       "      <td>2019-11-15</td>\n",
       "      <td>21.129167</td>\n",
       "    </tr>\n",
       "    <tr>\n",
       "      <th>1</th>\n",
       "      <td>2019-04-15</td>\n",
       "      <td>10335</td>\n",
       "      <td>829.926</td>\n",
       "      <td>Power Industry</td>\n",
       "      <td>Delhi, India</td>\n",
       "      <td>2019-09-30</td>\n",
       "      <td>2019-09-30</td>\n",
       "      <td>25.466667</td>\n",
       "    </tr>\n",
       "    <tr>\n",
       "      <th>2</th>\n",
       "      <td>2019-04-15</td>\n",
       "      <td>10335</td>\n",
       "      <td>829.926</td>\n",
       "      <td>Power Industry</td>\n",
       "      <td>Delhi, India</td>\n",
       "      <td>2019-11-30</td>\n",
       "      <td>2019-12-01</td>\n",
       "      <td>15.879167</td>\n",
       "    </tr>\n",
       "    <tr>\n",
       "      <th>3</th>\n",
       "      <td>2019-04-15</td>\n",
       "      <td>10335</td>\n",
       "      <td>829.926</td>\n",
       "      <td>Power Industry</td>\n",
       "      <td>Delhi, India</td>\n",
       "      <td>2019-08-15</td>\n",
       "      <td>2019-08-31</td>\n",
       "      <td>29.036765</td>\n",
       "    </tr>\n",
       "    <tr>\n",
       "      <th>4</th>\n",
       "      <td>2019-04-15</td>\n",
       "      <td>10335</td>\n",
       "      <td>829.926</td>\n",
       "      <td>Power Industry</td>\n",
       "      <td>Delhi, India</td>\n",
       "      <td>2019-10-31</td>\n",
       "      <td>2019-10-31</td>\n",
       "      <td>24.487500</td>\n",
       "    </tr>\n",
       "  </tbody>\n",
       "</table>\n",
       "</div>"
      ],
      "text/plain": [
       "    BILL DATE  SOLD TO PARTY  QTY(1000 SM3) INDUSTORY SECTOR Receiving Point  \\\n",
       "0  2019-04-15          10335        829.926   Power Industry    Delhi, India   \n",
       "1  2019-04-15          10335        829.926   Power Industry    Delhi, India   \n",
       "2  2019-04-15          10335        829.926   Power Industry    Delhi, India   \n",
       "3  2019-04-15          10335        829.926   Power Industry    Delhi, India   \n",
       "4  2019-04-15          10335        829.926   Power Industry    Delhi, India   \n",
       "\n",
       "   Start Date    End Date  Average Temperature  \n",
       "0  2019-11-15  2019-11-15            21.129167  \n",
       "1  2019-09-30  2019-09-30            25.466667  \n",
       "2  2019-11-30  2019-12-01            15.879167  \n",
       "3  2019-08-15  2019-08-31            29.036765  \n",
       "4  2019-10-31  2019-10-31            24.487500  "
      ]
     },
     "execution_count": 19,
     "metadata": {},
     "output_type": "execute_result"
    }
   ],
   "source": [
    "result_df = pd.read_csv('processed_power_data.csv')\n",
    "\n",
    "result_df.head()"
   ]
  },
  {
   "cell_type": "code",
   "execution_count": 21,
   "metadata": {},
   "outputs": [],
   "source": [
    "# Drop duplicate rows, keeping the first occurrence\n",
    "df_unique = result_df.drop_duplicates(subset=['SOLD TO PARTY', 'BILL DATE'], keep='first')\n"
   ]
  },
  {
   "cell_type": "code",
   "execution_count": 23,
   "metadata": {},
   "outputs": [
    {
     "data": {
      "text/html": [
       "<div>\n",
       "<style scoped>\n",
       "    .dataframe tbody tr th:only-of-type {\n",
       "        vertical-align: middle;\n",
       "    }\n",
       "\n",
       "    .dataframe tbody tr th {\n",
       "        vertical-align: top;\n",
       "    }\n",
       "\n",
       "    .dataframe thead th {\n",
       "        text-align: right;\n",
       "    }\n",
       "</style>\n",
       "<table border=\"1\" class=\"dataframe\">\n",
       "  <thead>\n",
       "    <tr style=\"text-align: right;\">\n",
       "      <th></th>\n",
       "      <th>index</th>\n",
       "      <th>BILL DATE</th>\n",
       "      <th>SOLD TO PARTY</th>\n",
       "      <th>QTY(1000 SM3)</th>\n",
       "      <th>INDUSTORY SECTOR</th>\n",
       "      <th>Receiving Point</th>\n",
       "      <th>Start Date</th>\n",
       "      <th>End Date</th>\n",
       "      <th>Average Temperature</th>\n",
       "    </tr>\n",
       "  </thead>\n",
       "  <tbody>\n",
       "    <tr>\n",
       "      <th>0</th>\n",
       "      <td>0</td>\n",
       "      <td>2019-04-15</td>\n",
       "      <td>10335</td>\n",
       "      <td>829.926</td>\n",
       "      <td>Power Industry</td>\n",
       "      <td>Delhi, India</td>\n",
       "      <td>2019-11-15</td>\n",
       "      <td>2019-11-15</td>\n",
       "      <td>21.129167</td>\n",
       "    </tr>\n",
       "    <tr>\n",
       "      <th>1</th>\n",
       "      <td>6231</td>\n",
       "      <td>2019-04-30</td>\n",
       "      <td>10335</td>\n",
       "      <td>445.227</td>\n",
       "      <td>Power Industry</td>\n",
       "      <td>Delhi, India</td>\n",
       "      <td>2019-11-15</td>\n",
       "      <td>2019-11-15</td>\n",
       "      <td>21.129167</td>\n",
       "    </tr>\n",
       "    <tr>\n",
       "      <th>2</th>\n",
       "      <td>12462</td>\n",
       "      <td>2019-05-15</td>\n",
       "      <td>10335</td>\n",
       "      <td>389.563</td>\n",
       "      <td>Power Industry</td>\n",
       "      <td>Delhi, India</td>\n",
       "      <td>2019-11-15</td>\n",
       "      <td>2019-11-15</td>\n",
       "      <td>21.129167</td>\n",
       "    </tr>\n",
       "    <tr>\n",
       "      <th>3</th>\n",
       "      <td>18693</td>\n",
       "      <td>2019-05-31</td>\n",
       "      <td>10335</td>\n",
       "      <td>837.314</td>\n",
       "      <td>Power Industry</td>\n",
       "      <td>Delhi, India</td>\n",
       "      <td>2019-11-15</td>\n",
       "      <td>2019-11-15</td>\n",
       "      <td>21.129167</td>\n",
       "    </tr>\n",
       "    <tr>\n",
       "      <th>4</th>\n",
       "      <td>24924</td>\n",
       "      <td>2019-06-15</td>\n",
       "      <td>10335</td>\n",
       "      <td>282.690</td>\n",
       "      <td>Power Industry</td>\n",
       "      <td>Delhi, India</td>\n",
       "      <td>2019-11-15</td>\n",
       "      <td>2019-11-15</td>\n",
       "      <td>21.129167</td>\n",
       "    </tr>\n",
       "    <tr>\n",
       "      <th>...</th>\n",
       "      <td>...</td>\n",
       "      <td>...</td>\n",
       "      <td>...</td>\n",
       "      <td>...</td>\n",
       "      <td>...</td>\n",
       "      <td>...</td>\n",
       "      <td>...</td>\n",
       "      <td>...</td>\n",
       "      <td>...</td>\n",
       "    </tr>\n",
       "    <tr>\n",
       "      <th>2658</th>\n",
       "      <td>6218864</td>\n",
       "      <td>2022-10-15</td>\n",
       "      <td>51164</td>\n",
       "      <td>40.340</td>\n",
       "      <td>Power Industry</td>\n",
       "      <td>Amalapuram, Andhra Pradesh</td>\n",
       "      <td>2022-08-15</td>\n",
       "      <td>2022-08-31</td>\n",
       "      <td>28.669118</td>\n",
       "    </tr>\n",
       "    <tr>\n",
       "      <th>2659</th>\n",
       "      <td>6218870</td>\n",
       "      <td>2022-10-31</td>\n",
       "      <td>51050</td>\n",
       "      <td>193.332</td>\n",
       "      <td>Power Industry</td>\n",
       "      <td>Amalapuram, Andhra Pradesh</td>\n",
       "      <td>2022-08-15</td>\n",
       "      <td>2022-08-31</td>\n",
       "      <td>28.669118</td>\n",
       "    </tr>\n",
       "    <tr>\n",
       "      <th>2660</th>\n",
       "      <td>6218876</td>\n",
       "      <td>2022-10-31</td>\n",
       "      <td>51164</td>\n",
       "      <td>38.666</td>\n",
       "      <td>Power Industry</td>\n",
       "      <td>Amalapuram, Andhra Pradesh</td>\n",
       "      <td>2022-08-15</td>\n",
       "      <td>2022-08-31</td>\n",
       "      <td>28.669118</td>\n",
       "    </tr>\n",
       "    <tr>\n",
       "      <th>2661</th>\n",
       "      <td>6218882</td>\n",
       "      <td>2022-11-15</td>\n",
       "      <td>51050</td>\n",
       "      <td>181.242</td>\n",
       "      <td>Power Industry</td>\n",
       "      <td>Amalapuram, Andhra Pradesh</td>\n",
       "      <td>2022-08-15</td>\n",
       "      <td>2022-08-31</td>\n",
       "      <td>28.669118</td>\n",
       "    </tr>\n",
       "    <tr>\n",
       "      <th>2662</th>\n",
       "      <td>6218888</td>\n",
       "      <td>2022-11-30</td>\n",
       "      <td>51050</td>\n",
       "      <td>80.559</td>\n",
       "      <td>Power Industry</td>\n",
       "      <td>Amalapuram, Andhra Pradesh</td>\n",
       "      <td>2022-08-15</td>\n",
       "      <td>2022-08-31</td>\n",
       "      <td>28.669118</td>\n",
       "    </tr>\n",
       "  </tbody>\n",
       "</table>\n",
       "<p>2663 rows × 9 columns</p>\n",
       "</div>"
      ],
      "text/plain": [
       "        index   BILL DATE  SOLD TO PARTY  QTY(1000 SM3) INDUSTORY SECTOR  \\\n",
       "0           0  2019-04-15          10335        829.926   Power Industry   \n",
       "1        6231  2019-04-30          10335        445.227   Power Industry   \n",
       "2       12462  2019-05-15          10335        389.563   Power Industry   \n",
       "3       18693  2019-05-31          10335        837.314   Power Industry   \n",
       "4       24924  2019-06-15          10335        282.690   Power Industry   \n",
       "...       ...         ...            ...            ...              ...   \n",
       "2658  6218864  2022-10-15          51164         40.340   Power Industry   \n",
       "2659  6218870  2022-10-31          51050        193.332   Power Industry   \n",
       "2660  6218876  2022-10-31          51164         38.666   Power Industry   \n",
       "2661  6218882  2022-11-15          51050        181.242   Power Industry   \n",
       "2662  6218888  2022-11-30          51050         80.559   Power Industry   \n",
       "\n",
       "                 Receiving Point  Start Date    End Date  Average Temperature  \n",
       "0                   Delhi, India  2019-11-15  2019-11-15            21.129167  \n",
       "1                   Delhi, India  2019-11-15  2019-11-15            21.129167  \n",
       "2                   Delhi, India  2019-11-15  2019-11-15            21.129167  \n",
       "3                   Delhi, India  2019-11-15  2019-11-15            21.129167  \n",
       "4                   Delhi, India  2019-11-15  2019-11-15            21.129167  \n",
       "...                          ...         ...         ...                  ...  \n",
       "2658  Amalapuram, Andhra Pradesh  2022-08-15  2022-08-31            28.669118  \n",
       "2659  Amalapuram, Andhra Pradesh  2022-08-15  2022-08-31            28.669118  \n",
       "2660  Amalapuram, Andhra Pradesh  2022-08-15  2022-08-31            28.669118  \n",
       "2661  Amalapuram, Andhra Pradesh  2022-08-15  2022-08-31            28.669118  \n",
       "2662  Amalapuram, Andhra Pradesh  2022-08-15  2022-08-31            28.669118  \n",
       "\n",
       "[2663 rows x 9 columns]"
      ]
     },
     "execution_count": 23,
     "metadata": {},
     "output_type": "execute_result"
    }
   ],
   "source": [
    "df_unique.reset_index()"
   ]
  },
  {
   "cell_type": "code",
   "execution_count": 25,
   "metadata": {},
   "outputs": [],
   "source": [
    "df_unique.to_csv('Clean_Data.csv')"
   ]
  },
  {
   "cell_type": "code",
   "execution_count": 26,
   "metadata": {},
   "outputs": [],
   "source": [
    "# Ensure 'BILL DATE' and 'End Date' are treated as strings, or adjust to appropriate format if needed\n",
    "result_df['BILL DATE'] = result_df['BILL DATE'].astype(str)\n",
    "result_df['End Date'] = result_df['End Date'].astype(str)\n",
    "\n",
    "# Filter rows where 'BILL DATE' equals 'End Date'\n",
    "df_filtered = result_df[result_df['BILL DATE'] == result_df['End Date']]\n"
   ]
  },
  {
   "cell_type": "code",
   "execution_count": 30,
   "metadata": {},
   "outputs": [],
   "source": [
    "result_df['BILL DATE'] = pd.to_datetime(result_df['BILL DATE'], errors='coerce')\n",
    "result_df['End Date'] = pd.to_datetime(result_df['End Date'], errors='coerce')\n",
    "\n",
    "# Calculate the absolute difference in days between 'BILL DATE' and 'End Date'\n",
    "result_df['Difference'] = abs(result_df['BILL DATE'] - result_df['End Date'])\n",
    "\n",
    "# For each 'SOLD TO PARTY', keep the row with the minimum difference\n",
    "df_closest = result_df.loc[result_df.groupby(['SOLD TO PARTY','BILL DATE'])['Difference'].idxmin()]\n"
   ]
  },
  {
   "cell_type": "code",
   "execution_count": 32,
   "metadata": {},
   "outputs": [
    {
     "data": {
      "text/html": [
       "<div>\n",
       "<style scoped>\n",
       "    .dataframe tbody tr th:only-of-type {\n",
       "        vertical-align: middle;\n",
       "    }\n",
       "\n",
       "    .dataframe tbody tr th {\n",
       "        vertical-align: top;\n",
       "    }\n",
       "\n",
       "    .dataframe thead th {\n",
       "        text-align: right;\n",
       "    }\n",
       "</style>\n",
       "<table border=\"1\" class=\"dataframe\">\n",
       "  <thead>\n",
       "    <tr style=\"text-align: right;\">\n",
       "      <th></th>\n",
       "      <th>index</th>\n",
       "      <th>BILL DATE</th>\n",
       "      <th>SOLD TO PARTY</th>\n",
       "      <th>QTY(1000 SM3)</th>\n",
       "      <th>INDUSTORY SECTOR</th>\n",
       "      <th>Receiving Point</th>\n",
       "      <th>Start Date</th>\n",
       "      <th>End Date</th>\n",
       "      <th>Average Temperature</th>\n",
       "      <th>Difference</th>\n",
       "    </tr>\n",
       "  </thead>\n",
       "  <tbody>\n",
       "    <tr>\n",
       "      <th>0</th>\n",
       "      <td>785323</td>\n",
       "      <td>2019-04-15</td>\n",
       "      <td>10005</td>\n",
       "      <td>6163.177</td>\n",
       "      <td>Power Industry</td>\n",
       "      <td>Krishna, Andhra Pradesh</td>\n",
       "      <td>2019-04-15</td>\n",
       "      <td>2019-04-30</td>\n",
       "      <td>32.019792</td>\n",
       "      <td>15 days</td>\n",
       "    </tr>\n",
       "    <tr>\n",
       "      <th>1</th>\n",
       "      <td>795302</td>\n",
       "      <td>2019-04-30</td>\n",
       "      <td>10005</td>\n",
       "      <td>6012.961</td>\n",
       "      <td>Power Industry</td>\n",
       "      <td>Krishna, Andhra Pradesh</td>\n",
       "      <td>2019-04-15</td>\n",
       "      <td>2019-04-30</td>\n",
       "      <td>32.019792</td>\n",
       "      <td>0 days</td>\n",
       "    </tr>\n",
       "    <tr>\n",
       "      <th>2</th>\n",
       "      <td>800708</td>\n",
       "      <td>2019-05-15</td>\n",
       "      <td>10005</td>\n",
       "      <td>6046.048</td>\n",
       "      <td>Power Industry</td>\n",
       "      <td>Krishna, Andhra Pradesh</td>\n",
       "      <td>2019-04-30</td>\n",
       "      <td>2019-05-15</td>\n",
       "      <td>33.795573</td>\n",
       "      <td>0 days</td>\n",
       "    </tr>\n",
       "    <tr>\n",
       "      <th>3</th>\n",
       "      <td>813591</td>\n",
       "      <td>2019-05-31</td>\n",
       "      <td>10005</td>\n",
       "      <td>5476.559</td>\n",
       "      <td>Power Industry</td>\n",
       "      <td>Krishna, Andhra Pradesh</td>\n",
       "      <td>2019-05-15</td>\n",
       "      <td>2019-05-31</td>\n",
       "      <td>33.735294</td>\n",
       "      <td>0 days</td>\n",
       "    </tr>\n",
       "    <tr>\n",
       "      <th>4</th>\n",
       "      <td>816496</td>\n",
       "      <td>2019-06-15</td>\n",
       "      <td>10005</td>\n",
       "      <td>5723.065</td>\n",
       "      <td>Power Industry</td>\n",
       "      <td>Krishna, Andhra Pradesh</td>\n",
       "      <td>2019-05-31</td>\n",
       "      <td>2019-06-15</td>\n",
       "      <td>34.206250</td>\n",
       "      <td>0 days</td>\n",
       "    </tr>\n",
       "    <tr>\n",
       "      <th>...</th>\n",
       "      <td>...</td>\n",
       "      <td>...</td>\n",
       "      <td>...</td>\n",
       "      <td>...</td>\n",
       "      <td>...</td>\n",
       "      <td>...</td>\n",
       "      <td>...</td>\n",
       "      <td>...</td>\n",
       "      <td>...</td>\n",
       "      <td>...</td>\n",
       "    </tr>\n",
       "    <tr>\n",
       "      <th>2658</th>\n",
       "      <td>6192027</td>\n",
       "      <td>2022-12-15</td>\n",
       "      <td>51270</td>\n",
       "      <td>82.912</td>\n",
       "      <td>Power Industry</td>\n",
       "      <td>Dahej, Gujarat</td>\n",
       "      <td>2022-11-30</td>\n",
       "      <td>2022-12-15</td>\n",
       "      <td>25.953646</td>\n",
       "      <td>0 days</td>\n",
       "    </tr>\n",
       "    <tr>\n",
       "      <th>2659</th>\n",
       "      <td>6195031</td>\n",
       "      <td>2022-12-31</td>\n",
       "      <td>51270</td>\n",
       "      <td>431.349</td>\n",
       "      <td>Power Industry</td>\n",
       "      <td>Dahej, Gujarat</td>\n",
       "      <td>2022-12-30</td>\n",
       "      <td>2022-12-31</td>\n",
       "      <td>22.391667</td>\n",
       "      <td>0 days</td>\n",
       "    </tr>\n",
       "    <tr>\n",
       "      <th>2660</th>\n",
       "      <td>6198703</td>\n",
       "      <td>2023-01-31</td>\n",
       "      <td>51270</td>\n",
       "      <td>54.347</td>\n",
       "      <td>Power Industry</td>\n",
       "      <td>Dahej, Gujarat</td>\n",
       "      <td>2023-01-15</td>\n",
       "      <td>2023-01-31</td>\n",
       "      <td>21.666176</td>\n",
       "      <td>0 days</td>\n",
       "    </tr>\n",
       "    <tr>\n",
       "      <th>2661</th>\n",
       "      <td>6212010</td>\n",
       "      <td>2022-12-15</td>\n",
       "      <td>51271</td>\n",
       "      <td>103.002</td>\n",
       "      <td>Power Industry</td>\n",
       "      <td>Dahej, Gujarat</td>\n",
       "      <td>2022-11-30</td>\n",
       "      <td>2022-12-15</td>\n",
       "      <td>25.953646</td>\n",
       "      <td>0 days</td>\n",
       "    </tr>\n",
       "    <tr>\n",
       "      <th>2662</th>\n",
       "      <td>6214181</td>\n",
       "      <td>2022-12-31</td>\n",
       "      <td>51271</td>\n",
       "      <td>718.988</td>\n",
       "      <td>Power Industry</td>\n",
       "      <td>Dahej, Gujarat</td>\n",
       "      <td>2022-12-30</td>\n",
       "      <td>2022-12-31</td>\n",
       "      <td>22.391667</td>\n",
       "      <td>0 days</td>\n",
       "    </tr>\n",
       "  </tbody>\n",
       "</table>\n",
       "<p>2663 rows × 10 columns</p>\n",
       "</div>"
      ],
      "text/plain": [
       "        index  BILL DATE  SOLD TO PARTY  QTY(1000 SM3) INDUSTORY SECTOR  \\\n",
       "0      785323 2019-04-15          10005       6163.177   Power Industry   \n",
       "1      795302 2019-04-30          10005       6012.961   Power Industry   \n",
       "2      800708 2019-05-15          10005       6046.048   Power Industry   \n",
       "3      813591 2019-05-31          10005       5476.559   Power Industry   \n",
       "4      816496 2019-06-15          10005       5723.065   Power Industry   \n",
       "...       ...        ...            ...            ...              ...   \n",
       "2658  6192027 2022-12-15          51270         82.912   Power Industry   \n",
       "2659  6195031 2022-12-31          51270        431.349   Power Industry   \n",
       "2660  6198703 2023-01-31          51270         54.347   Power Industry   \n",
       "2661  6212010 2022-12-15          51271        103.002   Power Industry   \n",
       "2662  6214181 2022-12-31          51271        718.988   Power Industry   \n",
       "\n",
       "              Receiving Point  Start Date   End Date  Average Temperature  \\\n",
       "0     Krishna, Andhra Pradesh  2019-04-15 2019-04-30            32.019792   \n",
       "1     Krishna, Andhra Pradesh  2019-04-15 2019-04-30            32.019792   \n",
       "2     Krishna, Andhra Pradesh  2019-04-30 2019-05-15            33.795573   \n",
       "3     Krishna, Andhra Pradesh  2019-05-15 2019-05-31            33.735294   \n",
       "4     Krishna, Andhra Pradesh  2019-05-31 2019-06-15            34.206250   \n",
       "...                       ...         ...        ...                  ...   \n",
       "2658           Dahej, Gujarat  2022-11-30 2022-12-15            25.953646   \n",
       "2659           Dahej, Gujarat  2022-12-30 2022-12-31            22.391667   \n",
       "2660           Dahej, Gujarat  2023-01-15 2023-01-31            21.666176   \n",
       "2661           Dahej, Gujarat  2022-11-30 2022-12-15            25.953646   \n",
       "2662           Dahej, Gujarat  2022-12-30 2022-12-31            22.391667   \n",
       "\n",
       "     Difference  \n",
       "0       15 days  \n",
       "1        0 days  \n",
       "2        0 days  \n",
       "3        0 days  \n",
       "4        0 days  \n",
       "...         ...  \n",
       "2658     0 days  \n",
       "2659     0 days  \n",
       "2660     0 days  \n",
       "2661     0 days  \n",
       "2662     0 days  \n",
       "\n",
       "[2663 rows x 10 columns]"
      ]
     },
     "execution_count": 32,
     "metadata": {},
     "output_type": "execute_result"
    }
   ],
   "source": [
    "df_closest.reset_index()"
   ]
  },
  {
   "cell_type": "code",
   "execution_count": 33,
   "metadata": {},
   "outputs": [
    {
     "name": "stdout",
     "output_type": "stream",
     "text": [
      "<class 'pandas.core.frame.DataFrame'>\n",
      "Index: 2663 entries, 785323 to 6214181\n",
      "Data columns (total 9 columns):\n",
      " #   Column               Non-Null Count  Dtype          \n",
      "---  ------               --------------  -----          \n",
      " 0   BILL DATE            2663 non-null   datetime64[ns] \n",
      " 1   SOLD TO PARTY        2663 non-null   int64          \n",
      " 2   QTY(1000 SM3)        2663 non-null   float64        \n",
      " 3   INDUSTORY SECTOR     2663 non-null   object         \n",
      " 4   Receiving Point      2663 non-null   object         \n",
      " 5   Start Date           2663 non-null   object         \n",
      " 6   End Date             2663 non-null   datetime64[ns] \n",
      " 7   Average Temperature  2663 non-null   float64        \n",
      " 8   Difference           2663 non-null   timedelta64[ns]\n",
      "dtypes: datetime64[ns](2), float64(2), int64(1), object(3), timedelta64[ns](1)\n",
      "memory usage: 208.0+ KB\n"
     ]
    }
   ],
   "source": [
    "df_closest.info()"
   ]
  },
  {
   "cell_type": "code",
   "execution_count": 34,
   "metadata": {},
   "outputs": [
    {
     "data": {
      "text/html": [
       "<div>\n",
       "<style scoped>\n",
       "    .dataframe tbody tr th:only-of-type {\n",
       "        vertical-align: middle;\n",
       "    }\n",
       "\n",
       "    .dataframe tbody tr th {\n",
       "        vertical-align: top;\n",
       "    }\n",
       "\n",
       "    .dataframe thead th {\n",
       "        text-align: right;\n",
       "    }\n",
       "</style>\n",
       "<table border=\"1\" class=\"dataframe\">\n",
       "  <thead>\n",
       "    <tr style=\"text-align: right;\">\n",
       "      <th></th>\n",
       "      <th>BILL DATE</th>\n",
       "      <th>SOLD TO PARTY</th>\n",
       "      <th>QTY(1000 SM3)</th>\n",
       "      <th>End Date</th>\n",
       "      <th>Average Temperature</th>\n",
       "      <th>Difference</th>\n",
       "    </tr>\n",
       "  </thead>\n",
       "  <tbody>\n",
       "    <tr>\n",
       "      <th>count</th>\n",
       "      <td>2663</td>\n",
       "      <td>2663.000000</td>\n",
       "      <td>2663.000000</td>\n",
       "      <td>2663</td>\n",
       "      <td>2663.000000</td>\n",
       "      <td>2663</td>\n",
       "    </tr>\n",
       "    <tr>\n",
       "      <th>mean</th>\n",
       "      <td>2021-02-05 13:52:44.701464576</td>\n",
       "      <td>11483.398423</td>\n",
       "      <td>4336.745010</td>\n",
       "      <td>2021-02-05 14:47:21.607209984</td>\n",
       "      <td>26.608196</td>\n",
       "      <td>0 days 01:00:01.351858805</td>\n",
       "    </tr>\n",
       "    <tr>\n",
       "      <th>min</th>\n",
       "      <td>2019-04-15 00:00:00</td>\n",
       "      <td>10005.000000</td>\n",
       "      <td>0.000000</td>\n",
       "      <td>2019-04-15 00:00:00</td>\n",
       "      <td>10.113725</td>\n",
       "      <td>0 days 00:00:00</td>\n",
       "    </tr>\n",
       "    <tr>\n",
       "      <th>25%</th>\n",
       "      <td>2019-11-30 00:00:00</td>\n",
       "      <td>10272.000000</td>\n",
       "      <td>472.500000</td>\n",
       "      <td>2019-11-30 00:00:00</td>\n",
       "      <td>24.622917</td>\n",
       "      <td>0 days 00:00:00</td>\n",
       "    </tr>\n",
       "    <tr>\n",
       "      <th>50%</th>\n",
       "      <td>2020-08-15 00:00:00</td>\n",
       "      <td>10371.000000</td>\n",
       "      <td>2615.260000</td>\n",
       "      <td>2020-08-15 00:00:00</td>\n",
       "      <td>27.568490</td>\n",
       "      <td>0 days 00:00:00</td>\n",
       "    </tr>\n",
       "    <tr>\n",
       "      <th>75%</th>\n",
       "      <td>2022-05-31 00:00:00</td>\n",
       "      <td>10696.000000</td>\n",
       "      <td>5213.815000</td>\n",
       "      <td>2022-05-31 00:00:00</td>\n",
       "      <td>29.848177</td>\n",
       "      <td>0 days 00:00:00</td>\n",
       "    </tr>\n",
       "    <tr>\n",
       "      <th>max</th>\n",
       "      <td>2023-03-31 00:00:00</td>\n",
       "      <td>51271.000000</td>\n",
       "      <td>42571.221000</td>\n",
       "      <td>2023-03-31 00:00:00</td>\n",
       "      <td>36.602083</td>\n",
       "      <td>30 days 00:00:00</td>\n",
       "    </tr>\n",
       "    <tr>\n",
       "      <th>std</th>\n",
       "      <td>NaN</td>\n",
       "      <td>6127.382916</td>\n",
       "      <td>5724.371285</td>\n",
       "      <td>NaN</td>\n",
       "      <td>5.070069</td>\n",
       "      <td>0 days 21:11:46.657597249</td>\n",
       "    </tr>\n",
       "  </tbody>\n",
       "</table>\n",
       "</div>"
      ],
      "text/plain": [
       "                           BILL DATE  SOLD TO PARTY  QTY(1000 SM3)  \\\n",
       "count                           2663    2663.000000    2663.000000   \n",
       "mean   2021-02-05 13:52:44.701464576   11483.398423    4336.745010   \n",
       "min              2019-04-15 00:00:00   10005.000000       0.000000   \n",
       "25%              2019-11-30 00:00:00   10272.000000     472.500000   \n",
       "50%              2020-08-15 00:00:00   10371.000000    2615.260000   \n",
       "75%              2022-05-31 00:00:00   10696.000000    5213.815000   \n",
       "max              2023-03-31 00:00:00   51271.000000   42571.221000   \n",
       "std                              NaN    6127.382916    5724.371285   \n",
       "\n",
       "                            End Date  Average Temperature  \\\n",
       "count                           2663          2663.000000   \n",
       "mean   2021-02-05 14:47:21.607209984            26.608196   \n",
       "min              2019-04-15 00:00:00            10.113725   \n",
       "25%              2019-11-30 00:00:00            24.622917   \n",
       "50%              2020-08-15 00:00:00            27.568490   \n",
       "75%              2022-05-31 00:00:00            29.848177   \n",
       "max              2023-03-31 00:00:00            36.602083   \n",
       "std                              NaN             5.070069   \n",
       "\n",
       "                      Difference  \n",
       "count                       2663  \n",
       "mean   0 days 01:00:01.351858805  \n",
       "min              0 days 00:00:00  \n",
       "25%              0 days 00:00:00  \n",
       "50%              0 days 00:00:00  \n",
       "75%              0 days 00:00:00  \n",
       "max             30 days 00:00:00  \n",
       "std    0 days 21:11:46.657597249  "
      ]
     },
     "execution_count": 34,
     "metadata": {},
     "output_type": "execute_result"
    }
   ],
   "source": [
    "df_closest.describe()"
   ]
  },
  {
   "cell_type": "code",
   "execution_count": 35,
   "metadata": {},
   "outputs": [],
   "source": [
    "import pandas as pd\n",
    "import holidays\n",
    "from datetime import timedelta\n",
    "from tqdm import tqdm\n",
    "\n",
    "def calculate_holiday_count(power_df, column_mapping):\n",
    "    \"\"\"\n",
    "    Calculate the holiday count between consecutive timestamps for each client.\n",
    "\n",
    "    Args:\n",
    "        power_df (pd.DataFrame): Input DataFrame\n",
    "        column_mapping (dict): Mapping of required fields to actual column names\n",
    "\n",
    "    Returns:\n",
    "        pd.DataFrame: DataFrame with 'holiday_count' column added\n",
    "    \"\"\"\n",
    "    # Initialize Indian holidays\n",
    "    indian_holidays = holidays.India()\n",
    "\n",
    "    # Sort the DataFrame by party and timestamp\n",
    "    power_df = power_df.sort_values([column_mapping['party'], column_mapping['timestamp']])\n",
    "\n",
    "    # Initialize the 'holiday_count' column\n",
    "    power_df['holiday_count'] = 0\n",
    "\n",
    "    # Group the DataFrame by party\n",
    "    grouped = power_df.groupby(column_mapping['party'])\n",
    "\n",
    "    # Process each group\n",
    "    for _, group in tqdm(grouped, desc=\"Processing groups for holiday count\"):\n",
    "        # Calculate holiday count between consecutive timestamps\n",
    "        for i in range(len(group) - 1):\n",
    "            current_row = group.iloc[i]\n",
    "            next_row = group.iloc[i + 1]\n",
    "\n",
    "            start_date = pd.to_datetime(current_row[column_mapping['timestamp']]).date()\n",
    "            end_date = pd.to_datetime(next_row[column_mapping['timestamp']]).date()\n",
    "\n",
    "            # Count holidays\n",
    "            holiday_count = sum(1 for day in pd.date_range(start_date, end_date) if day.date() in indian_holidays)\n",
    "\n",
    "            # Assign the calculated holiday count to the next row\n",
    "            power_df.loc[next_row.name, 'holiday_count'] = holiday_count\n",
    "\n",
    "    return power_df"
   ]
  },
  {
   "cell_type": "code",
   "execution_count": 42,
   "metadata": {},
   "outputs": [
    {
     "name": "stderr",
     "output_type": "stream",
     "text": [
      "Processing groups for holiday count: 100%|██████████| 64/64 [00:02<00:00, 23.11it/s]\n"
     ]
    }
   ],
   "source": [
    "mapping = {\n",
    "        'timestamp': 'BILL DATE',  # Explicitly set 'BILL DATE' as the timestamp column\n",
    "        'party': 'SOLD TO PARTY',\n",
    "        'location': 'Receiving Point'\n",
    "    }\n",
    "power_df_final_0 = calculate_holiday_count(df_closest,mapping)"
   ]
  },
  {
   "cell_type": "code",
   "execution_count": 43,
   "metadata": {},
   "outputs": [],
   "source": [
    "power_df_final_0.to_csv('Final_Dataset.csv')"
   ]
  },
  {
   "cell_type": "code",
   "execution_count": null,
   "metadata": {},
   "outputs": [],
   "source": [
    "import pandas as pd\n",
    "import ydata_profiling\n",
    "from ydata_profiling import ProfileReport\n",
    "\n",
    "final = pd.read_csv('Final_Dataset.csv')\n",
    "clients = final['SOLD TO PARTY'].unique()\n",
    "for client in clients:\n",
    "    df_part = power_df_final_0.loc[(power_df_final_0['SOLD TO PARTY'] == client)]\n",
    "    profile = ProfileReport(df_part, title=\"Profiling Report\", explorative=True)\n",
    "    profile.to_file(f\"{client}_report.html\")\n",
    "    del(df_part)\n",
    "    print(f\"{client}_done\")\n",
    "\n"
   ]
  },
  {
   "cell_type": "code",
   "execution_count": 48,
   "metadata": {},
   "outputs": [
    {
     "ename": "IndentationError",
     "evalue": "expected an indented block after function definition on line 2 (1047994644.py, line 3)",
     "output_type": "error",
     "traceback": [
      "\u001b[1;36m  Cell \u001b[1;32mIn[48], line 3\u001b[1;36m\u001b[0m\n\u001b[1;33m    df['Year'] = df['BILL DATE'].dt.year\u001b[0m\n\u001b[1;37m    ^\u001b[0m\n\u001b[1;31mIndentationError\u001b[0m\u001b[1;31m:\u001b[0m expected an indented block after function definition on line 2\n"
     ]
    }
   ],
   "source": [
    "    # Extract basic date components\n",
    "def seasonl_Cols(df):\n",
    "    df['Year'] = df['BILL DATE'].dt.year\n",
    "    df['Month'] = df['BILL DATE'].dt.month\n",
    "    df['Day'] = df['BILL DATE'].dt.day\n",
    "    df['Weekday'] = df['BILL DATE'].dt.weekday  # Monday=0, Sunday=6\n",
    "    df['Quarter'] = df['BILL DATE'].dt.quarter\n",
    "\n",
    "    # Create seasonal features\n",
    "    def get_season(month):\n",
    "        if month in [12, 1, 2]:\n",
    "            return 'Winter'\n",
    "        elif month in [3, 4, 5]:\n",
    "            return 'Spring'\n",
    "        elif month in [6, 7, 8]:\n",
    "            return 'Summer'\n",
    "        elif month in [9, 10, 11]:\n",
    "            return 'Fall'\n",
    "\n",
    "    df['Season'] = df['Month'].apply(get_season)\n",
    "    df['Is_Weekend'] = df['Weekday'].apply(lambda x: 1 if x >= 5 else 0)\n",
    "\n",
    "    # Create trend-related features\n",
    "    df['Day_of_Year'] = df['BILL DATE'].dt.day_of_year\n",
    "    df['Week_of_Year'] = df['BILL DATE'].dt.isocalendar().week\n",
    "    return df"
   ]
  },
  {
   "cell_type": "code",
   "execution_count": null,
   "metadata": {},
   "outputs": [],
   "source": [
    "fin_s = seasonal_Cols(power_df_final_0)"
   ]
  },
  {
   "cell_type": "code",
   "execution_count": 62,
   "metadata": {},
   "outputs": [
    {
     "name": "stdout",
     "output_type": "stream",
     "text": [
      "Index(['BILL DATE', 'SOLD TO PARTY', 'QTY(1000 SM3)', 'INDUSTORY SECTOR',\n",
      "       'Receiving Point', 'Start Date', 'End Date', 'Average Temperature',\n",
      "       'Difference', 'holiday_count'],\n",
      "      dtype='object')\n",
      "Index(['BILL DATE', 'SOLD TO PARTY', 'QTY(1000 SM3)', 'INDUSTORY SECTOR',\n",
      "       'Receiving Point', 'Start Date', 'End Date', 'Average Temperature',\n",
      "       'Difference', 'holiday_count'],\n",
      "      dtype='object')\n",
      "Index(['BILL DATE', 'SOLD TO PARTY', 'QTY(1000 SM3)', 'INDUSTORY SECTOR',\n",
      "       'Receiving Point', 'Start Date', 'End Date', 'Average Temperature',\n",
      "       'Difference', 'holiday_count'],\n",
      "      dtype='object')\n",
      "Index(['BILL DATE', 'SOLD TO PARTY', 'QTY(1000 SM3)', 'INDUSTORY SECTOR',\n",
      "       'Receiving Point', 'Start Date', 'End Date', 'Average Temperature',\n",
      "       'Difference', 'holiday_count'],\n",
      "      dtype='object')\n",
      "Index(['BILL DATE', 'SOLD TO PARTY', 'QTY(1000 SM3)', 'INDUSTORY SECTOR',\n",
      "       'Receiving Point', 'Start Date', 'End Date', 'Average Temperature',\n",
      "       'Difference', 'holiday_count'],\n",
      "      dtype='object')\n",
      "Index(['BILL DATE', 'SOLD TO PARTY', 'QTY(1000 SM3)', 'INDUSTORY SECTOR',\n",
      "       'Receiving Point', 'Start Date', 'End Date', 'Average Temperature',\n",
      "       'Difference', 'holiday_count'],\n",
      "      dtype='object')\n",
      "Index(['BILL DATE', 'SOLD TO PARTY', 'QTY(1000 SM3)', 'INDUSTORY SECTOR',\n",
      "       'Receiving Point', 'Start Date', 'End Date', 'Average Temperature',\n",
      "       'Difference', 'holiday_count'],\n",
      "      dtype='object')\n",
      "Index(['BILL DATE', 'SOLD TO PARTY', 'QTY(1000 SM3)', 'INDUSTORY SECTOR',\n",
      "       'Receiving Point', 'Start Date', 'End Date', 'Average Temperature',\n",
      "       'Difference', 'holiday_count'],\n",
      "      dtype='object')\n",
      "Index(['BILL DATE', 'SOLD TO PARTY', 'QTY(1000 SM3)', 'INDUSTORY SECTOR',\n",
      "       'Receiving Point', 'Start Date', 'End Date', 'Average Temperature',\n",
      "       'Difference', 'holiday_count'],\n",
      "      dtype='object')\n"
     ]
    },
    {
     "name": "stdout",
     "output_type": "stream",
     "text": [
      "Index(['BILL DATE', 'SOLD TO PARTY', 'QTY(1000 SM3)', 'INDUSTORY SECTOR',\n",
      "       'Receiving Point', 'Start Date', 'End Date', 'Average Temperature',\n",
      "       'Difference', 'holiday_count'],\n",
      "      dtype='object')\n",
      "Index(['BILL DATE', 'SOLD TO PARTY', 'QTY(1000 SM3)', 'INDUSTORY SECTOR',\n",
      "       'Receiving Point', 'Start Date', 'End Date', 'Average Temperature',\n",
      "       'Difference', 'holiday_count'],\n",
      "      dtype='object')\n",
      "Index(['BILL DATE', 'SOLD TO PARTY', 'QTY(1000 SM3)', 'INDUSTORY SECTOR',\n",
      "       'Receiving Point', 'Start Date', 'End Date', 'Average Temperature',\n",
      "       'Difference', 'holiday_count'],\n",
      "      dtype='object')\n",
      "Index(['BILL DATE', 'SOLD TO PARTY', 'QTY(1000 SM3)', 'INDUSTORY SECTOR',\n",
      "       'Receiving Point', 'Start Date', 'End Date', 'Average Temperature',\n",
      "       'Difference', 'holiday_count'],\n",
      "      dtype='object')\n",
      "Index(['BILL DATE', 'SOLD TO PARTY', 'QTY(1000 SM3)', 'INDUSTORY SECTOR',\n",
      "       'Receiving Point', 'Start Date', 'End Date', 'Average Temperature',\n",
      "       'Difference', 'holiday_count'],\n",
      "      dtype='object')\n",
      "Index(['BILL DATE', 'SOLD TO PARTY', 'QTY(1000 SM3)', 'INDUSTORY SECTOR',\n",
      "       'Receiving Point', 'Start Date', 'End Date', 'Average Temperature',\n",
      "       'Difference', 'holiday_count'],\n",
      "      dtype='object')\n",
      "Index(['BILL DATE', 'SOLD TO PARTY', 'QTY(1000 SM3)', 'INDUSTORY SECTOR',\n",
      "       'Receiving Point', 'Start Date', 'End Date', 'Average Temperature',\n",
      "       'Difference', 'holiday_count'],\n",
      "      dtype='object')\n",
      "Index(['BILL DATE', 'SOLD TO PARTY', 'QTY(1000 SM3)', 'INDUSTORY SECTOR',\n",
      "       'Receiving Point', 'Start Date', 'End Date', 'Average Temperature',\n",
      "       'Difference', 'holiday_count'],\n",
      "      dtype='object')\n",
      "Index(['BILL DATE', 'SOLD TO PARTY', 'QTY(1000 SM3)', 'INDUSTORY SECTOR',\n",
      "       'Receiving Point', 'Start Date', 'End Date', 'Average Temperature',\n",
      "       'Difference', 'holiday_count'],\n",
      "      dtype='object')\n",
      "Index(['BILL DATE', 'SOLD TO PARTY', 'QTY(1000 SM3)', 'INDUSTORY SECTOR',\n",
      "       'Receiving Point', 'Start Date', 'End Date', 'Average Temperature',\n",
      "       'Difference', 'holiday_count'],\n",
      "      dtype='object')\n",
      "Index(['BILL DATE', 'SOLD TO PARTY', 'QTY(1000 SM3)', 'INDUSTORY SECTOR',\n",
      "       'Receiving Point', 'Start Date', 'End Date', 'Average Temperature',\n",
      "       'Difference', 'holiday_count'],\n",
      "      dtype='object')\n",
      "Index(['BILL DATE', 'SOLD TO PARTY', 'QTY(1000 SM3)', 'INDUSTORY SECTOR',\n",
      "       'Receiving Point', 'Start Date', 'End Date', 'Average Temperature',\n",
      "       'Difference', 'holiday_count'],\n",
      "      dtype='object')\n",
      "Index(['BILL DATE', 'SOLD TO PARTY', 'QTY(1000 SM3)', 'INDUSTORY SECTOR',\n",
      "       'Receiving Point', 'Start Date', 'End Date', 'Average Temperature',\n",
      "       'Difference', 'holiday_count'],\n",
      "      dtype='object')\n",
      "Index(['BILL DATE', 'SOLD TO PARTY', 'QTY(1000 SM3)', 'INDUSTORY SECTOR',\n",
      "       'Receiving Point', 'Start Date', 'End Date', 'Average Temperature',\n",
      "       'Difference', 'holiday_count'],\n",
      "      dtype='object')\n",
      "Index(['BILL DATE', 'SOLD TO PARTY', 'QTY(1000 SM3)', 'INDUSTORY SECTOR',\n",
      "       'Receiving Point', 'Start Date', 'End Date', 'Average Temperature',\n",
      "       'Difference', 'holiday_count'],\n",
      "      dtype='object')\n",
      "Index(['BILL DATE', 'SOLD TO PARTY', 'QTY(1000 SM3)', 'INDUSTORY SECTOR',\n",
      "       'Receiving Point', 'Start Date', 'End Date', 'Average Temperature',\n",
      "       'Difference', 'holiday_count'],\n",
      "      dtype='object')\n",
      "Index(['BILL DATE', 'SOLD TO PARTY', 'QTY(1000 SM3)', 'INDUSTORY SECTOR',\n",
      "       'Receiving Point', 'Start Date', 'End Date', 'Average Temperature',\n",
      "       'Difference', 'holiday_count'],\n",
      "      dtype='object')\n",
      "Index(['BILL DATE', 'SOLD TO PARTY', 'QTY(1000 SM3)', 'INDUSTORY SECTOR',\n",
      "       'Receiving Point', 'Start Date', 'End Date', 'Average Temperature',\n",
      "       'Difference', 'holiday_count'],\n",
      "      dtype='object')\n",
      "Index(['BILL DATE', 'SOLD TO PARTY', 'QTY(1000 SM3)', 'INDUSTORY SECTOR',\n",
      "       'Receiving Point', 'Start Date', 'End Date', 'Average Temperature',\n",
      "       'Difference', 'holiday_count'],\n",
      "      dtype='object')\n",
      "Index(['BILL DATE', 'SOLD TO PARTY', 'QTY(1000 SM3)', 'INDUSTORY SECTOR',\n",
      "       'Receiving Point', 'Start Date', 'End Date', 'Average Temperature',\n",
      "       'Difference', 'holiday_count'],\n",
      "      dtype='object')\n",
      "Index(['BILL DATE', 'SOLD TO PARTY', 'QTY(1000 SM3)', 'INDUSTORY SECTOR',\n",
      "       'Receiving Point', 'Start Date', 'End Date', 'Average Temperature',\n",
      "       'Difference', 'holiday_count'],\n",
      "      dtype='object')\n",
      "Index(['BILL DATE', 'SOLD TO PARTY', 'QTY(1000 SM3)', 'INDUSTORY SECTOR',\n",
      "       'Receiving Point', 'Start Date', 'End Date', 'Average Temperature',\n",
      "       'Difference', 'holiday_count'],\n",
      "      dtype='object')\n",
      "Index(['BILL DATE', 'SOLD TO PARTY', 'QTY(1000 SM3)', 'INDUSTORY SECTOR',\n",
      "       'Receiving Point', 'Start Date', 'End Date', 'Average Temperature',\n",
      "       'Difference', 'holiday_count'],\n",
      "      dtype='object')\n",
      "Index(['BILL DATE', 'SOLD TO PARTY', 'QTY(1000 SM3)', 'INDUSTORY SECTOR',\n",
      "       'Receiving Point', 'Start Date', 'End Date', 'Average Temperature',\n",
      "       'Difference', 'holiday_count'],\n",
      "      dtype='object')\n",
      "Index(['BILL DATE', 'SOLD TO PARTY', 'QTY(1000 SM3)', 'INDUSTORY SECTOR',\n",
      "       'Receiving Point', 'Start Date', 'End Date', 'Average Temperature',\n",
      "       'Difference', 'holiday_count'],\n",
      "      dtype='object')\n",
      "Index(['BILL DATE', 'SOLD TO PARTY', 'QTY(1000 SM3)', 'INDUSTORY SECTOR',\n",
      "       'Receiving Point', 'Start Date', 'End Date', 'Average Temperature',\n",
      "       'Difference', 'holiday_count'],\n",
      "      dtype='object')\n",
      "Index(['BILL DATE', 'SOLD TO PARTY', 'QTY(1000 SM3)', 'INDUSTORY SECTOR',\n",
      "       'Receiving Point', 'Start Date', 'End Date', 'Average Temperature',\n",
      "       'Difference', 'holiday_count'],\n",
      "      dtype='object')\n",
      "Index(['BILL DATE', 'SOLD TO PARTY', 'QTY(1000 SM3)', 'INDUSTORY SECTOR',\n",
      "       'Receiving Point', 'Start Date', 'End Date', 'Average Temperature',\n",
      "       'Difference', 'holiday_count'],\n",
      "      dtype='object')\n",
      "Index(['BILL DATE', 'SOLD TO PARTY', 'QTY(1000 SM3)', 'INDUSTORY SECTOR',\n",
      "       'Receiving Point', 'Start Date', 'End Date', 'Average Temperature',\n",
      "       'Difference', 'holiday_count'],\n",
      "      dtype='object')\n",
      "Index(['BILL DATE', 'SOLD TO PARTY', 'QTY(1000 SM3)', 'INDUSTORY SECTOR',\n",
      "       'Receiving Point', 'Start Date', 'End Date', 'Average Temperature',\n",
      "       'Difference', 'holiday_count'],\n",
      "      dtype='object')\n",
      "Index(['BILL DATE', 'SOLD TO PARTY', 'QTY(1000 SM3)', 'INDUSTORY SECTOR',\n",
      "       'Receiving Point', 'Start Date', 'End Date', 'Average Temperature',\n",
      "       'Difference', 'holiday_count'],\n",
      "      dtype='object')\n",
      "Index(['BILL DATE', 'SOLD TO PARTY', 'QTY(1000 SM3)', 'INDUSTORY SECTOR',\n",
      "       'Receiving Point', 'Start Date', 'End Date', 'Average Temperature',\n",
      "       'Difference', 'holiday_count'],\n",
      "      dtype='object')\n",
      "Index(['BILL DATE', 'SOLD TO PARTY', 'QTY(1000 SM3)', 'INDUSTORY SECTOR',\n",
      "       'Receiving Point', 'Start Date', 'End Date', 'Average Temperature',\n",
      "       'Difference', 'holiday_count'],\n",
      "      dtype='object')\n",
      "Index(['BILL DATE', 'SOLD TO PARTY', 'QTY(1000 SM3)', 'INDUSTORY SECTOR',\n",
      "       'Receiving Point', 'Start Date', 'End Date', 'Average Temperature',\n",
      "       'Difference', 'holiday_count'],\n",
      "      dtype='object')\n",
      "Index(['BILL DATE', 'SOLD TO PARTY', 'QTY(1000 SM3)', 'INDUSTORY SECTOR',\n",
      "       'Receiving Point', 'Start Date', 'End Date', 'Average Temperature',\n",
      "       'Difference', 'holiday_count'],\n",
      "      dtype='object')\n",
      "Index(['BILL DATE', 'SOLD TO PARTY', 'QTY(1000 SM3)', 'INDUSTORY SECTOR',\n",
      "       'Receiving Point', 'Start Date', 'End Date', 'Average Temperature',\n",
      "       'Difference', 'holiday_count'],\n",
      "      dtype='object')\n",
      "Index(['BILL DATE', 'SOLD TO PARTY', 'QTY(1000 SM3)', 'INDUSTORY SECTOR',\n",
      "       'Receiving Point', 'Start Date', 'End Date', 'Average Temperature',\n",
      "       'Difference', 'holiday_count'],\n",
      "      dtype='object')\n",
      "Index(['BILL DATE', 'SOLD TO PARTY', 'QTY(1000 SM3)', 'INDUSTORY SECTOR',\n",
      "       'Receiving Point', 'Start Date', 'End Date', 'Average Temperature',\n",
      "       'Difference', 'holiday_count'],\n",
      "      dtype='object')\n",
      "Index(['BILL DATE', 'SOLD TO PARTY', 'QTY(1000 SM3)', 'INDUSTORY SECTOR',\n",
      "       'Receiving Point', 'Start Date', 'End Date', 'Average Temperature',\n",
      "       'Difference', 'holiday_count'],\n",
      "      dtype='object')\n",
      "Index(['BILL DATE', 'SOLD TO PARTY', 'QTY(1000 SM3)', 'INDUSTORY SECTOR',\n",
      "       'Receiving Point', 'Start Date', 'End Date', 'Average Temperature',\n",
      "       'Difference', 'holiday_count'],\n",
      "      dtype='object')\n",
      "Index(['BILL DATE', 'SOLD TO PARTY', 'QTY(1000 SM3)', 'INDUSTORY SECTOR',\n",
      "       'Receiving Point', 'Start Date', 'End Date', 'Average Temperature',\n",
      "       'Difference', 'holiday_count'],\n",
      "      dtype='object')\n",
      "Index(['BILL DATE', 'SOLD TO PARTY', 'QTY(1000 SM3)', 'INDUSTORY SECTOR',\n",
      "       'Receiving Point', 'Start Date', 'End Date', 'Average Temperature',\n",
      "       'Difference', 'holiday_count'],\n",
      "      dtype='object')\n",
      "Index(['BILL DATE', 'SOLD TO PARTY', 'QTY(1000 SM3)', 'INDUSTORY SECTOR',\n",
      "       'Receiving Point', 'Start Date', 'End Date', 'Average Temperature',\n",
      "       'Difference', 'holiday_count'],\n",
      "      dtype='object')\n",
      "Index(['BILL DATE', 'SOLD TO PARTY', 'QTY(1000 SM3)', 'INDUSTORY SECTOR',\n",
      "       'Receiving Point', 'Start Date', 'End Date', 'Average Temperature',\n",
      "       'Difference', 'holiday_count'],\n",
      "      dtype='object')\n",
      "Index(['BILL DATE', 'SOLD TO PARTY', 'QTY(1000 SM3)', 'INDUSTORY SECTOR',\n",
      "       'Receiving Point', 'Start Date', 'End Date', 'Average Temperature',\n",
      "       'Difference', 'holiday_count'],\n",
      "      dtype='object')\n",
      "Index(['BILL DATE', 'SOLD TO PARTY', 'QTY(1000 SM3)', 'INDUSTORY SECTOR',\n",
      "       'Receiving Point', 'Start Date', 'End Date', 'Average Temperature',\n",
      "       'Difference', 'holiday_count'],\n",
      "      dtype='object')\n",
      "Index(['BILL DATE', 'SOLD TO PARTY', 'QTY(1000 SM3)', 'INDUSTORY SECTOR',\n",
      "       'Receiving Point', 'Start Date', 'End Date', 'Average Temperature',\n",
      "       'Difference', 'holiday_count'],\n",
      "      dtype='object')\n",
      "Index(['BILL DATE', 'SOLD TO PARTY', 'QTY(1000 SM3)', 'INDUSTORY SECTOR',\n",
      "       'Receiving Point', 'Start Date', 'End Date', 'Average Temperature',\n",
      "       'Difference', 'holiday_count'],\n",
      "      dtype='object')\n",
      "Index(['BILL DATE', 'SOLD TO PARTY', 'QTY(1000 SM3)', 'INDUSTORY SECTOR',\n",
      "       'Receiving Point', 'Start Date', 'End Date', 'Average Temperature',\n",
      "       'Difference', 'holiday_count'],\n",
      "      dtype='object')\n",
      "Index(['BILL DATE', 'SOLD TO PARTY', 'QTY(1000 SM3)', 'INDUSTORY SECTOR',\n",
      "       'Receiving Point', 'Start Date', 'End Date', 'Average Temperature',\n",
      "       'Difference', 'holiday_count'],\n",
      "      dtype='object')\n",
      "Index(['BILL DATE', 'SOLD TO PARTY', 'QTY(1000 SM3)', 'INDUSTORY SECTOR',\n",
      "       'Receiving Point', 'Start Date', 'End Date', 'Average Temperature',\n",
      "       'Difference', 'holiday_count'],\n",
      "      dtype='object')\n",
      "Index(['BILL DATE', 'SOLD TO PARTY', 'QTY(1000 SM3)', 'INDUSTORY SECTOR',\n",
      "       'Receiving Point', 'Start Date', 'End Date', 'Average Temperature',\n",
      "       'Difference', 'holiday_count'],\n",
      "      dtype='object')\n",
      "Index(['BILL DATE', 'SOLD TO PARTY', 'QTY(1000 SM3)', 'INDUSTORY SECTOR',\n",
      "       'Receiving Point', 'Start Date', 'End Date', 'Average Temperature',\n",
      "       'Difference', 'holiday_count'],\n",
      "      dtype='object')\n",
      "Index(['BILL DATE', 'SOLD TO PARTY', 'QTY(1000 SM3)', 'INDUSTORY SECTOR',\n",
      "       'Receiving Point', 'Start Date', 'End Date', 'Average Temperature',\n",
      "       'Difference', 'holiday_count'],\n",
      "      dtype='object')\n",
      "Index(['BILL DATE', 'SOLD TO PARTY', 'QTY(1000 SM3)', 'INDUSTORY SECTOR',\n",
      "       'Receiving Point', 'Start Date', 'End Date', 'Average Temperature',\n",
      "       'Difference', 'holiday_count'],\n",
      "      dtype='object')\n",
      "Index(['BILL DATE', 'SOLD TO PARTY', 'QTY(1000 SM3)', 'INDUSTORY SECTOR',\n",
      "       'Receiving Point', 'Start Date', 'End Date', 'Average Temperature',\n",
      "       'Difference', 'holiday_count'],\n",
      "      dtype='object')\n"
     ]
    },
    {
     "data": {
      "text/html": [
       "<div>\n",
       "<style scoped>\n",
       "    .dataframe tbody tr th:only-of-type {\n",
       "        vertical-align: middle;\n",
       "    }\n",
       "\n",
       "    .dataframe tbody tr th {\n",
       "        vertical-align: top;\n",
       "    }\n",
       "\n",
       "    .dataframe thead th {\n",
       "        text-align: right;\n",
       "    }\n",
       "</style>\n",
       "<table border=\"1\" class=\"dataframe\">\n",
       "  <thead>\n",
       "    <tr style=\"text-align: right;\">\n",
       "      <th></th>\n",
       "      <th>BILL DATE</th>\n",
       "      <th>SOLD TO PARTY</th>\n",
       "      <th>QTY(1000 SM3)</th>\n",
       "      <th>End Date</th>\n",
       "      <th>Average Temperature</th>\n",
       "      <th>Difference</th>\n",
       "      <th>holiday_count</th>\n",
       "      <th>deferred_3</th>\n",
       "      <th>deferred_4</th>\n",
       "      <th>deferred_6</th>\n",
       "    </tr>\n",
       "  </thead>\n",
       "  <tbody>\n",
       "    <tr>\n",
       "      <th>count</th>\n",
       "      <td>2663</td>\n",
       "      <td>2663.000000</td>\n",
       "      <td>2663.000000</td>\n",
       "      <td>2663</td>\n",
       "      <td>2663.000000</td>\n",
       "      <td>2663</td>\n",
       "      <td>2663.000000</td>\n",
       "      <td>2599.000000</td>\n",
       "      <td>2599.000000</td>\n",
       "      <td>2599.000000</td>\n",
       "    </tr>\n",
       "    <tr>\n",
       "      <th>mean</th>\n",
       "      <td>2021-02-05 13:52:44.701464576</td>\n",
       "      <td>11483.398423</td>\n",
       "      <td>4336.745010</td>\n",
       "      <td>2021-02-05 14:47:21.607209984</td>\n",
       "      <td>26.608196</td>\n",
       "      <td>0 days 01:00:01.351858805</td>\n",
       "      <td>1.132557</td>\n",
       "      <td>4408.244286</td>\n",
       "      <td>4417.482079</td>\n",
       "      <td>4434.298116</td>\n",
       "    </tr>\n",
       "    <tr>\n",
       "      <th>min</th>\n",
       "      <td>2019-04-15 00:00:00</td>\n",
       "      <td>10005.000000</td>\n",
       "      <td>0.000000</td>\n",
       "      <td>2019-04-15 00:00:00</td>\n",
       "      <td>10.113725</td>\n",
       "      <td>0 days 00:00:00</td>\n",
       "      <td>0.000000</td>\n",
       "      <td>0.000000</td>\n",
       "      <td>0.000000</td>\n",
       "      <td>0.000000</td>\n",
       "    </tr>\n",
       "    <tr>\n",
       "      <th>25%</th>\n",
       "      <td>2019-11-30 00:00:00</td>\n",
       "      <td>10272.000000</td>\n",
       "      <td>472.500000</td>\n",
       "      <td>2019-11-30 00:00:00</td>\n",
       "      <td>24.622917</td>\n",
       "      <td>0 days 00:00:00</td>\n",
       "      <td>0.000000</td>\n",
       "      <td>663.006667</td>\n",
       "      <td>743.906500</td>\n",
       "      <td>807.447000</td>\n",
       "    </tr>\n",
       "    <tr>\n",
       "      <th>50%</th>\n",
       "      <td>2020-08-15 00:00:00</td>\n",
       "      <td>10371.000000</td>\n",
       "      <td>2615.260000</td>\n",
       "      <td>2020-08-15 00:00:00</td>\n",
       "      <td>27.568490</td>\n",
       "      <td>0 days 00:00:00</td>\n",
       "      <td>1.000000</td>\n",
       "      <td>2705.816000</td>\n",
       "      <td>2755.284500</td>\n",
       "      <td>2778.438500</td>\n",
       "    </tr>\n",
       "    <tr>\n",
       "      <th>75%</th>\n",
       "      <td>2022-05-31 00:00:00</td>\n",
       "      <td>10696.000000</td>\n",
       "      <td>5213.815000</td>\n",
       "      <td>2022-05-31 00:00:00</td>\n",
       "      <td>29.848177</td>\n",
       "      <td>0 days 00:00:00</td>\n",
       "      <td>1.000000</td>\n",
       "      <td>5099.231833</td>\n",
       "      <td>5071.381125</td>\n",
       "      <td>5035.065750</td>\n",
       "    </tr>\n",
       "    <tr>\n",
       "      <th>max</th>\n",
       "      <td>2023-03-31 00:00:00</td>\n",
       "      <td>51271.000000</td>\n",
       "      <td>42571.221000</td>\n",
       "      <td>2023-03-31 00:00:00</td>\n",
       "      <td>36.602083</td>\n",
       "      <td>30 days 00:00:00</td>\n",
       "      <td>30.000000</td>\n",
       "      <td>35987.261333</td>\n",
       "      <td>35519.066750</td>\n",
       "      <td>31965.961000</td>\n",
       "    </tr>\n",
       "    <tr>\n",
       "      <th>std</th>\n",
       "      <td>NaN</td>\n",
       "      <td>6127.382916</td>\n",
       "      <td>5724.371285</td>\n",
       "      <td>NaN</td>\n",
       "      <td>5.070069</td>\n",
       "      <td>0 days 21:11:46.657597249</td>\n",
       "      <td>2.457162</td>\n",
       "      <td>5516.859365</td>\n",
       "      <td>5474.293204</td>\n",
       "      <td>5427.679119</td>\n",
       "    </tr>\n",
       "  </tbody>\n",
       "</table>\n",
       "</div>"
      ],
      "text/plain": [
       "                           BILL DATE  SOLD TO PARTY  QTY(1000 SM3)  \\\n",
       "count                           2663    2663.000000    2663.000000   \n",
       "mean   2021-02-05 13:52:44.701464576   11483.398423    4336.745010   \n",
       "min              2019-04-15 00:00:00   10005.000000       0.000000   \n",
       "25%              2019-11-30 00:00:00   10272.000000     472.500000   \n",
       "50%              2020-08-15 00:00:00   10371.000000    2615.260000   \n",
       "75%              2022-05-31 00:00:00   10696.000000    5213.815000   \n",
       "max              2023-03-31 00:00:00   51271.000000   42571.221000   \n",
       "std                              NaN    6127.382916    5724.371285   \n",
       "\n",
       "                            End Date  Average Temperature  \\\n",
       "count                           2663          2663.000000   \n",
       "mean   2021-02-05 14:47:21.607209984            26.608196   \n",
       "min              2019-04-15 00:00:00            10.113725   \n",
       "25%              2019-11-30 00:00:00            24.622917   \n",
       "50%              2020-08-15 00:00:00            27.568490   \n",
       "75%              2022-05-31 00:00:00            29.848177   \n",
       "max              2023-03-31 00:00:00            36.602083   \n",
       "std                              NaN             5.070069   \n",
       "\n",
       "                      Difference  holiday_count    deferred_3    deferred_4  \\\n",
       "count                       2663    2663.000000   2599.000000   2599.000000   \n",
       "mean   0 days 01:00:01.351858805       1.132557   4408.244286   4417.482079   \n",
       "min              0 days 00:00:00       0.000000      0.000000      0.000000   \n",
       "25%              0 days 00:00:00       0.000000    663.006667    743.906500   \n",
       "50%              0 days 00:00:00       1.000000   2705.816000   2755.284500   \n",
       "75%              0 days 00:00:00       1.000000   5099.231833   5071.381125   \n",
       "max             30 days 00:00:00      30.000000  35987.261333  35519.066750   \n",
       "std    0 days 21:11:46.657597249       2.457162   5516.859365   5474.293204   \n",
       "\n",
       "         deferred_6  \n",
       "count   2599.000000  \n",
       "mean    4434.298116  \n",
       "min        0.000000  \n",
       "25%      807.447000  \n",
       "50%     2778.438500  \n",
       "75%     5035.065750  \n",
       "max    31965.961000  \n",
       "std     5427.679119  "
      ]
     },
     "execution_count": 62,
     "metadata": {},
     "output_type": "execute_result"
    }
   ],
   "source": [
    "import pandas as pd\n",
    "\n",
    "clients = power_df_final_0['SOLD TO PARTY'].unique()\n",
    "fin_r = pd.DataFrame()\n",
    "print(power_df_final_0.columns)\n",
    "for client in clients:\n",
    "    df_part = power_df_final_0.loc[power_df_final_0['SOLD TO PARTY'] == client]\n",
    "    print(df_part.columns)\n",
    "    result_part = df_part.copy()\n",
    "    \n",
    "    # Convert 'BILL DATE' to datetime and set it as the index\n",
    "    result_part['BILL DATE'] = pd.to_datetime(result_part['BILL DATE'])\n",
    "    result_part.set_index('BILL DATE', inplace=True)\n",
    "    \n",
    "    # Resample and aggregate (you need to specify how to aggregate)\n",
    "    #result_part = result_part.resample('2W').agg({'QTY(1000 SM3)': 'mean'})\n",
    "    \n",
    "    # Calculate rolling means\n",
    "    result_part['deferred_3'] = result_part['QTY(1000 SM3)'].rolling(window=3, min_periods=1).mean().shift(1)\n",
    "    result_part['deferred_4'] = result_part['QTY(1000 SM3)'].rolling(window=4, min_periods=1).mean().shift(1)\n",
    "    result_part['deferred_6'] = result_part['QTY(1000 SM3)'].rolling(window=6, min_periods=1).mean().shift(1)\n",
    "    \n",
    "        \n",
    "    # Add 'SOLD TO PARTY' column back\n",
    "    result_part['SOLD TO PARTY'] = client\n",
    "    \n",
    "    fin_r = pd.concat([fin_r, result_part], ignore_index=False)\n",
    "\n",
    "# Reset index to make 'BILL DATE' a column again\n",
    "fin_r.reset_index(inplace=True)\n",
    "\n",
    "# Display summary statistics\n",
    "fin_r.describe()"
   ]
  },
  {
   "cell_type": "code",
   "execution_count": 64,
   "metadata": {},
   "outputs": [],
   "source": [
    "fin_r.drop(['Start Date','End Date','Difference'],inplace=True,axis=1)"
   ]
  },
  {
   "cell_type": "code",
   "execution_count": 65,
   "metadata": {},
   "outputs": [],
   "source": [
    "fin_r.to_csv('sleepy_fin.csv')"
   ]
  },
  {
   "cell_type": "code",
   "execution_count": 68,
   "metadata": {},
   "outputs": [],
   "source": [
    "    # Extract basic date components\n",
    "def seasonl_Cols(df):\n",
    "    \n",
    "        df['Year'] = df['BILL DATE'].dt.year\n",
    "        df['Month'] = df['BILL DATE'].dt.month\n",
    "        df['Day'] = df['BILL DATE'].dt.day\n",
    "        df['Weekday'] = df['BILL DATE'].dt.weekday  # Monday=0, Sunday=6\n",
    "        df['Quarter'] = df['BILL DATE'].dt.quarter\n",
    "    \n",
    "        # Create seasonal features\n",
    "        def get_season(month):\n",
    "            if month in [12, 1, 2]:\n",
    "                return 'Winter'\n",
    "            elif month in [3, 4, 5]:\n",
    "                return 'Spring'\n",
    "            elif month in [6, 7, 8]:\n",
    "                return 'Summer'\n",
    "            elif month in [9, 10, 11]:\n",
    "                return 'Fall'\n",
    "    \n",
    "        df['Season'] = df['Month'].apply(get_season)\n",
    "        df['Is_Weekend'] = df['Weekday'].apply(lambda x: 1 if x >= 5 else 0)\n",
    "    \n",
    "        # Create trend-related features\n",
    "        df['Day_of_Year'] = df['BILL DATE'].dt.day_of_year\n",
    "        df['Week_of_Year'] = df['BILL DATE'].dt.isocalendar().week\n",
    "        return df"
   ]
  },
  {
   "cell_type": "code",
   "execution_count": 73,
   "metadata": {},
   "outputs": [],
   "source": [
    "\n",
    "df_f = pd.read_csv('sleepy_fin.csv')\n",
    "final = pd.DataFrame()\n",
    "df_f['BILL DATE']=pd.to_datetime(df_f['BILL DATE'])\n",
    "final = pd.concat([final,seasonl_Cols(df_f)])\n"
   ]
  },
  {
   "cell_type": "code",
   "execution_count": 75,
   "metadata": {},
   "outputs": [
    {
     "name": "stderr",
     "output_type": "stream",
     "text": [
      "c:\\Users\\Krishna\\.conda\\envs\\DATA_FORT\\Lib\\site-packages\\ydata_profiling\\utils\\dataframe.py:137: SettingWithCopyWarning: \n",
      "A value is trying to be set on a copy of a slice from a DataFrame\n",
      "\n",
      "See the caveats in the documentation: https://pandas.pydata.org/pandas-docs/stable/user_guide/indexing.html#returning-a-view-versus-a-copy\n",
      "  df.rename(columns={\"index\": \"df_index\"}, inplace=True)\n",
      "Summarize dataset:  81%|████████▏ | 22/27 [00:00<00:00, 62.94it/s, Calculate auto correlation]           c:\\Users\\Krishna\\.conda\\envs\\DATA_FORT\\Lib\\site-packages\\ydata_profiling\\model\\pandas\\discretize_pandas.py:52: FutureWarning: Setting an item of incompatible dtype is deprecated and will raise in a future error of pandas. Value '[0 0 0 0 0 0 0 0 0 0 0 0 0 0 0 0 0 0 0 3 3 3 3 3 3 3 3 3 3 3 3 3 3 3 3 6 6\n",
      " 6 6 6 6 9 9 9 9 9 9 9 9 9 9 9 9 9 9 9 9 9 9 9]' has dtype incompatible with int32, please explicitly cast to a compatible dtype first.\n",
      "  discretized_df.loc[:, column] = self._discretize_column(\n",
      "c:\\Users\\Krishna\\.conda\\envs\\DATA_FORT\\Lib\\site-packages\\ydata_profiling\\model\\pandas\\discretize_pandas.py:52: FutureWarning: Setting an item of incompatible dtype is deprecated and will raise in a future error of pandas. Value '[2 2 3 3 4 4 5 5 6 6 7 7 8 8 9 9 9 9 9 0 0 0 0 1 1 3 3 4 4 5 5 6 6 7 7 8 8\n",
      " 9 9 9 9 0 0 0 0 1 1 2 2 3 3 4 4 5 5 6 6 7 7 8]' has dtype incompatible with int32, please explicitly cast to a compatible dtype first.\n",
      "  discretized_df.loc[:, column] = self._discretize_column(\n",
      "c:\\Users\\Krishna\\.conda\\envs\\DATA_FORT\\Lib\\site-packages\\ydata_profiling\\model\\pandas\\discretize_pandas.py:52: FutureWarning: Setting an item of incompatible dtype is deprecated and will raise in a future error of pandas. Value '[4 9 4 9 4 9 4 9 4 9 4 9 4 9 4 9 0 4 9 4 9 4 9 4 9 4 9 4 9 4 9 4 9 4 9 4 9\n",
      " 4 9 4 9 4 9 4 8 4 9 4 9 4 9 4 9 4 9 4 9 4 9 4]' has dtype incompatible with int32, please explicitly cast to a compatible dtype first.\n",
      "  discretized_df.loc[:, column] = self._discretize_column(\n",
      "c:\\Users\\Krishna\\.conda\\envs\\DATA_FORT\\Lib\\site-packages\\ydata_profiling\\model\\pandas\\discretize_pandas.py:52: FutureWarning: Setting an item of incompatible dtype is deprecated and will raise in a future error of pandas. Value '[0 1 3 6 8 9 0 3 4 8 9 0 1 4 6 8 9 9 1 3 6 8 8 9 1 6 9 0 1 3 6 8 0 1 3 6 9\n",
      " 0 1 3 6 8 0 1 0 1 4 6 8 9 1 3 4 6 9 0 3 4 6 8]' has dtype incompatible with int32, please explicitly cast to a compatible dtype first.\n",
      "  discretized_df.loc[:, column] = self._discretize_column(\n",
      "c:\\Users\\Krishna\\.conda\\envs\\DATA_FORT\\Lib\\site-packages\\ydata_profiling\\model\\pandas\\discretize_pandas.py:52: FutureWarning: Setting an item of incompatible dtype is deprecated and will raise in a future error of pandas. Value '[3 3 3 3 3 3 6 6 6 6 6 6 9 9 9 9 9 9 9 0 0 0 0 0 0 3 3 3 3 6 6 6 6 6 6 9 9\n",
      " 9 9 9 9 0 0 0 0 0 0 3 3 3 3 3 3 6 6 6 6 6 6 9]' has dtype incompatible with int32, please explicitly cast to a compatible dtype first.\n",
      "  discretized_df.loc[:, column] = self._discretize_column(\n",
      "c:\\Users\\Krishna\\.conda\\envs\\DATA_FORT\\Lib\\site-packages\\ydata_profiling\\model\\pandas\\discretize_pandas.py:52: FutureWarning: Setting an item of incompatible dtype is deprecated and will raise in a future error of pandas. Value '[2 2 3 3 4 4 5 5 6 6 6 7 7 8 8 9 9 9 9 0 0 0 1 1 2 3 3 4 4 5 5 6 6 6 7 7 8\n",
      " 8 9 9 9 0 0 0 1 1 2 2 2 3 3 4 4 5 5 6 6 6 7 7]' has dtype incompatible with int32, please explicitly cast to a compatible dtype first.\n",
      "  discretized_df.loc[:, column] = self._discretize_column(\n",
      "c:\\Users\\Krishna\\.conda\\envs\\DATA_FORT\\Lib\\site-packages\\ydata_profiling\\model\\correlations.py:66: UserWarning: There was an attempt to calculate the auto correlation, but this failed.\n",
      "To hide this warning, disable the calculation\n",
      "(using `df.profile_report(correlations={\"auto\": {\"calculate\": False}})`\n",
      "If this is problematic for your use case, please report this as an issue:\n",
      "https://github.com/ydataai/ydata-profiling/issues\n",
      "(include the error message: 'could not convert string to float: 'Krishna, Andhra Pradesh'')\n",
      "  warnings.warn(\n",
      "Summarize dataset: 100%|██████████| 174/174 [00:32<00:00,  5.40it/s, Completed]                                      \n",
      "Generate report structure: 100%|██████████| 1/1 [00:09<00:00,  9.15s/it]\n",
      "Render HTML: 100%|██████████| 1/1 [00:02<00:00,  2.51s/it]\n",
      "Export report to file: 100%|██████████| 1/1 [00:00<00:00, 71.42it/s]\n"
     ]
    },
    {
     "name": "stdout",
     "output_type": "stream",
     "text": [
      "10005_done\n"
     ]
    },
    {
     "name": "stderr",
     "output_type": "stream",
     "text": [
      "c:\\Users\\Krishna\\.conda\\envs\\DATA_FORT\\Lib\\site-packages\\ydata_profiling\\utils\\dataframe.py:137: SettingWithCopyWarning: \n",
      "A value is trying to be set on a copy of a slice from a DataFrame\n",
      "\n",
      "See the caveats in the documentation: https://pandas.pydata.org/pandas-docs/stable/user_guide/indexing.html#returning-a-view-versus-a-copy\n",
      "  df.rename(columns={\"index\": \"df_index\"}, inplace=True)\n",
      "Summarize dataset:  81%|████████▏ | 22/27 [00:00<00:00, 61.39it/s, Calculate auto correlation]          c:\\Users\\Krishna\\.conda\\envs\\DATA_FORT\\Lib\\site-packages\\ydata_profiling\\model\\pandas\\discretize_pandas.py:52: FutureWarning: Setting an item of incompatible dtype is deprecated and will raise in a future error of pandas. Value '[0 0 0 0 0 0 0 0 0 0 0 0 0 0 0 0 0 0 3 3 3 3 3 3 3 3 3 3 3 3 3 3 3 6 6 6 6\n",
      " 6 6 9 9 9 9 9 9 9 9 9 9 9 9 9 9 9 9 9 9]' has dtype incompatible with int32, please explicitly cast to a compatible dtype first.\n",
      "  discretized_df.loc[:, column] = self._discretize_column(\n",
      "c:\\Users\\Krishna\\.conda\\envs\\DATA_FORT\\Lib\\site-packages\\ydata_profiling\\model\\pandas\\discretize_pandas.py:52: FutureWarning: Setting an item of incompatible dtype is deprecated and will raise in a future error of pandas. Value '[2 2 3 3 4 4 5 5 6 6 7 7 8 8 9 9 9 9 0 0 0 0 1 1 2 2 3 3 4 4 5 5 6 8 8 9 9\n",
      " 9 9 0 0 1 1 2 2 3 3 4 4 5 5 6 6 7 7 8 8]' has dtype incompatible with int32, please explicitly cast to a compatible dtype first.\n",
      "  discretized_df.loc[:, column] = self._discretize_column(\n",
      "c:\\Users\\Krishna\\.conda\\envs\\DATA_FORT\\Lib\\site-packages\\ydata_profiling\\model\\pandas\\discretize_pandas.py:52: FutureWarning: Setting an item of incompatible dtype is deprecated and will raise in a future error of pandas. Value '[0 9 0 9 0 9 0 9 0 9 0 9 0 9 0 9 0 9 0 9 0 8 0 9 0 9 0 9 0 9 0 9 0 0 9 0 9\n",
      " 0 9 9 8 0 9 0 9 0 9 0 9 0 9 0 9 0 9 0 9]' has dtype incompatible with int32, please explicitly cast to a compatible dtype first.\n",
      "  discretized_df.loc[:, column] = self._discretize_column(\n",
      "c:\\Users\\Krishna\\.conda\\envs\\DATA_FORT\\Lib\\site-packages\\ydata_profiling\\model\\pandas\\discretize_pandas.py:52: FutureWarning: Setting an item of incompatible dtype is deprecated and will raise in a future error of pandas. Value '[0 1 3 6 8 9 0 3 4 8 9 0 1 4 6 8 9 1 3 6 8 8 9 1 3 4 6 9 0 1 3 6 8 6 9 0 1\n",
      " 3 6 0 0 1 4 6 8 9 1 3 4 6 9 0 3 4 6 8 0]' has dtype incompatible with int32, please explicitly cast to a compatible dtype first.\n",
      "  discretized_df.loc[:, column] = self._discretize_column(\n",
      "c:\\Users\\Krishna\\.conda\\envs\\DATA_FORT\\Lib\\site-packages\\ydata_profiling\\model\\pandas\\discretize_pandas.py:52: FutureWarning: Setting an item of incompatible dtype is deprecated and will raise in a future error of pandas. Value '[3 3 3 3 3 3 6 6 6 6 6 6 9 9 9 9 9 9 0 0 0 0 0 0 3 3 3 3 3 3 6 6 6 9 9 9 9\n",
      " 9 9 0 0 0 0 3 3 3 3 3 3 6 6 6 6 6 6 9 9]' has dtype incompatible with int32, please explicitly cast to a compatible dtype first.\n",
      "  discretized_df.loc[:, column] = self._discretize_column(\n",
      "c:\\Users\\Krishna\\.conda\\envs\\DATA_FORT\\Lib\\site-packages\\ydata_profiling\\model\\pandas\\discretize_pandas.py:52: FutureWarning: Setting an item of incompatible dtype is deprecated and will raise in a future error of pandas. Value '[2 2 3 3 4 4 5 5 6 6 6 7 7 8 8 9 9 9 0 0 0 1 1 2 2 3 3 3 4 4 5 5 6 7 8 8 9\n",
      " 9 9 0 1 1 2 2 2 3 3 4 4 5 5 6 6 6 7 7 8]' has dtype incompatible with int32, please explicitly cast to a compatible dtype first.\n",
      "  discretized_df.loc[:, column] = self._discretize_column(\n",
      "c:\\Users\\Krishna\\.conda\\envs\\DATA_FORT\\Lib\\site-packages\\ydata_profiling\\model\\correlations.py:66: UserWarning: There was an attempt to calculate the auto correlation, but this failed.\n",
      "To hide this warning, disable the calculation\n",
      "(using `df.profile_report(correlations={\"auto\": {\"calculate\": False}})`\n",
      "If this is problematic for your use case, please report this as an issue:\n",
      "https://github.com/ydataai/ydata-profiling/issues\n",
      "(include the error message: 'could not convert string to float: 'Bhuj, Gujarat'')\n",
      "  warnings.warn(\n",
      "Summarize dataset: 100%|██████████| 130/130 [00:24<00:00,  5.41it/s, Completed]                                      \n",
      "Generate report structure: 100%|██████████| 1/1 [00:07<00:00,  7.29s/it]\n",
      "Render HTML: 100%|██████████| 1/1 [00:01<00:00,  1.60s/it]\n",
      "Export report to file: 100%|██████████| 1/1 [00:00<00:00, 107.42it/s]\n"
     ]
    },
    {
     "name": "stdout",
     "output_type": "stream",
     "text": [
      "10007_done\n"
     ]
    },
    {
     "name": "stderr",
     "output_type": "stream",
     "text": [
      "c:\\Users\\Krishna\\.conda\\envs\\DATA_FORT\\Lib\\site-packages\\ydata_profiling\\utils\\dataframe.py:137: SettingWithCopyWarning: \n",
      "A value is trying to be set on a copy of a slice from a DataFrame\n",
      "\n",
      "See the caveats in the documentation: https://pandas.pydata.org/pandas-docs/stable/user_guide/indexing.html#returning-a-view-versus-a-copy\n",
      "  df.rename(columns={\"index\": \"df_index\"}, inplace=True)\n",
      "Summarize dataset:  81%|████████▏ | 22/27 [00:00<00:00, 50.02it/s, Calculate auto correlation]          c:\\Users\\Krishna\\.conda\\envs\\DATA_FORT\\Lib\\site-packages\\ydata_profiling\\model\\pandas\\discretize_pandas.py:52: FutureWarning: Setting an item of incompatible dtype is deprecated and will raise in a future error of pandas. Value '[0 0 0 0 0 0 0 0 0 0 0 0 2 2 2 2 2 2 2 2 4 4 4 4 4 4 7 7 7 7 7 7 7 7 7 7 7\n",
      " 7 7 7 7 9 9 9]' has dtype incompatible with int32, please explicitly cast to a compatible dtype first.\n",
      "  discretized_df.loc[:, column] = self._discretize_column(\n",
      "c:\\Users\\Krishna\\.conda\\envs\\DATA_FORT\\Lib\\site-packages\\ydata_profiling\\model\\pandas\\discretize_pandas.py:52: FutureWarning: Setting an item of incompatible dtype is deprecated and will raise in a future error of pandas. Value '[2 2 3 3 4 4 5 6 7 8 9 9 1 1 2 3 4 5 6 7 8 8 9 9 9 9 0 0 1 2 2 3 4 5 6 6 7\n",
      " 7 8 9 9 0 0 1]' has dtype incompatible with int32, please explicitly cast to a compatible dtype first.\n",
      "  discretized_df.loc[:, column] = self._discretize_column(\n",
      "c:\\Users\\Krishna\\.conda\\envs\\DATA_FORT\\Lib\\site-packages\\ydata_profiling\\model\\pandas\\discretize_pandas.py:52: FutureWarning: Setting an item of incompatible dtype is deprecated and will raise in a future error of pandas. Value '[0 9 0 9 0 9 0 0 0 0 0 0 0 9 0 0 0 0 0 0 0 9 0 9 0 9 0 9 9 0 9 0 0 0 0 9 0\n",
      " 9 0 9 9 9 8 0]' has dtype incompatible with int32, please explicitly cast to a compatible dtype first.\n",
      "  discretized_df.loc[:, column] = self._discretize_column(\n",
      "c:\\Users\\Krishna\\.conda\\envs\\DATA_FORT\\Lib\\site-packages\\ydata_profiling\\model\\pandas\\discretize_pandas.py:52: FutureWarning: Setting an item of incompatible dtype is deprecated and will raise in a future error of pandas. Value '[0 1 3 6 8 9 0 4 9 1 6 9 9 1 3 6 0 3 8 1 6 9 0 1 3 6 8 0 4 6 8 9 3 6 0 3 4\n",
      " 6 8 3 8 1 1 3]' has dtype incompatible with int32, please explicitly cast to a compatible dtype first.\n",
      "  discretized_df.loc[:, column] = self._discretize_column(\n",
      "c:\\Users\\Krishna\\.conda\\envs\\DATA_FORT\\Lib\\site-packages\\ydata_profiling\\model\\pandas\\discretize_pandas.py:52: FutureWarning: Setting an item of incompatible dtype is deprecated and will raise in a future error of pandas. Value '[3 3 3 3 3 3 6 6 6 9 9 9 0 0 3 3 3 6 6 6 9 9 9 9 9 9 0 0 0 3 3 3 3 6 6 6 6\n",
      " 6 9 9 9 0 0 0]' has dtype incompatible with int32, please explicitly cast to a compatible dtype first.\n",
      "  discretized_df.loc[:, column] = self._discretize_column(\n",
      "c:\\Users\\Krishna\\.conda\\envs\\DATA_FORT\\Lib\\site-packages\\ydata_profiling\\model\\pandas\\discretize_pandas.py:52: FutureWarning: Setting an item of incompatible dtype is deprecated and will raise in a future error of pandas. Value '[2 2 3 3 4 4 5 6 6 7 8 9 1 2 2 3 4 5 6 6 7 8 8 9 9 9 0 0 2 2 2 3 4 5 6 6 6\n",
      " 7 7 9 9 0 1 1]' has dtype incompatible with int32, please explicitly cast to a compatible dtype first.\n",
      "  discretized_df.loc[:, column] = self._discretize_column(\n",
      "c:\\Users\\Krishna\\.conda\\envs\\DATA_FORT\\Lib\\site-packages\\ydata_profiling\\model\\correlations.py:66: UserWarning: There was an attempt to calculate the auto correlation, but this failed.\n",
      "To hide this warning, disable the calculation\n",
      "(using `df.profile_report(correlations={\"auto\": {\"calculate\": False}})`\n",
      "If this is problematic for your use case, please report this as an issue:\n",
      "https://github.com/ydataai/ydata-profiling/issues\n",
      "(include the error message: 'could not convert string to float: 'Nandigama, Andhra Pradesh'')\n",
      "  warnings.warn(\n",
      "Summarize dataset: 100%|██████████| 151/151 [00:18<00:00,  8.28it/s, Completed]                                      \n",
      "Generate report structure: 100%|██████████| 1/1 [00:06<00:00,  6.53s/it]\n",
      "Render HTML: 100%|██████████| 1/1 [00:01<00:00,  1.77s/it]\n",
      "Export report to file: 100%|██████████| 1/1 [00:00<00:00, 83.39it/s]\n"
     ]
    },
    {
     "name": "stdout",
     "output_type": "stream",
     "text": [
      "10042_done\n"
     ]
    },
    {
     "name": "stderr",
     "output_type": "stream",
     "text": [
      "c:\\Users\\Krishna\\.conda\\envs\\DATA_FORT\\Lib\\site-packages\\ydata_profiling\\utils\\dataframe.py:137: SettingWithCopyWarning: \n",
      "A value is trying to be set on a copy of a slice from a DataFrame\n",
      "\n",
      "See the caveats in the documentation: https://pandas.pydata.org/pandas-docs/stable/user_guide/indexing.html#returning-a-view-versus-a-copy\n",
      "  df.rename(columns={\"index\": \"df_index\"}, inplace=True)\n",
      "Summarize dataset:  81%|████████▏ | 22/27 [00:00<00:00,  6.41it/s, Calculate auto correlation]          c:\\Users\\Krishna\\.conda\\envs\\DATA_FORT\\Lib\\site-packages\\ydata_profiling\\model\\pandas\\discretize_pandas.py:52: FutureWarning: Setting an item of incompatible dtype is deprecated and will raise in a future error of pandas. Value '[0 0 0 0 0 0 0 0 0 0 0 0 0 0 0 0 0 0 9 9 9 9 9 9 9 9 9 9 9 9 9 9 9]' has dtype incompatible with int32, please explicitly cast to a compatible dtype first.\n",
      "  discretized_df.loc[:, column] = self._discretize_column(\n",
      "c:\\Users\\Krishna\\.conda\\envs\\DATA_FORT\\Lib\\site-packages\\ydata_profiling\\model\\pandas\\discretize_pandas.py:52: FutureWarning: Setting an item of incompatible dtype is deprecated and will raise in a future error of pandas. Value '[2 2 3 3 4 4 5 5 6 6 7 7 8 8 9 9 9 9 0 0 0 0 1 1 2 2 3 3 4 4 5 6 7]' has dtype incompatible with int32, please explicitly cast to a compatible dtype first.\n",
      "  discretized_df.loc[:, column] = self._discretize_column(\n",
      "c:\\Users\\Krishna\\.conda\\envs\\DATA_FORT\\Lib\\site-packages\\ydata_profiling\\model\\pandas\\discretize_pandas.py:52: FutureWarning: Setting an item of incompatible dtype is deprecated and will raise in a future error of pandas. Value '[0 9 0 9 0 9 0 9 0 9 0 9 0 9 0 9 0 9 0 9 0 8 0 9 0 9 0 9 0 9 9 9 9]' has dtype incompatible with int32, please explicitly cast to a compatible dtype first.\n",
      "  discretized_df.loc[:, column] = self._discretize_column(\n",
      "c:\\Users\\Krishna\\.conda\\envs\\DATA_FORT\\Lib\\site-packages\\ydata_profiling\\model\\pandas\\discretize_pandas.py:52: FutureWarning: Setting an item of incompatible dtype is deprecated and will raise in a future error of pandas. Value '[0 1 3 6 8 9 0 3 4 8 9 0 1 4 6 8 9 1 3 6 8 8 9 1 3 4 6 9 0 1 6 0 3]' has dtype incompatible with int32, please explicitly cast to a compatible dtype first.\n",
      "  discretized_df.loc[:, column] = self._discretize_column(\n",
      "c:\\Users\\Krishna\\.conda\\envs\\DATA_FORT\\Lib\\site-packages\\ydata_profiling\\model\\pandas\\discretize_pandas.py:52: FutureWarning: Setting an item of incompatible dtype is deprecated and will raise in a future error of pandas. Value '[3 3 3 3 3 3 6 6 6 6 6 6 9 9 9 9 9 9 0 0 0 0 0 0 3 3 3 3 3 3 6 6 6]' has dtype incompatible with int32, please explicitly cast to a compatible dtype first.\n",
      "  discretized_df.loc[:, column] = self._discretize_column(\n",
      "c:\\Users\\Krishna\\.conda\\envs\\DATA_FORT\\Lib\\site-packages\\ydata_profiling\\model\\pandas\\discretize_pandas.py:52: FutureWarning: Setting an item of incompatible dtype is deprecated and will raise in a future error of pandas. Value '[2 2 3 3 4 4 5 5 6 6 6 7 7 8 8 9 9 9 0 0 0 1 1 2 2 3 3 3 4 4 5 6 7]' has dtype incompatible with int32, please explicitly cast to a compatible dtype first.\n",
      "  discretized_df.loc[:, column] = self._discretize_column(\n",
      "c:\\Users\\Krishna\\.conda\\envs\\DATA_FORT\\Lib\\site-packages\\ydata_profiling\\model\\correlations.py:66: UserWarning: There was an attempt to calculate the auto correlation, but this failed.\n",
      "To hide this warning, disable the calculation\n",
      "(using `df.profile_report(correlations={\"auto\": {\"calculate\": False}})`\n",
      "If this is problematic for your use case, please report this as an issue:\n",
      "https://github.com/ydataai/ydata-profiling/issues\n",
      "(include the error message: 'could not convert string to float: 'Spring'')\n",
      "  warnings.warn(\n",
      "Summarize dataset: 100%|██████████| 130/130 [00:14<00:00,  8.75it/s, Completed]                                      \n",
      "Generate report structure: 100%|██████████| 1/1 [00:06<00:00,  6.97s/it]\n",
      "Render HTML: 100%|██████████| 1/1 [00:01<00:00,  1.92s/it]\n",
      "Export report to file: 100%|██████████| 1/1 [00:00<00:00, 124.87it/s]\n"
     ]
    },
    {
     "name": "stdout",
     "output_type": "stream",
     "text": [
      "10053_done\n"
     ]
    },
    {
     "name": "stderr",
     "output_type": "stream",
     "text": [
      "c:\\Users\\Krishna\\.conda\\envs\\DATA_FORT\\Lib\\site-packages\\ydata_profiling\\utils\\dataframe.py:137: SettingWithCopyWarning: \n",
      "A value is trying to be set on a copy of a slice from a DataFrame\n",
      "\n",
      "See the caveats in the documentation: https://pandas.pydata.org/pandas-docs/stable/user_guide/indexing.html#returning-a-view-versus-a-copy\n",
      "  df.rename(columns={\"index\": \"df_index\"}, inplace=True)\n",
      "Summarize dataset:  81%|████████▏ | 22/27 [00:00<00:00, 57.91it/s, Calculate auto correlation]          c:\\Users\\Krishna\\.conda\\envs\\DATA_FORT\\Lib\\site-packages\\ydata_profiling\\model\\pandas\\discretize_pandas.py:52: FutureWarning: Setting an item of incompatible dtype is deprecated and will raise in a future error of pandas. Value '[0 0 0 0 0 0 0 0 0 0 0 0 0 0 0 0 0 0 2 2 2 2 2 2 2 2 2 2 2 2 2 2 2 2 2 2 4\n",
      " 4 4 4 4 7 7 7 7 7 7 7 7 7 7 7 7 7 7 7 7 7 7 7 7 7 7 7 7 9 9 9 9 9 9]' has dtype incompatible with int32, please explicitly cast to a compatible dtype first.\n",
      "  discretized_df.loc[:, column] = self._discretize_column(\n",
      "c:\\Users\\Krishna\\.conda\\envs\\DATA_FORT\\Lib\\site-packages\\ydata_profiling\\model\\pandas\\discretize_pandas.py:52: FutureWarning: Setting an item of incompatible dtype is deprecated and will raise in a future error of pandas. Value '[2 2 3 3 4 4 5 5 6 6 7 7 8 8 9 9 9 9 0 0 0 0 1 1 2 2 3 3 4 4 5 5 6 6 7 7 8\n",
      " 9 9 9 9 0 0 0 0 1 1 2 2 3 3 4 4 5 5 6 6 7 7 8 8 9 9 9 9 0 0 0 0 1 1]' has dtype incompatible with int32, please explicitly cast to a compatible dtype first.\n",
      "  discretized_df.loc[:, column] = self._discretize_column(\n",
      "c:\\Users\\Krishna\\.conda\\envs\\DATA_FORT\\Lib\\site-packages\\ydata_profiling\\model\\pandas\\discretize_pandas.py:52: FutureWarning: Setting an item of incompatible dtype is deprecated and will raise in a future error of pandas. Value '[0 9 0 9 0 9 0 9 0 9 0 9 0 9 0 9 0 9 0 9 0 8 0 9 0 9 0 9 0 9 0 9 0 9 0 9 0\n",
      " 0 9 0 9 0 9 0 8 0 9 0 9 0 9 0 9 0 9 0 9 0 9 0 9 0 9 0 9 0 9 0 8 0 9]' has dtype incompatible with int32, please explicitly cast to a compatible dtype first.\n",
      "  discretized_df.loc[:, column] = self._discretize_column(\n",
      "c:\\Users\\Krishna\\.conda\\envs\\DATA_FORT\\Lib\\site-packages\\ydata_profiling\\model\\pandas\\discretize_pandas.py:52: FutureWarning: Setting an item of incompatible dtype is deprecated and will raise in a future error of pandas. Value '[0 1 3 6 8 9 0 3 4 8 9 0 1 4 6 8 9 1 3 6 8 8 9 1 3 4 6 9 0 1 3 6 8 0 1 3 6\n",
      " 0 1 3 6 8 0 1 0 1 4 6 8 9 1 3 4 6 9 0 3 4 6 8 0 1 3 4 8 9 1 3 1 3 6]' has dtype incompatible with int32, please explicitly cast to a compatible dtype first.\n",
      "  discretized_df.loc[:, column] = self._discretize_column(\n",
      "c:\\Users\\Krishna\\.conda\\envs\\DATA_FORT\\Lib\\site-packages\\ydata_profiling\\model\\pandas\\discretize_pandas.py:52: FutureWarning: Setting an item of incompatible dtype is deprecated and will raise in a future error of pandas. Value '[3 3 3 3 3 3 6 6 6 6 6 6 9 9 9 9 9 9 0 0 0 0 0 0 3 3 3 3 3 3 6 6 6 6 6 6 9\n",
      " 9 9 9 9 0 0 0 0 0 0 3 3 3 3 3 3 6 6 6 6 6 6 9 9 9 9 9 9 0 0 0 0 0 0]' has dtype incompatible with int32, please explicitly cast to a compatible dtype first.\n",
      "  discretized_df.loc[:, column] = self._discretize_column(\n",
      "c:\\Users\\Krishna\\.conda\\envs\\DATA_FORT\\Lib\\site-packages\\ydata_profiling\\model\\pandas\\discretize_pandas.py:52: FutureWarning: Setting an item of incompatible dtype is deprecated and will raise in a future error of pandas. Value '[2 2 3 3 4 4 5 5 6 6 6 7 7 8 8 9 9 9 0 0 0 1 1 2 2 3 3 3 4 4 5 5 6 6 6 7 7\n",
      " 8 9 9 9 0 0 0 1 1 2 2 2 3 3 4 4 5 5 6 6 6 7 7 8 8 9 9 9 0 0 0 1 1 2]' has dtype incompatible with int32, please explicitly cast to a compatible dtype first.\n",
      "  discretized_df.loc[:, column] = self._discretize_column(\n",
      "c:\\Users\\Krishna\\.conda\\envs\\DATA_FORT\\Lib\\site-packages\\ydata_profiling\\model\\correlations.py:66: UserWarning: There was an attempt to calculate the auto correlation, but this failed.\n",
      "To hide this warning, disable the calculation\n",
      "(using `df.profile_report(correlations={\"auto\": {\"calculate\": False}})`\n",
      "If this is problematic for your use case, please report this as an issue:\n",
      "https://github.com/ydataai/ydata-profiling/issues\n",
      "(include the error message: 'could not convert string to float: 'Spring'')\n",
      "  warnings.warn(\n",
      "Summarize dataset: 100%|██████████| 130/130 [00:13<00:00,  9.29it/s, Completed]                                      \n",
      "Generate report structure: 100%|██████████| 1/1 [00:06<00:00,  6.89s/it]\n",
      "Render HTML: 100%|██████████| 1/1 [00:01<00:00,  1.68s/it]\n",
      "Export report to file: 100%|██████████| 1/1 [00:00<00:00, 108.36it/s]\n"
     ]
    },
    {
     "name": "stdout",
     "output_type": "stream",
     "text": [
      "10054_done\n"
     ]
    },
    {
     "name": "stderr",
     "output_type": "stream",
     "text": [
      "c:\\Users\\Krishna\\.conda\\envs\\DATA_FORT\\Lib\\site-packages\\ydata_profiling\\utils\\dataframe.py:137: SettingWithCopyWarning: \n",
      "A value is trying to be set on a copy of a slice from a DataFrame\n",
      "\n",
      "See the caveats in the documentation: https://pandas.pydata.org/pandas-docs/stable/user_guide/indexing.html#returning-a-view-versus-a-copy\n",
      "  df.rename(columns={\"index\": \"df_index\"}, inplace=True)\n",
      "Summarize dataset:  81%|████████▏ | 22/27 [00:00<00:00, 63.61it/s, Calculate auto correlation]          c:\\Users\\Krishna\\.conda\\envs\\DATA_FORT\\Lib\\site-packages\\ydata_profiling\\model\\pandas\\discretize_pandas.py:52: FutureWarning: Setting an item of incompatible dtype is deprecated and will raise in a future error of pandas. Value '[0 0 0 0 0 0 0 0 0 0 0 0 0 0 0 0 0 0 2 2 2 2 2 2 2 2 2 2 2 2 2 2 2 2 4 4 4\n",
      " 4 4 4 7 7 7 7 7 7 7 7 7 7 7 7 7 7 7 7 7 7 7 7 7 7 7 7 9 9 9 9 9 9]' has dtype incompatible with int32, please explicitly cast to a compatible dtype first.\n",
      "  discretized_df.loc[:, column] = self._discretize_column(\n",
      "c:\\Users\\Krishna\\.conda\\envs\\DATA_FORT\\Lib\\site-packages\\ydata_profiling\\model\\pandas\\discretize_pandas.py:52: FutureWarning: Setting an item of incompatible dtype is deprecated and will raise in a future error of pandas. Value '[2 2 3 3 4 4 5 5 6 6 7 7 8 8 9 9 9 9 0 0 0 0 1 1 3 3 4 4 5 5 6 6 7 7 8 8 9\n",
      " 9 9 9 0 0 0 0 1 1 2 2 3 3 4 4 5 5 6 6 7 7 8 8 9 9 9 9 0 0 0 0 1 1]' has dtype incompatible with int32, please explicitly cast to a compatible dtype first.\n",
      "  discretized_df.loc[:, column] = self._discretize_column(\n",
      "c:\\Users\\Krishna\\.conda\\envs\\DATA_FORT\\Lib\\site-packages\\ydata_profiling\\model\\pandas\\discretize_pandas.py:52: FutureWarning: Setting an item of incompatible dtype is deprecated and will raise in a future error of pandas. Value '[0 9 0 9 0 9 0 9 0 9 0 9 0 9 0 9 0 9 0 9 0 8 0 9 0 9 0 9 0 9 0 9 0 9 0 9 0\n",
      " 9 0 9 0 9 0 8 0 9 0 9 0 9 0 9 0 9 0 9 0 9 0 9 0 9 0 9 0 9 0 8 0 9]' has dtype incompatible with int32, please explicitly cast to a compatible dtype first.\n",
      "  discretized_df.loc[:, column] = self._discretize_column(\n",
      "c:\\Users\\Krishna\\.conda\\envs\\DATA_FORT\\Lib\\site-packages\\ydata_profiling\\model\\pandas\\discretize_pandas.py:52: FutureWarning: Setting an item of incompatible dtype is deprecated and will raise in a future error of pandas. Value '[0 1 3 6 8 9 0 3 4 8 9 0 1 4 6 8 9 1 3 6 8 8 9 1 6 9 0 1 3 6 8 0 1 3 6 9 0\n",
      " 1 3 6 8 0 1 0 1 4 6 8 9 1 3 4 6 9 0 3 4 6 8 0 1 3 4 8 9 1 3 1 3 6]' has dtype incompatible with int32, please explicitly cast to a compatible dtype first.\n",
      "  discretized_df.loc[:, column] = self._discretize_column(\n",
      "c:\\Users\\Krishna\\.conda\\envs\\DATA_FORT\\Lib\\site-packages\\ydata_profiling\\model\\pandas\\discretize_pandas.py:52: FutureWarning: Setting an item of incompatible dtype is deprecated and will raise in a future error of pandas. Value '[3 3 3 3 3 3 6 6 6 6 6 6 9 9 9 9 9 9 0 0 0 0 0 0 3 3 3 3 6 6 6 6 6 6 9 9 9\n",
      " 9 9 9 0 0 0 0 0 0 3 3 3 3 3 3 6 6 6 6 6 6 9 9 9 9 9 9 0 0 0 0 0 0]' has dtype incompatible with int32, please explicitly cast to a compatible dtype first.\n",
      "  discretized_df.loc[:, column] = self._discretize_column(\n",
      "c:\\Users\\Krishna\\.conda\\envs\\DATA_FORT\\Lib\\site-packages\\ydata_profiling\\model\\pandas\\discretize_pandas.py:52: FutureWarning: Setting an item of incompatible dtype is deprecated and will raise in a future error of pandas. Value '[2 2 3 3 4 4 5 5 6 6 6 7 7 8 8 9 9 9 0 0 0 1 1 2 3 3 4 4 5 5 6 6 6 7 7 8 8\n",
      " 9 9 9 0 0 0 1 1 2 2 2 3 3 4 4 5 5 6 6 6 7 7 8 8 9 9 9 0 0 0 1 1 2]' has dtype incompatible with int32, please explicitly cast to a compatible dtype first.\n",
      "  discretized_df.loc[:, column] = self._discretize_column(\n",
      "c:\\Users\\Krishna\\.conda\\envs\\DATA_FORT\\Lib\\site-packages\\ydata_profiling\\model\\correlations.py:66: UserWarning: There was an attempt to calculate the auto correlation, but this failed.\n",
      "To hide this warning, disable the calculation\n",
      "(using `df.profile_report(correlations={\"auto\": {\"calculate\": False}})`\n",
      "If this is problematic for your use case, please report this as an issue:\n",
      "https://github.com/ydataai/ydata-profiling/issues\n",
      "(include the error message: 'could not convert string to float: 'Rajahmundry, Andhra Pradesh'')\n",
      "  warnings.warn(\n",
      "Summarize dataset: 100%|██████████| 151/151 [00:17<00:00,  8.85it/s, Completed]                                      \n",
      "Generate report structure: 100%|██████████| 1/1 [00:07<00:00,  7.58s/it]\n",
      "Render HTML: 100%|██████████| 1/1 [00:01<00:00,  1.98s/it]\n",
      "Export report to file: 100%|██████████| 1/1 [00:00<00:00, 90.97it/s]\n"
     ]
    },
    {
     "name": "stdout",
     "output_type": "stream",
     "text": [
      "10114_done\n"
     ]
    },
    {
     "name": "stderr",
     "output_type": "stream",
     "text": [
      "c:\\Users\\Krishna\\.conda\\envs\\DATA_FORT\\Lib\\site-packages\\ydata_profiling\\utils\\dataframe.py:137: SettingWithCopyWarning: \n",
      "A value is trying to be set on a copy of a slice from a DataFrame\n",
      "\n",
      "See the caveats in the documentation: https://pandas.pydata.org/pandas-docs/stable/user_guide/indexing.html#returning-a-view-versus-a-copy\n",
      "  df.rename(columns={\"index\": \"df_index\"}, inplace=True)\n",
      "Summarize dataset:  81%|████████▏ | 22/27 [00:00<00:00, 80.70it/s, Calculate auto correlation]          c:\\Users\\Krishna\\.conda\\envs\\DATA_FORT\\Lib\\site-packages\\ydata_profiling\\model\\pandas\\discretize_pandas.py:52: FutureWarning: Setting an item of incompatible dtype is deprecated and will raise in a future error of pandas. Value '[0 0 0 0 0 0 0 0 0 0 0 0 0 0 0 0 0 0 0 0 0 0 2 2 2 2 2 2 2 2 2 2 2 2 2 2 2\n",
      " 2 2 2 4 4 4 4 4 4 7 7 7 7 7 7 7 7 7 7 7 7 7 7 7 7 7 7 7 7 7 7 7 7 9 9 9 9\n",
      " 9 9]' has dtype incompatible with int32, please explicitly cast to a compatible dtype first.\n",
      "  discretized_df.loc[:, column] = self._discretize_column(\n",
      "c:\\Users\\Krishna\\.conda\\envs\\DATA_FORT\\Lib\\site-packages\\ydata_profiling\\model\\pandas\\discretize_pandas.py:52: FutureWarning: Setting an item of incompatible dtype is deprecated and will raise in a future error of pandas. Value '[2 2 3 3 4 4 4 5 5 5 5 6 6 6 7 7 8 8 9 9 9 9 0 0 0 0 1 1 2 2 3 3 4 4 5 5 6\n",
      " 6 7 7 8 8 9 9 9 9 0 0 0 0 1 1 2 2 3 3 4 4 5 5 6 6 7 7 8 8 9 9 9 9 0 0 0 0\n",
      " 1 1]' has dtype incompatible with int32, please explicitly cast to a compatible dtype first.\n",
      "  discretized_df.loc[:, column] = self._discretize_column(\n",
      "c:\\Users\\Krishna\\.conda\\envs\\DATA_FORT\\Lib\\site-packages\\ydata_profiling\\model\\pandas\\discretize_pandas.py:52: FutureWarning: Setting an item of incompatible dtype is deprecated and will raise in a future error of pandas. Value '[3 9 3 9 3 5 9 0 3 9 9 3 3 9 3 9 3 9 3 9 3 9 3 9 3 9 3 9 3 9 3 9 3 9 3 9 3\n",
      " 9 3 9 3 9 3 9 3 9 3 9 3 8 3 9 3 9 3 9 3 9 3 9 3 9 3 9 3 9 3 9 3 9 3 9 3 8\n",
      " 3 9]' has dtype incompatible with int32, please explicitly cast to a compatible dtype first.\n",
      "  discretized_df.loc[:, column] = self._discretize_column(\n",
      "c:\\Users\\Krishna\\.conda\\envs\\DATA_FORT\\Lib\\site-packages\\ydata_profiling\\model\\pandas\\discretize_pandas.py:52: FutureWarning: Setting an item of incompatible dtype is deprecated and will raise in a future error of pandas. Value '[0 1 3 6 8 4 9 6 0 0 3 1 4 8 9 0 1 4 6 8 9 1 3 6 8 8 9 1 3 4 6 9 0 1 3 6 8\n",
      " 0 1 3 6 9 0 1 3 6 8 0 1 0 1 4 6 8 9 1 3 4 6 9 0 3 4 6 8 0 1 3 4 8 9 1 3 1\n",
      " 3 6]' has dtype incompatible with int32, please explicitly cast to a compatible dtype first.\n",
      "  discretized_df.loc[:, column] = self._discretize_column(\n",
      "c:\\Users\\Krishna\\.conda\\envs\\DATA_FORT\\Lib\\site-packages\\ydata_profiling\\model\\pandas\\discretize_pandas.py:52: FutureWarning: Setting an item of incompatible dtype is deprecated and will raise in a future error of pandas. Value '[3 3 3 3 3 3 3 6 6 6 6 6 6 6 6 6 9 9 9 9 9 9 0 0 0 0 0 0 3 3 3 3 3 3 6 6 6\n",
      " 6 6 6 9 9 9 9 9 9 0 0 0 0 0 0 3 3 3 3 3 3 6 6 6 6 6 6 9 9 9 9 9 9 0 0 0 0\n",
      " 0 0]' has dtype incompatible with int32, please explicitly cast to a compatible dtype first.\n",
      "  discretized_df.loc[:, column] = self._discretize_column(\n",
      "c:\\Users\\Krishna\\.conda\\envs\\DATA_FORT\\Lib\\site-packages\\ydata_profiling\\model\\pandas\\discretize_pandas.py:52: FutureWarning: Setting an item of incompatible dtype is deprecated and will raise in a future error of pandas. Value '[2 2 3 3 4 4 4 4 5 5 5 5 6 6 6 7 7 8 8 9 9 9 0 0 0 1 1 2 2 3 3 3 4 4 5 5 6\n",
      " 6 6 7 7 8 8 9 9 9 0 0 0 1 1 2 2 2 3 3 4 4 5 5 6 6 6 7 7 8 8 9 9 9 0 0 0 1\n",
      " 1 2]' has dtype incompatible with int32, please explicitly cast to a compatible dtype first.\n",
      "  discretized_df.loc[:, column] = self._discretize_column(\n",
      "c:\\Users\\Krishna\\.conda\\envs\\DATA_FORT\\Lib\\site-packages\\ydata_profiling\\model\\correlations.py:66: UserWarning: There was an attempt to calculate the auto correlation, but this failed.\n",
      "To hide this warning, disable the calculation\n",
      "(using `df.profile_report(correlations={\"auto\": {\"calculate\": False}})`\n",
      "If this is problematic for your use case, please report this as an issue:\n",
      "https://github.com/ydataai/ydata-profiling/issues\n",
      "(include the error message: 'could not convert string to float: 'Spring'')\n",
      "  warnings.warn(\n",
      "Summarize dataset: 100%|██████████| 151/151 [00:17<00:00,  8.64it/s, Completed]                                      \n",
      "Generate report structure: 100%|██████████| 1/1 [00:06<00:00,  6.89s/it]\n",
      "Render HTML: 100%|██████████| 1/1 [00:01<00:00,  1.98s/it]\n",
      "Export report to file: 100%|██████████| 1/1 [00:00<00:00, 76.81it/s]\n"
     ]
    },
    {
     "name": "stdout",
     "output_type": "stream",
     "text": [
      "10150_done\n"
     ]
    },
    {
     "name": "stderr",
     "output_type": "stream",
     "text": [
      "c:\\Users\\Krishna\\.conda\\envs\\DATA_FORT\\Lib\\site-packages\\ydata_profiling\\utils\\dataframe.py:137: SettingWithCopyWarning: \n",
      "A value is trying to be set on a copy of a slice from a DataFrame\n",
      "\n",
      "See the caveats in the documentation: https://pandas.pydata.org/pandas-docs/stable/user_guide/indexing.html#returning-a-view-versus-a-copy\n",
      "  df.rename(columns={\"index\": \"df_index\"}, inplace=True)\n",
      "Summarize dataset:  81%|████████▏ | 22/27 [00:00<00:00, 49.17it/s, Calculate auto correlation]          c:\\Users\\Krishna\\.conda\\envs\\DATA_FORT\\Lib\\site-packages\\ydata_profiling\\model\\pandas\\discretize_pandas.py:52: FutureWarning: Setting an item of incompatible dtype is deprecated and will raise in a future error of pandas. Value '[0 0 0 0 0 0 0 0 0 0 0 0 0 0 0 0 0 0 0 0 0 0 2 2 2 2 2 2 2 2 2 2 2 2 2 2 2\n",
      " 2 2 2 4 4 4 4 4 4 7 7 7 7 7 7 7 7 7 7 7 7 7 7 7 7 7 7 7 7 7 7 7 7 9 9 9 9\n",
      " 9 9]' has dtype incompatible with int32, please explicitly cast to a compatible dtype first.\n",
      "  discretized_df.loc[:, column] = self._discretize_column(\n",
      "c:\\Users\\Krishna\\.conda\\envs\\DATA_FORT\\Lib\\site-packages\\ydata_profiling\\model\\pandas\\discretize_pandas.py:52: FutureWarning: Setting an item of incompatible dtype is deprecated and will raise in a future error of pandas. Value '[2 2 3 3 4 4 4 5 5 5 5 6 6 6 7 7 8 8 9 9 9 9 0 0 0 0 1 1 2 2 3 3 4 4 5 5 6\n",
      " 6 7 7 8 8 9 9 9 9 0 0 0 0 1 1 2 2 3 3 4 4 5 5 6 6 7 7 8 8 9 9 9 9 0 0 0 0\n",
      " 1 1]' has dtype incompatible with int32, please explicitly cast to a compatible dtype first.\n",
      "  discretized_df.loc[:, column] = self._discretize_column(\n",
      "c:\\Users\\Krishna\\.conda\\envs\\DATA_FORT\\Lib\\site-packages\\ydata_profiling\\model\\pandas\\discretize_pandas.py:52: FutureWarning: Setting an item of incompatible dtype is deprecated and will raise in a future error of pandas. Value '[3 9 3 9 3 5 9 0 3 9 9 3 3 9 3 9 3 9 3 9 3 9 3 9 3 9 3 9 3 9 3 9 3 9 3 9 3\n",
      " 9 3 9 3 9 3 9 3 9 3 9 3 8 3 9 3 9 3 9 3 9 3 9 3 9 3 9 3 9 3 9 3 9 3 9 3 8\n",
      " 3 9]' has dtype incompatible with int32, please explicitly cast to a compatible dtype first.\n",
      "  discretized_df.loc[:, column] = self._discretize_column(\n",
      "c:\\Users\\Krishna\\.conda\\envs\\DATA_FORT\\Lib\\site-packages\\ydata_profiling\\model\\pandas\\discretize_pandas.py:52: FutureWarning: Setting an item of incompatible dtype is deprecated and will raise in a future error of pandas. Value '[0 1 3 6 8 4 9 6 0 0 3 1 4 8 9 0 1 4 6 8 9 1 3 6 8 8 9 1 3 4 6 9 0 1 3 6 8\n",
      " 0 1 3 6 9 0 1 3 6 8 0 1 0 1 4 6 8 9 1 3 4 6 9 0 3 4 6 8 0 1 3 4 8 9 1 3 1\n",
      " 3 6]' has dtype incompatible with int32, please explicitly cast to a compatible dtype first.\n",
      "  discretized_df.loc[:, column] = self._discretize_column(\n",
      "c:\\Users\\Krishna\\.conda\\envs\\DATA_FORT\\Lib\\site-packages\\ydata_profiling\\model\\pandas\\discretize_pandas.py:52: FutureWarning: Setting an item of incompatible dtype is deprecated and will raise in a future error of pandas. Value '[3 3 3 3 3 3 3 6 6 6 6 6 6 6 6 6 9 9 9 9 9 9 0 0 0 0 0 0 3 3 3 3 3 3 6 6 6\n",
      " 6 6 6 9 9 9 9 9 9 0 0 0 0 0 0 3 3 3 3 3 3 6 6 6 6 6 6 9 9 9 9 9 9 0 0 0 0\n",
      " 0 0]' has dtype incompatible with int32, please explicitly cast to a compatible dtype first.\n",
      "  discretized_df.loc[:, column] = self._discretize_column(\n",
      "c:\\Users\\Krishna\\.conda\\envs\\DATA_FORT\\Lib\\site-packages\\ydata_profiling\\model\\pandas\\discretize_pandas.py:52: FutureWarning: Setting an item of incompatible dtype is deprecated and will raise in a future error of pandas. Value '[2 2 3 3 4 4 4 4 5 5 5 5 6 6 6 7 7 8 8 9 9 9 0 0 0 1 1 2 2 3 3 3 4 4 5 5 6\n",
      " 6 6 7 7 8 8 9 9 9 0 0 0 1 1 2 2 2 3 3 4 4 5 5 6 6 6 7 7 8 8 9 9 9 0 0 0 1\n",
      " 1 2]' has dtype incompatible with int32, please explicitly cast to a compatible dtype first.\n",
      "  discretized_df.loc[:, column] = self._discretize_column(\n",
      "c:\\Users\\Krishna\\.conda\\envs\\DATA_FORT\\Lib\\site-packages\\ydata_profiling\\model\\correlations.py:66: UserWarning: There was an attempt to calculate the auto correlation, but this failed.\n",
      "To hide this warning, disable the calculation\n",
      "(using `df.profile_report(correlations={\"auto\": {\"calculate\": False}})`\n",
      "If this is problematic for your use case, please report this as an issue:\n",
      "https://github.com/ydataai/ydata-profiling/issues\n",
      "(include the error message: 'could not convert string to float: 'Spring'')\n",
      "  warnings.warn(\n",
      "Summarize dataset: 100%|██████████| 151/151 [00:19<00:00,  7.91it/s, Completed]                                      \n",
      "Generate report structure: 100%|██████████| 1/1 [00:07<00:00,  7.82s/it]\n",
      "Render HTML: 100%|██████████| 1/1 [00:02<00:00,  2.10s/it]\n",
      "Export report to file: 100%|██████████| 1/1 [00:00<00:00, 78.51it/s]\n"
     ]
    },
    {
     "name": "stdout",
     "output_type": "stream",
     "text": [
      "10151_done\n"
     ]
    },
    {
     "name": "stderr",
     "output_type": "stream",
     "text": [
      "c:\\Users\\Krishna\\.conda\\envs\\DATA_FORT\\Lib\\site-packages\\ydata_profiling\\utils\\dataframe.py:137: SettingWithCopyWarning: \n",
      "A value is trying to be set on a copy of a slice from a DataFrame\n",
      "\n",
      "See the caveats in the documentation: https://pandas.pydata.org/pandas-docs/stable/user_guide/indexing.html#returning-a-view-versus-a-copy\n",
      "  df.rename(columns={\"index\": \"df_index\"}, inplace=True)\n",
      "Summarize dataset:  81%|████████▏ | 22/27 [00:00<00:00, 87.44it/s, Calculate auto correlation]          c:\\Users\\Krishna\\.conda\\envs\\DATA_FORT\\Lib\\site-packages\\ydata_profiling\\model\\pandas\\discretize_pandas.py:52: FutureWarning: Setting an item of incompatible dtype is deprecated and will raise in a future error of pandas. Value '[0 0 0 0 0 0 0 0 0 0 0 0 0 4 4 4 4 4 4 4 4 4 4 4 4 4 4 4 4 4 4 9]' has dtype incompatible with int32, please explicitly cast to a compatible dtype first.\n",
      "  discretized_df.loc[:, column] = self._discretize_column(\n",
      "c:\\Users\\Krishna\\.conda\\envs\\DATA_FORT\\Lib\\site-packages\\ydata_profiling\\model\\pandas\\discretize_pandas.py:52: FutureWarning: Setting an item of incompatible dtype is deprecated and will raise in a future error of pandas. Value '[2 3 3 4 4 7 7 8 8 9 9 9 9 0 0 0 0 1 1 2 2 3 3 4 4 5 5 6 6 7 7 8]' has dtype incompatible with int32, please explicitly cast to a compatible dtype first.\n",
      "  discretized_df.loc[:, column] = self._discretize_column(\n",
      "c:\\Users\\Krishna\\.conda\\envs\\DATA_FORT\\Lib\\site-packages\\ydata_profiling\\model\\pandas\\discretize_pandas.py:52: FutureWarning: Setting an item of incompatible dtype is deprecated and will raise in a future error of pandas. Value '[0 0 9 0 9 0 9 0 9 0 9 0 9 0 9 0 8 0 9 0 9 0 9 0 9 0 9 0 9 0 9 0]' has dtype incompatible with int32, please explicitly cast to a compatible dtype first.\n",
      "  discretized_df.loc[:, column] = self._discretize_column(\n",
      "c:\\Users\\Krishna\\.conda\\envs\\DATA_FORT\\Lib\\site-packages\\ydata_profiling\\model\\pandas\\discretize_pandas.py:52: FutureWarning: Setting an item of incompatible dtype is deprecated and will raise in a future error of pandas. Value '[0 3 6 8 9 9 0 1 4 6 8 9 1 3 6 8 8 9 1 3 4 6 9 0 1 3 6 8 0 1 3 6]' has dtype incompatible with int32, please explicitly cast to a compatible dtype first.\n",
      "  discretized_df.loc[:, column] = self._discretize_column(\n",
      "c:\\Users\\Krishna\\.conda\\envs\\DATA_FORT\\Lib\\site-packages\\ydata_profiling\\model\\pandas\\discretize_pandas.py:52: FutureWarning: Setting an item of incompatible dtype is deprecated and will raise in a future error of pandas. Value '[3 3 3 3 3 6 6 9 9 9 9 9 9 0 0 0 0 0 0 3 3 3 3 3 3 6 6 6 6 6 6 9]' has dtype incompatible with int32, please explicitly cast to a compatible dtype first.\n",
      "  discretized_df.loc[:, column] = self._discretize_column(\n",
      "c:\\Users\\Krishna\\.conda\\envs\\DATA_FORT\\Lib\\site-packages\\ydata_profiling\\model\\pandas\\discretize_pandas.py:52: FutureWarning: Setting an item of incompatible dtype is deprecated and will raise in a future error of pandas. Value '[2 3 3 4 4 6 7 7 8 8 9 9 9 0 0 0 1 1 2 2 3 3 3 4 4 5 5 6 6 6 7 7]' has dtype incompatible with int32, please explicitly cast to a compatible dtype first.\n",
      "  discretized_df.loc[:, column] = self._discretize_column(\n",
      "c:\\Users\\Krishna\\.conda\\envs\\DATA_FORT\\Lib\\site-packages\\ydata_profiling\\model\\correlations.py:66: UserWarning: There was an attempt to calculate the auto correlation, but this failed.\n",
      "To hide this warning, disable the calculation\n",
      "(using `df.profile_report(correlations={\"auto\": {\"calculate\": False}})`\n",
      "If this is problematic for your use case, please report this as an issue:\n",
      "https://github.com/ydataai/ydata-profiling/issues\n",
      "(include the error message: 'could not convert string to float: 'Spring'')\n",
      "  warnings.warn(\n",
      "Summarize dataset: 100%|██████████| 151/151 [00:19<00:00,  7.87it/s, Completed]                                      \n",
      "Generate report structure: 100%|██████████| 1/1 [00:06<00:00,  6.52s/it]\n",
      "Render HTML: 100%|██████████| 1/1 [00:01<00:00,  1.55s/it]\n",
      "Export report to file: 100%|██████████| 1/1 [00:00<00:00, 110.95it/s]\n"
     ]
    },
    {
     "name": "stdout",
     "output_type": "stream",
     "text": [
      "10177_done\n"
     ]
    },
    {
     "name": "stderr",
     "output_type": "stream",
     "text": [
      "c:\\Users\\Krishna\\.conda\\envs\\DATA_FORT\\Lib\\site-packages\\ydata_profiling\\utils\\dataframe.py:137: SettingWithCopyWarning: \n",
      "A value is trying to be set on a copy of a slice from a DataFrame\n",
      "\n",
      "See the caveats in the documentation: https://pandas.pydata.org/pandas-docs/stable/user_guide/indexing.html#returning-a-view-versus-a-copy\n",
      "  df.rename(columns={\"index\": \"df_index\"}, inplace=True)\n",
      "Summarize dataset:  81%|████████▏ | 22/27 [00:00<00:00, 61.55it/s, Calculate auto correlation]          c:\\Users\\Krishna\\.conda\\envs\\DATA_FORT\\Lib\\site-packages\\ydata_profiling\\model\\pandas\\discretize_pandas.py:52: FutureWarning: Setting an item of incompatible dtype is deprecated and will raise in a future error of pandas. Value '[0 0 0 0 0 0 0 0 0 0 0 0 0 0 0 0 0 0 4 4 4 4 4 4 4 4 4 4 4 4 4 4 4 4 4 4 9\n",
      " 9 9]' has dtype incompatible with int32, please explicitly cast to a compatible dtype first.\n",
      "  discretized_df.loc[:, column] = self._discretize_column(\n",
      "c:\\Users\\Krishna\\.conda\\envs\\DATA_FORT\\Lib\\site-packages\\ydata_profiling\\model\\pandas\\discretize_pandas.py:52: FutureWarning: Setting an item of incompatible dtype is deprecated and will raise in a future error of pandas. Value '[2 2 3 3 4 4 5 5 6 6 7 7 8 8 9 9 9 9 0 0 0 0 1 1 2 2 3 3 4 4 5 5 6 6 7 7 8\n",
      " 8 9]' has dtype incompatible with int32, please explicitly cast to a compatible dtype first.\n",
      "  discretized_df.loc[:, column] = self._discretize_column(\n",
      "c:\\Users\\Krishna\\.conda\\envs\\DATA_FORT\\Lib\\site-packages\\ydata_profiling\\model\\pandas\\discretize_pandas.py:52: FutureWarning: Setting an item of incompatible dtype is deprecated and will raise in a future error of pandas. Value '[0 9 0 9 0 9 0 9 0 9 0 9 0 9 0 9 0 9 0 9 0 8 0 9 0 9 0 9 0 9 0 9 0 9 0 9 0\n",
      " 9 9]' has dtype incompatible with int32, please explicitly cast to a compatible dtype first.\n",
      "  discretized_df.loc[:, column] = self._discretize_column(\n",
      "c:\\Users\\Krishna\\.conda\\envs\\DATA_FORT\\Lib\\site-packages\\ydata_profiling\\model\\pandas\\discretize_pandas.py:52: FutureWarning: Setting an item of incompatible dtype is deprecated and will raise in a future error of pandas. Value '[0 1 3 6 8 9 0 3 4 8 9 0 1 4 6 8 9 1 3 6 8 8 9 1 3 4 6 9 0 1 3 6 8 0 1 3 6\n",
      " 9 6]' has dtype incompatible with int32, please explicitly cast to a compatible dtype first.\n",
      "  discretized_df.loc[:, column] = self._discretize_column(\n",
      "c:\\Users\\Krishna\\.conda\\envs\\DATA_FORT\\Lib\\site-packages\\ydata_profiling\\model\\pandas\\discretize_pandas.py:52: FutureWarning: Setting an item of incompatible dtype is deprecated and will raise in a future error of pandas. Value '[3 3 3 3 3 3 6 6 6 6 6 6 9 9 9 9 9 9 0 0 0 0 0 0 3 3 3 3 3 3 6 6 6 6 6 6 9\n",
      " 9 9]' has dtype incompatible with int32, please explicitly cast to a compatible dtype first.\n",
      "  discretized_df.loc[:, column] = self._discretize_column(\n",
      "c:\\Users\\Krishna\\.conda\\envs\\DATA_FORT\\Lib\\site-packages\\ydata_profiling\\model\\pandas\\discretize_pandas.py:52: FutureWarning: Setting an item of incompatible dtype is deprecated and will raise in a future error of pandas. Value '[2 2 3 3 4 4 5 5 6 6 6 7 7 8 8 9 9 9 0 0 0 1 1 2 2 3 3 3 4 4 5 5 6 6 6 7 7\n",
      " 8 9]' has dtype incompatible with int32, please explicitly cast to a compatible dtype first.\n",
      "  discretized_df.loc[:, column] = self._discretize_column(\n",
      "c:\\Users\\Krishna\\.conda\\envs\\DATA_FORT\\Lib\\site-packages\\ydata_profiling\\model\\correlations.py:66: UserWarning: There was an attempt to calculate the auto correlation, but this failed.\n",
      "To hide this warning, disable the calculation\n",
      "(using `df.profile_report(correlations={\"auto\": {\"calculate\": False}})`\n",
      "If this is problematic for your use case, please report this as an issue:\n",
      "https://github.com/ydataai/ydata-profiling/issues\n",
      "(include the error message: 'could not convert string to float: 'Spring'')\n",
      "  warnings.warn(\n",
      "Summarize dataset: 100%|██████████| 130/130 [00:13<00:00,  9.59it/s, Completed]                                      \n",
      "Generate report structure: 100%|██████████| 1/1 [00:06<00:00,  6.25s/it]\n",
      "Render HTML: 100%|██████████| 1/1 [00:01<00:00,  1.42s/it]\n",
      "Export report to file: 100%|██████████| 1/1 [00:00<00:00, 119.80it/s]\n"
     ]
    },
    {
     "name": "stdout",
     "output_type": "stream",
     "text": [
      "10192_done\n"
     ]
    },
    {
     "name": "stderr",
     "output_type": "stream",
     "text": [
      "c:\\Users\\Krishna\\.conda\\envs\\DATA_FORT\\Lib\\site-packages\\ydata_profiling\\utils\\dataframe.py:137: SettingWithCopyWarning: \n",
      "A value is trying to be set on a copy of a slice from a DataFrame\n",
      "\n",
      "See the caveats in the documentation: https://pandas.pydata.org/pandas-docs/stable/user_guide/indexing.html#returning-a-view-versus-a-copy\n",
      "  df.rename(columns={\"index\": \"df_index\"}, inplace=True)\n",
      "Summarize dataset:  81%|████████▏ | 22/27 [00:00<00:00, 84.40it/s, Calculate auto correlation]          c:\\Users\\Krishna\\.conda\\envs\\DATA_FORT\\Lib\\site-packages\\ydata_profiling\\model\\pandas\\discretize_pandas.py:52: FutureWarning: Setting an item of incompatible dtype is deprecated and will raise in a future error of pandas. Value '[0 0 0 0 0 0 0 0 0 0 0 0 0 0 0 0 0 0 2 2 2 2 2 2 2 2 2 2 2 2 2 2 2 2 2 2 2\n",
      " 4 4 4 4 4 4 7 7 7 7 7 7 7 7 7 7 7 7 7 7 7 7 7 7 7 7 7 7 7 7 7 9 9 9 9 9 9\n",
      " 9]' has dtype incompatible with int32, please explicitly cast to a compatible dtype first.\n",
      "  discretized_df.loc[:, column] = self._discretize_column(\n",
      "c:\\Users\\Krishna\\.conda\\envs\\DATA_FORT\\Lib\\site-packages\\ydata_profiling\\model\\pandas\\discretize_pandas.py:52: FutureWarning: Setting an item of incompatible dtype is deprecated and will raise in a future error of pandas. Value '[2 2 3 3 4 4 5 5 6 6 7 7 8 8 9 9 9 9 0 0 0 0 1 1 2 2 3 3 4 4 5 5 6 6 7 7 7\n",
      " 8 8 9 9 9 9 0 0 0 0 1 1 2 2 3 3 4 4 5 5 6 6 7 7 8 8 9 9 9 9 9 0 0 0 0 1 1\n",
      " 1]' has dtype incompatible with int32, please explicitly cast to a compatible dtype first.\n",
      "  discretized_df.loc[:, column] = self._discretize_column(\n",
      "c:\\Users\\Krishna\\.conda\\envs\\DATA_FORT\\Lib\\site-packages\\ydata_profiling\\model\\pandas\\discretize_pandas.py:52: FutureWarning: Setting an item of incompatible dtype is deprecated and will raise in a future error of pandas. Value '[3 9 3 9 3 9 3 9 3 9 3 9 3 9 3 9 3 9 3 9 3 9 3 9 3 9 3 9 3 9 3 9 3 9 0 3 9\n",
      " 3 9 3 9 3 9 3 9 3 8 3 9 3 9 3 9 3 9 3 9 3 9 3 9 3 9 3 9 3 9 9 3 9 3 8 3 9\n",
      " 9]' has dtype incompatible with int32, please explicitly cast to a compatible dtype first.\n",
      "  discretized_df.loc[:, column] = self._discretize_column(\n",
      "c:\\Users\\Krishna\\.conda\\envs\\DATA_FORT\\Lib\\site-packages\\ydata_profiling\\model\\pandas\\discretize_pandas.py:52: FutureWarning: Setting an item of incompatible dtype is deprecated and will raise in a future error of pandas. Value '[0 1 3 6 8 9 0 3 4 8 9 0 1 4 6 8 9 1 3 6 8 8 9 1 3 4 6 9 0 1 3 6 8 0 8 1 3\n",
      " 6 9 0 1 3 6 8 0 1 0 1 4 6 8 9 1 3 4 6 9 0 3 4 6 8 0 1 3 4 6 8 9 1 3 1 3 4\n",
      " 6]' has dtype incompatible with int32, please explicitly cast to a compatible dtype first.\n",
      "  discretized_df.loc[:, column] = self._discretize_column(\n",
      "c:\\Users\\Krishna\\.conda\\envs\\DATA_FORT\\Lib\\site-packages\\ydata_profiling\\model\\pandas\\discretize_pandas.py:52: FutureWarning: Setting an item of incompatible dtype is deprecated and will raise in a future error of pandas. Value '[3 3 3 3 3 3 6 6 6 6 6 6 9 9 9 9 9 9 0 0 0 0 0 0 3 3 3 3 3 3 6 6 6 6 6 6 6\n",
      " 9 9 9 9 9 9 0 0 0 0 0 0 3 3 3 3 3 3 6 6 6 6 6 6 9 9 9 9 9 9 9 0 0 0 0 0 0\n",
      " 0]' has dtype incompatible with int32, please explicitly cast to a compatible dtype first.\n",
      "  discretized_df.loc[:, column] = self._discretize_column(\n",
      "c:\\Users\\Krishna\\.conda\\envs\\DATA_FORT\\Lib\\site-packages\\ydata_profiling\\model\\pandas\\discretize_pandas.py:52: FutureWarning: Setting an item of incompatible dtype is deprecated and will raise in a future error of pandas. Value '[2 2 3 3 4 4 5 5 6 6 6 7 7 8 8 9 9 9 0 0 0 1 1 2 2 3 3 3 4 4 5 5 6 6 6 6 7\n",
      " 7 8 8 9 9 9 0 0 0 1 1 2 2 2 3 3 4 4 5 5 6 6 6 7 7 8 8 9 9 9 9 0 0 0 1 1 2\n",
      " 2]' has dtype incompatible with int32, please explicitly cast to a compatible dtype first.\n",
      "  discretized_df.loc[:, column] = self._discretize_column(\n",
      "c:\\Users\\Krishna\\.conda\\envs\\DATA_FORT\\Lib\\site-packages\\ydata_profiling\\model\\correlations.py:66: UserWarning: There was an attempt to calculate the auto correlation, but this failed.\n",
      "To hide this warning, disable the calculation\n",
      "(using `df.profile_report(correlations={\"auto\": {\"calculate\": False}})`\n",
      "If this is problematic for your use case, please report this as an issue:\n",
      "https://github.com/ydataai/ydata-profiling/issues\n",
      "(include the error message: 'could not convert string to float: 'Dahej, Gujarat'')\n",
      "  warnings.warn(\n",
      "Summarize dataset: 100%|██████████| 151/151 [00:16<00:00,  9.09it/s, Completed]                                      \n",
      "Generate report structure: 100%|██████████| 1/1 [00:07<00:00,  7.00s/it]\n",
      "Render HTML: 100%|██████████| 1/1 [00:01<00:00,  1.88s/it]\n",
      "Export report to file: 100%|██████████| 1/1 [00:00<00:00, 100.12it/s]\n"
     ]
    },
    {
     "name": "stdout",
     "output_type": "stream",
     "text": [
      "10226_done\n"
     ]
    },
    {
     "name": "stderr",
     "output_type": "stream",
     "text": [
      "c:\\Users\\Krishna\\.conda\\envs\\DATA_FORT\\Lib\\site-packages\\ydata_profiling\\utils\\dataframe.py:137: SettingWithCopyWarning: \n",
      "A value is trying to be set on a copy of a slice from a DataFrame\n",
      "\n",
      "See the caveats in the documentation: https://pandas.pydata.org/pandas-docs/stable/user_guide/indexing.html#returning-a-view-versus-a-copy\n",
      "  df.rename(columns={\"index\": \"df_index\"}, inplace=True)\n",
      "Summarize dataset:  81%|████████▏ | 22/27 [00:00<00:00, 81.91it/s, Calculate auto correlation]           c:\\Users\\Krishna\\.conda\\envs\\DATA_FORT\\Lib\\site-packages\\ydata_profiling\\model\\pandas\\discretize_pandas.py:52: FutureWarning: Setting an item of incompatible dtype is deprecated and will raise in a future error of pandas. Value '[0 0 0 0 0 0 0 0 0 0 0 0 0 0 4 4 4 4 4 4 4 4 4 4 4 4 4 4 4 4 4 9 9 9 9 9 9]' has dtype incompatible with int32, please explicitly cast to a compatible dtype first.\n",
      "  discretized_df.loc[:, column] = self._discretize_column(\n",
      "c:\\Users\\Krishna\\.conda\\envs\\DATA_FORT\\Lib\\site-packages\\ydata_profiling\\model\\pandas\\discretize_pandas.py:52: FutureWarning: Setting an item of incompatible dtype is deprecated and will raise in a future error of pandas. Value '[2 2 3 3 4 4 5 7 8 8 9 9 9 9 0 0 0 0 1 1 2 2 3 3 4 4 5 6 6 7 7 8 8 9 9 9 9]' has dtype incompatible with int32, please explicitly cast to a compatible dtype first.\n",
      "  discretized_df.loc[:, column] = self._discretize_column(\n",
      "c:\\Users\\Krishna\\.conda\\envs\\DATA_FORT\\Lib\\site-packages\\ydata_profiling\\model\\pandas\\discretize_pandas.py:52: FutureWarning: Setting an item of incompatible dtype is deprecated and will raise in a future error of pandas. Value '[4 9 4 9 4 9 0 9 4 9 4 9 4 9 4 9 4 9 4 9 4 9 4 9 4 9 4 4 9 4 9 4 9 4 9 4 9]' has dtype incompatible with int32, please explicitly cast to a compatible dtype first.\n",
      "  discretized_df.loc[:, column] = self._discretize_column(\n",
      "c:\\Users\\Krishna\\.conda\\envs\\DATA_FORT\\Lib\\site-packages\\ydata_profiling\\model\\pandas\\discretize_pandas.py:52: FutureWarning: Setting an item of incompatible dtype is deprecated and will raise in a future error of pandas. Value '[0 1 3 6 8 9 4 0 1 4 6 8 9 1 3 6 8 8 9 1 3 4 6 9 0 1 3 8 0 1 3 6 9 0 1 3 6]' has dtype incompatible with int32, please explicitly cast to a compatible dtype first.\n",
      "  discretized_df.loc[:, column] = self._discretize_column(\n",
      "c:\\Users\\Krishna\\.conda\\envs\\DATA_FORT\\Lib\\site-packages\\ydata_profiling\\model\\pandas\\discretize_pandas.py:52: FutureWarning: Setting an item of incompatible dtype is deprecated and will raise in a future error of pandas. Value '[3 3 3 3 3 3 6 6 9 9 9 9 9 9 0 0 0 0 0 0 3 3 3 3 3 3 6 6 6 6 6 9 9 9 9 9 9]' has dtype incompatible with int32, please explicitly cast to a compatible dtype first.\n",
      "  discretized_df.loc[:, column] = self._discretize_column(\n",
      "c:\\Users\\Krishna\\.conda\\envs\\DATA_FORT\\Lib\\site-packages\\ydata_profiling\\model\\pandas\\discretize_pandas.py:52: FutureWarning: Setting an item of incompatible dtype is deprecated and will raise in a future error of pandas. Value '[2 2 3 3 4 4 4 7 7 8 8 9 9 9 0 0 0 1 1 2 2 3 3 3 4 4 5 6 6 6 7 7 8 8 9 9 9]' has dtype incompatible with int32, please explicitly cast to a compatible dtype first.\n",
      "  discretized_df.loc[:, column] = self._discretize_column(\n",
      "c:\\Users\\Krishna\\.conda\\envs\\DATA_FORT\\Lib\\site-packages\\ydata_profiling\\model\\correlations.py:66: UserWarning: There was an attempt to calculate the auto correlation, but this failed.\n",
      "To hide this warning, disable the calculation\n",
      "(using `df.profile_report(correlations={\"auto\": {\"calculate\": False}})`\n",
      "If this is problematic for your use case, please report this as an issue:\n",
      "https://github.com/ydataai/ydata-profiling/issues\n",
      "(include the error message: 'could not convert string to float: 'Delhi, India'')\n",
      "  warnings.warn(\n",
      "Summarize dataset: 100%|██████████| 151/151 [00:16<00:00,  9.12it/s, Completed]                                      \n",
      "Generate report structure: 100%|██████████| 1/1 [00:06<00:00,  6.44s/it]\n",
      "Render HTML: 100%|██████████| 1/1 [00:01<00:00,  1.64s/it]\n",
      "Export report to file: 100%|██████████| 1/1 [00:00<00:00, 100.06it/s]\n"
     ]
    },
    {
     "name": "stdout",
     "output_type": "stream",
     "text": [
      "10272_done\n"
     ]
    },
    {
     "name": "stderr",
     "output_type": "stream",
     "text": [
      "c:\\Users\\Krishna\\.conda\\envs\\DATA_FORT\\Lib\\site-packages\\ydata_profiling\\utils\\dataframe.py:137: SettingWithCopyWarning: \n",
      "A value is trying to be set on a copy of a slice from a DataFrame\n",
      "\n",
      "See the caveats in the documentation: https://pandas.pydata.org/pandas-docs/stable/user_guide/indexing.html#returning-a-view-versus-a-copy\n",
      "  df.rename(columns={\"index\": \"df_index\"}, inplace=True)\n",
      "Summarize dataset:  81%|████████▏ | 22/27 [00:00<00:00, 98.57it/s, Calculate auto correlation]          c:\\Users\\Krishna\\.conda\\envs\\DATA_FORT\\Lib\\site-packages\\ydata_profiling\\model\\pandas\\discretize_pandas.py:52: FutureWarning: Setting an item of incompatible dtype is deprecated and will raise in a future error of pandas. Value '[0 0 0 0 0 0 0 0 0 0 0 0 0 0 0 0 0 0 2 2 2 2 2 2 2 2 2 2 2 2 2 2 2 2 2 2 4\n",
      " 4 4 4 4 4 7 7 7 7 7 7 7 7 7 7 7 7 7 7 7 7 7 7 7 7 7 7 7 7 9 9 9 9 9 9]' has dtype incompatible with int32, please explicitly cast to a compatible dtype first.\n",
      "  discretized_df.loc[:, column] = self._discretize_column(\n",
      "c:\\Users\\Krishna\\.conda\\envs\\DATA_FORT\\Lib\\site-packages\\ydata_profiling\\model\\pandas\\discretize_pandas.py:52: FutureWarning: Setting an item of incompatible dtype is deprecated and will raise in a future error of pandas. Value '[2 2 3 3 4 4 5 5 6 6 7 7 8 8 9 9 9 9 0 0 0 0 1 1 2 2 3 3 4 4 5 5 6 6 7 7 8\n",
      " 8 9 9 9 9 0 0 0 0 1 1 2 2 3 3 4 4 5 5 6 6 7 7 8 8 9 9 9 9 0 0 0 0 1 1]' has dtype incompatible with int32, please explicitly cast to a compatible dtype first.\n",
      "  discretized_df.loc[:, column] = self._discretize_column(\n",
      "c:\\Users\\Krishna\\.conda\\envs\\DATA_FORT\\Lib\\site-packages\\ydata_profiling\\model\\pandas\\discretize_pandas.py:52: FutureWarning: Setting an item of incompatible dtype is deprecated and will raise in a future error of pandas. Value '[0 9 0 9 0 9 0 9 0 9 0 9 0 9 0 9 0 9 0 9 0 8 0 9 0 9 0 9 0 9 0 9 0 9 0 9 0\n",
      " 9 0 9 0 9 0 9 0 8 0 9 0 9 0 9 0 9 0 9 0 9 0 9 0 9 0 9 0 9 0 9 0 8 0 9]' has dtype incompatible with int32, please explicitly cast to a compatible dtype first.\n",
      "  discretized_df.loc[:, column] = self._discretize_column(\n",
      "c:\\Users\\Krishna\\.conda\\envs\\DATA_FORT\\Lib\\site-packages\\ydata_profiling\\model\\pandas\\discretize_pandas.py:52: FutureWarning: Setting an item of incompatible dtype is deprecated and will raise in a future error of pandas. Value '[0 1 3 6 8 9 0 3 4 8 9 0 1 4 6 8 9 1 3 6 8 8 9 1 3 4 6 9 0 1 3 6 8 0 1 3 6\n",
      " 9 0 1 3 6 8 0 1 0 1 4 6 8 9 1 3 4 6 9 0 3 4 6 8 0 1 3 4 8 9 1 3 1 3 6]' has dtype incompatible with int32, please explicitly cast to a compatible dtype first.\n",
      "  discretized_df.loc[:, column] = self._discretize_column(\n",
      "c:\\Users\\Krishna\\.conda\\envs\\DATA_FORT\\Lib\\site-packages\\ydata_profiling\\model\\pandas\\discretize_pandas.py:52: FutureWarning: Setting an item of incompatible dtype is deprecated and will raise in a future error of pandas. Value '[3 3 3 3 3 3 6 6 6 6 6 6 9 9 9 9 9 9 0 0 0 0 0 0 3 3 3 3 3 3 6 6 6 6 6 6 9\n",
      " 9 9 9 9 9 0 0 0 0 0 0 3 3 3 3 3 3 6 6 6 6 6 6 9 9 9 9 9 9 0 0 0 0 0 0]' has dtype incompatible with int32, please explicitly cast to a compatible dtype first.\n",
      "  discretized_df.loc[:, column] = self._discretize_column(\n",
      "c:\\Users\\Krishna\\.conda\\envs\\DATA_FORT\\Lib\\site-packages\\ydata_profiling\\model\\pandas\\discretize_pandas.py:52: FutureWarning: Setting an item of incompatible dtype is deprecated and will raise in a future error of pandas. Value '[2 2 3 3 4 4 5 5 6 6 6 7 7 8 8 9 9 9 0 0 0 1 1 2 2 3 3 3 4 4 5 5 6 6 6 7 7\n",
      " 8 8 9 9 9 0 0 0 1 1 2 2 2 3 3 4 4 5 5 6 6 6 7 7 8 8 9 9 9 0 0 0 1 1 2]' has dtype incompatible with int32, please explicitly cast to a compatible dtype first.\n",
      "  discretized_df.loc[:, column] = self._discretize_column(\n",
      "c:\\Users\\Krishna\\.conda\\envs\\DATA_FORT\\Lib\\site-packages\\ydata_profiling\\model\\correlations.py:66: UserWarning: There was an attempt to calculate the auto correlation, but this failed.\n",
      "To hide this warning, disable the calculation\n",
      "(using `df.profile_report(correlations={\"auto\": {\"calculate\": False}})`\n",
      "If this is problematic for your use case, please report this as an issue:\n",
      "https://github.com/ydataai/ydata-profiling/issues\n",
      "(include the error message: 'could not convert string to float: 'Spring'')\n",
      "  warnings.warn(\n",
      "Summarize dataset: 100%|██████████| 130/130 [00:14<00:00,  8.99it/s, Completed]                                      \n",
      "Generate report structure: 100%|██████████| 1/1 [00:07<00:00,  7.13s/it]\n",
      "Render HTML: 100%|██████████| 1/1 [00:01<00:00,  1.63s/it]\n",
      "Export report to file: 100%|██████████| 1/1 [00:00<00:00, 110.53it/s]\n"
     ]
    },
    {
     "name": "stdout",
     "output_type": "stream",
     "text": [
      "10282_done\n"
     ]
    },
    {
     "name": "stderr",
     "output_type": "stream",
     "text": [
      "c:\\Users\\Krishna\\.conda\\envs\\DATA_FORT\\Lib\\site-packages\\ydata_profiling\\utils\\dataframe.py:137: SettingWithCopyWarning: \n",
      "A value is trying to be set on a copy of a slice from a DataFrame\n",
      "\n",
      "See the caveats in the documentation: https://pandas.pydata.org/pandas-docs/stable/user_guide/indexing.html#returning-a-view-versus-a-copy\n",
      "  df.rename(columns={\"index\": \"df_index\"}, inplace=True)\n",
      "Summarize dataset:  81%|████████▏ | 22/27 [00:00<00:00, 49.43it/s, Calculate auto correlation]          c:\\Users\\Krishna\\.conda\\envs\\DATA_FORT\\Lib\\site-packages\\ydata_profiling\\model\\pandas\\discretize_pandas.py:52: FutureWarning: Setting an item of incompatible dtype is deprecated and will raise in a future error of pandas. Value '[0 0 0 0 0 0 0 0 0 0 0 0 0 0 0 0 0 0 2 2 2 2 2 2 2 2 2 2 2 2 2 2 2 2 4 4 4\n",
      " 4 4 4 7 7 7 7 7 7 7 7 7 7 7 7 7 7 7 7 7 7 7 7 7 7 7 7 9 9 9 9 9 9 9]' has dtype incompatible with int32, please explicitly cast to a compatible dtype first.\n",
      "  discretized_df.loc[:, column] = self._discretize_column(\n",
      "c:\\Users\\Krishna\\.conda\\envs\\DATA_FORT\\Lib\\site-packages\\ydata_profiling\\model\\pandas\\discretize_pandas.py:52: FutureWarning: Setting an item of incompatible dtype is deprecated and will raise in a future error of pandas. Value '[2 2 3 3 4 4 5 5 6 6 7 7 8 8 9 9 9 9 0 0 0 0 1 1 2 2 3 4 5 5 6 6 7 7 8 8 9\n",
      " 9 9 9 0 0 0 0 1 1 2 2 3 3 4 4 5 5 6 6 7 7 8 8 9 9 9 9 0 0 0 0 1 1 1]' has dtype incompatible with int32, please explicitly cast to a compatible dtype first.\n",
      "  discretized_df.loc[:, column] = self._discretize_column(\n",
      "c:\\Users\\Krishna\\.conda\\envs\\DATA_FORT\\Lib\\site-packages\\ydata_profiling\\model\\pandas\\discretize_pandas.py:52: FutureWarning: Setting an item of incompatible dtype is deprecated and will raise in a future error of pandas. Value '[0 9 0 9 0 9 0 9 0 9 0 9 0 9 0 9 0 9 0 9 0 8 0 9 0 9 0 9 0 9 0 9 0 9 0 9 0\n",
      " 9 0 9 0 9 0 8 0 9 0 9 0 9 0 9 0 9 0 9 0 9 0 9 0 9 0 9 0 9 0 8 0 9 9]' has dtype incompatible with int32, please explicitly cast to a compatible dtype first.\n",
      "  discretized_df.loc[:, column] = self._discretize_column(\n",
      "c:\\Users\\Krishna\\.conda\\envs\\DATA_FORT\\Lib\\site-packages\\ydata_profiling\\model\\pandas\\discretize_pandas.py:52: FutureWarning: Setting an item of incompatible dtype is deprecated and will raise in a future error of pandas. Value '[0 1 3 6 8 9 0 3 4 8 9 0 1 4 6 8 9 1 3 6 8 8 9 1 3 4 6 1 3 6 8 0 1 3 6 9 0\n",
      " 1 3 6 8 0 1 0 1 4 6 8 9 1 3 4 6 9 0 3 4 6 8 0 1 3 4 8 9 1 3 1 3 4 6]' has dtype incompatible with int32, please explicitly cast to a compatible dtype first.\n",
      "  discretized_df.loc[:, column] = self._discretize_column(\n",
      "c:\\Users\\Krishna\\.conda\\envs\\DATA_FORT\\Lib\\site-packages\\ydata_profiling\\model\\pandas\\discretize_pandas.py:52: FutureWarning: Setting an item of incompatible dtype is deprecated and will raise in a future error of pandas. Value '[3 3 3 3 3 3 6 6 6 6 6 6 9 9 9 9 9 9 0 0 0 0 0 0 3 3 3 3 6 6 6 6 6 6 9 9 9\n",
      " 9 9 9 0 0 0 0 0 0 3 3 3 3 3 3 6 6 6 6 6 6 9 9 9 9 9 9 0 0 0 0 0 0 0]' has dtype incompatible with int32, please explicitly cast to a compatible dtype first.\n",
      "  discretized_df.loc[:, column] = self._discretize_column(\n",
      "c:\\Users\\Krishna\\.conda\\envs\\DATA_FORT\\Lib\\site-packages\\ydata_profiling\\model\\pandas\\discretize_pandas.py:52: FutureWarning: Setting an item of incompatible dtype is deprecated and will raise in a future error of pandas. Value '[2 2 3 3 4 4 5 5 6 6 6 7 7 8 8 9 9 9 0 0 0 1 1 2 2 3 3 4 5 5 6 6 6 7 7 8 8\n",
      " 9 9 9 0 0 0 1 1 2 2 2 3 3 4 4 5 5 6 6 6 7 7 8 8 9 9 9 0 0 0 1 1 2 2]' has dtype incompatible with int32, please explicitly cast to a compatible dtype first.\n",
      "  discretized_df.loc[:, column] = self._discretize_column(\n",
      "c:\\Users\\Krishna\\.conda\\envs\\DATA_FORT\\Lib\\site-packages\\ydata_profiling\\model\\correlations.py:66: UserWarning: There was an attempt to calculate the auto correlation, but this failed.\n",
      "To hide this warning, disable the calculation\n",
      "(using `df.profile_report(correlations={\"auto\": {\"calculate\": False}})`\n",
      "If this is problematic for your use case, please report this as an issue:\n",
      "https://github.com/ydataai/ydata-profiling/issues\n",
      "(include the error message: 'could not convert string to float: 'Spring'')\n",
      "  warnings.warn(\n",
      "Summarize dataset: 100%|██████████| 130/130 [00:14<00:00,  9.19it/s, Completed]                                      \n",
      "Generate report structure: 100%|██████████| 1/1 [00:07<00:00,  7.19s/it]\n",
      "Render HTML: 100%|██████████| 1/1 [00:01<00:00,  1.64s/it]\n",
      "Export report to file: 100%|██████████| 1/1 [00:00<00:00, 111.13it/s]\n"
     ]
    },
    {
     "name": "stdout",
     "output_type": "stream",
     "text": [
      "10307_done\n"
     ]
    },
    {
     "name": "stderr",
     "output_type": "stream",
     "text": [
      "c:\\Users\\Krishna\\.conda\\envs\\DATA_FORT\\Lib\\site-packages\\ydata_profiling\\utils\\dataframe.py:137: SettingWithCopyWarning: \n",
      "A value is trying to be set on a copy of a slice from a DataFrame\n",
      "\n",
      "See the caveats in the documentation: https://pandas.pydata.org/pandas-docs/stable/user_guide/indexing.html#returning-a-view-versus-a-copy\n",
      "  df.rename(columns={\"index\": \"df_index\"}, inplace=True)\n",
      "Summarize dataset:  81%|████████▏ | 22/27 [00:00<00:00,  8.44it/s, Calculate auto correlation]          c:\\Users\\Krishna\\.conda\\envs\\DATA_FORT\\Lib\\site-packages\\ydata_profiling\\model\\pandas\\discretize_pandas.py:52: FutureWarning: Setting an item of incompatible dtype is deprecated and will raise in a future error of pandas. Value '[0 0 0 0 0 0 0 0 0 0 0 0 0 0 0 0 0 2 2 2 2 2 2 2 2 2 2 2 2 2 2 2 2 4 4 4 4\n",
      " 4 7 7 7 7 7 7 7 7 7 7 7 7 7 7 7 7 7 7 7 7 7 7 7 7 9 9 9 9 9 9 9]' has dtype incompatible with int32, please explicitly cast to a compatible dtype first.\n",
      "  discretized_df.loc[:, column] = self._discretize_column(\n",
      "c:\\Users\\Krishna\\.conda\\envs\\DATA_FORT\\Lib\\site-packages\\ydata_profiling\\model\\pandas\\discretize_pandas.py:52: FutureWarning: Setting an item of incompatible dtype is deprecated and will raise in a future error of pandas. Value '[2 2 3 3 4 4 5 5 6 7 7 8 8 9 9 9 9 0 0 0 1 1 2 3 4 4 5 5 6 6 7 7 7 8 8 9 9\n",
      " 9 0 0 0 1 1 2 2 3 3 4 4 5 5 6 6 7 7 8 8 9 9 9 9 9 0 0 0 0 1 1 1]' has dtype incompatible with int32, please explicitly cast to a compatible dtype first.\n",
      "  discretized_df.loc[:, column] = self._discretize_column(\n",
      "c:\\Users\\Krishna\\.conda\\envs\\DATA_FORT\\Lib\\site-packages\\ydata_profiling\\model\\pandas\\discretize_pandas.py:52: FutureWarning: Setting an item of incompatible dtype is deprecated and will raise in a future error of pandas. Value '[0 9 0 9 0 9 0 9 9 0 9 0 9 0 9 0 9 0 9 8 0 9 0 0 0 9 0 9 0 9 0 1 9 0 9 0 9\n",
      " 9 9 0 8 0 9 0 9 0 9 0 9 0 9 0 9 0 9 0 9 0 9 0 9 9 0 9 0 8 0 9 9]' has dtype incompatible with int32, please explicitly cast to a compatible dtype first.\n",
      "  discretized_df.loc[:, column] = self._discretize_column(\n",
      "c:\\Users\\Krishna\\.conda\\envs\\DATA_FORT\\Lib\\site-packages\\ydata_profiling\\model\\pandas\\discretize_pandas.py:52: FutureWarning: Setting an item of incompatible dtype is deprecated and will raise in a future error of pandas. Value '[0 1 3 6 8 9 0 3 8 9 0 1 4 6 8 9 1 3 6 8 9 0 3 6 0 1 3 6 8 0 1 4 3 6 9 0 1\n",
      " 6 0 1 0 1 4 6 8 9 1 3 4 6 9 0 3 4 6 8 0 1 3 4 6 8 9 1 3 1 3 4 6]' has dtype incompatible with int32, please explicitly cast to a compatible dtype first.\n",
      "  discretized_df.loc[:, column] = self._discretize_column(\n",
      "c:\\Users\\Krishna\\.conda\\envs\\DATA_FORT\\Lib\\site-packages\\ydata_profiling\\model\\pandas\\discretize_pandas.py:52: FutureWarning: Setting an item of incompatible dtype is deprecated and will raise in a future error of pandas. Value '[3 3 3 3 3 3 6 6 6 6 6 9 9 9 9 9 9 0 0 0 0 0 3 3 3 3 6 6 6 6 6 6 6 9 9 9 9\n",
      " 9 0 0 0 0 0 3 3 3 3 3 3 6 6 6 6 6 6 9 9 9 9 9 9 9 0 0 0 0 0 0 0]' has dtype incompatible with int32, please explicitly cast to a compatible dtype first.\n",
      "  discretized_df.loc[:, column] = self._discretize_column(\n",
      "c:\\Users\\Krishna\\.conda\\envs\\DATA_FORT\\Lib\\site-packages\\ydata_profiling\\model\\pandas\\discretize_pandas.py:52: FutureWarning: Setting an item of incompatible dtype is deprecated and will raise in a future error of pandas. Value '[2 2 3 3 4 4 5 5 6 6 7 7 8 8 9 9 9 0 0 1 1 2 2 3 4 4 5 5 6 6 6 7 7 7 8 8 9\n",
      " 9 0 0 1 1 2 2 2 3 3 4 4 5 5 6 6 6 7 7 8 8 9 9 9 9 0 0 0 1 1 2 2]' has dtype incompatible with int32, please explicitly cast to a compatible dtype first.\n",
      "  discretized_df.loc[:, column] = self._discretize_column(\n",
      "c:\\Users\\Krishna\\.conda\\envs\\DATA_FORT\\Lib\\site-packages\\ydata_profiling\\model\\correlations.py:66: UserWarning: There was an attempt to calculate the auto correlation, but this failed.\n",
      "To hide this warning, disable the calculation\n",
      "(using `df.profile_report(correlations={\"auto\": {\"calculate\": False}})`\n",
      "If this is problematic for your use case, please report this as an issue:\n",
      "https://github.com/ydataai/ydata-profiling/issues\n",
      "(include the error message: 'could not convert string to float: 'Dahej, Gujarat'')\n",
      "  warnings.warn(\n",
      "Summarize dataset: 100%|██████████| 151/151 [00:17<00:00,  8.85it/s, Completed]                                      \n",
      "Generate report structure: 100%|██████████| 1/1 [00:06<00:00,  6.93s/it]\n",
      "Render HTML: 100%|██████████| 1/1 [00:01<00:00,  1.99s/it]\n",
      "Export report to file: 100%|██████████| 1/1 [00:00<00:00, 98.26it/s]\n"
     ]
    },
    {
     "name": "stdout",
     "output_type": "stream",
     "text": [
      "10331_done\n"
     ]
    },
    {
     "name": "stderr",
     "output_type": "stream",
     "text": [
      "c:\\Users\\Krishna\\.conda\\envs\\DATA_FORT\\Lib\\site-packages\\ydata_profiling\\utils\\dataframe.py:137: SettingWithCopyWarning: \n",
      "A value is trying to be set on a copy of a slice from a DataFrame\n",
      "\n",
      "See the caveats in the documentation: https://pandas.pydata.org/pandas-docs/stable/user_guide/indexing.html#returning-a-view-versus-a-copy\n",
      "  df.rename(columns={\"index\": \"df_index\"}, inplace=True)\n",
      "Summarize dataset:  81%|████████▏ | 22/27 [00:00<00:00, 110.68it/s, Calculate auto correlation]         c:\\Users\\Krishna\\.conda\\envs\\DATA_FORT\\Lib\\site-packages\\ydata_profiling\\model\\pandas\\discretize_pandas.py:52: FutureWarning: Setting an item of incompatible dtype is deprecated and will raise in a future error of pandas. Value '[0 0 0 0 0 0 0 0 0 0 0 0 0 0 0 0 0 0 2 2 2 2 2 2 2 2 2 2 2 2 2 2 2 2 4 4 4\n",
      " 4 4 4 7 7 7 7 7 7 7 7 7 7 7 7 7 7 7 7 7 7 7 7 7 7 9 9 9 9 9]' has dtype incompatible with int32, please explicitly cast to a compatible dtype first.\n",
      "  discretized_df.loc[:, column] = self._discretize_column(\n",
      "c:\\Users\\Krishna\\.conda\\envs\\DATA_FORT\\Lib\\site-packages\\ydata_profiling\\model\\pandas\\discretize_pandas.py:52: FutureWarning: Setting an item of incompatible dtype is deprecated and will raise in a future error of pandas. Value '[2 2 3 3 4 4 5 5 6 6 7 7 8 8 9 9 9 9 0 0 0 1 2 2 3 3 4 4 5 5 6 6 7 7 8 8 9\n",
      " 9 9 9 0 0 1 1 2 2 3 3 4 5 5 6 6 7 7 8 8 9 9 9 9 9 0 0 0 0 1]' has dtype incompatible with int32, please explicitly cast to a compatible dtype first.\n",
      "  discretized_df.loc[:, column] = self._discretize_column(\n",
      "c:\\Users\\Krishna\\.conda\\envs\\DATA_FORT\\Lib\\site-packages\\ydata_profiling\\model\\pandas\\discretize_pandas.py:52: FutureWarning: Setting an item of incompatible dtype is deprecated and will raise in a future error of pandas. Value '[0 9 0 9 0 9 0 9 0 9 0 9 0 9 0 9 0 9 0 0 8 9 0 9 0 9 0 9 0 9 0 9 0 9 0 9 0\n",
      " 9 0 9 0 8 0 9 0 9 0 9 9 0 9 0 9 0 9 0 9 0 9 0 9 9 0 9 0 8 9]' has dtype incompatible with int32, please explicitly cast to a compatible dtype first.\n",
      "  discretized_df.loc[:, column] = self._discretize_column(\n",
      "c:\\Users\\Krishna\\.conda\\envs\\DATA_FORT\\Lib\\site-packages\\ydata_profiling\\model\\pandas\\discretize_pandas.py:52: FutureWarning: Setting an item of incompatible dtype is deprecated and will raise in a future error of pandas. Value '[0 1 3 6 8 9 0 3 4 8 9 0 1 4 6 8 9 1 3 8 8 1 3 4 6 9 0 1 3 6 8 0 1 3 6 9 0\n",
      " 1 3 6 8 0 1 4 6 8 9 1 4 6 9 0 3 4 6 8 0 1 3 4 6 8 9 1 3 1 4]' has dtype incompatible with int32, please explicitly cast to a compatible dtype first.\n",
      "  discretized_df.loc[:, column] = self._discretize_column(\n",
      "c:\\Users\\Krishna\\.conda\\envs\\DATA_FORT\\Lib\\site-packages\\ydata_profiling\\model\\pandas\\discretize_pandas.py:52: FutureWarning: Setting an item of incompatible dtype is deprecated and will raise in a future error of pandas. Value '[3 3 3 3 3 3 6 6 6 6 6 6 9 9 9 9 9 9 0 0 0 0 3 3 3 3 3 3 6 6 6 6 6 6 9 9 9\n",
      " 9 9 9 0 0 0 0 3 3 3 3 3 6 6 6 6 6 6 9 9 9 9 9 9 9 0 0 0 0 0]' has dtype incompatible with int32, please explicitly cast to a compatible dtype first.\n",
      "  discretized_df.loc[:, column] = self._discretize_column(\n",
      "c:\\Users\\Krishna\\.conda\\envs\\DATA_FORT\\Lib\\site-packages\\ydata_profiling\\model\\pandas\\discretize_pandas.py:52: FutureWarning: Setting an item of incompatible dtype is deprecated and will raise in a future error of pandas. Value '[2 2 3 3 4 4 5 5 6 6 6 7 7 8 8 9 9 9 0 0 1 2 2 3 3 3 4 4 5 5 6 6 6 7 7 8 8\n",
      " 9 9 9 0 1 1 2 2 2 3 3 4 5 5 6 6 6 7 7 8 8 9 9 9 9 0 0 0 1 2]' has dtype incompatible with int32, please explicitly cast to a compatible dtype first.\n",
      "  discretized_df.loc[:, column] = self._discretize_column(\n",
      "c:\\Users\\Krishna\\.conda\\envs\\DATA_FORT\\Lib\\site-packages\\ydata_profiling\\model\\correlations.py:66: UserWarning: There was an attempt to calculate the auto correlation, but this failed.\n",
      "To hide this warning, disable the calculation\n",
      "(using `df.profile_report(correlations={\"auto\": {\"calculate\": False}})`\n",
      "If this is problematic for your use case, please report this as an issue:\n",
      "https://github.com/ydataai/ydata-profiling/issues\n",
      "(include the error message: 'could not convert string to float: 'Spring'')\n",
      "  warnings.warn(\n",
      "Summarize dataset: 100%|██████████| 130/130 [00:14<00:00,  9.24it/s, Completed]                                      \n",
      "Generate report structure: 100%|██████████| 1/1 [00:06<00:00,  6.98s/it]\n",
      "Render HTML: 100%|██████████| 1/1 [00:01<00:00,  1.81s/it]\n",
      "Export report to file: 100%|██████████| 1/1 [00:00<00:00, 90.77it/s]\n"
     ]
    },
    {
     "name": "stdout",
     "output_type": "stream",
     "text": [
      "10333_done\n"
     ]
    }
   ],
   "source": [
    "import pandas as pd\n",
    "import ydata_profiling\n",
    "from ydata_profiling import ProfileReport\n",
    "\n",
    "clients = final['SOLD TO PARTY'].unique()\n",
    "for client in clients:\n",
    "    df_part = final.loc[(final['SOLD TO PARTY'] == client)]\n",
    "    profile = ProfileReport(df_part, title=\"Profiling Report\", explorative=True)\n",
    "    profile.to_file(rf\"reports\\{client}_report.html\")\n",
    "    del(df_part)\n",
    "    print(f\"{client}_done\")"
   ]
  },
  {
   "cell_type": "code",
   "execution_count": null,
   "metadata": {},
   "outputs": [],
   "source": []
  }
 ],
 "metadata": {
  "kernelspec": {
   "display_name": "Python 3",
   "language": "python",
   "name": "python3"
  },
  "language_info": {
   "codemirror_mode": {
    "name": "ipython",
    "version": 3
   },
   "file_extension": ".py",
   "mimetype": "text/x-python",
   "name": "python",
   "nbconvert_exporter": "python",
   "pygments_lexer": "ipython3",
   "version": "3.12.4"
  }
 },
 "nbformat": 4,
 "nbformat_minor": 2
}
